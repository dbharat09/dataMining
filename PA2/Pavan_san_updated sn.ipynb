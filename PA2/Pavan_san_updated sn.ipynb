{
 "cells": [
  {
   "cell_type": "markdown",
   "id": "ecc5c302",
   "metadata": {},
   "source": [
    "# Data Mining Assignment 2_NN"
   ]
  },
  {
   "cell_type": "markdown",
   "id": "4e6ed629",
   "metadata": {},
   "source": [
    "## Student Details\n",
    "\n",
    "Student Name and ID of the member submitting the assignment: Sai Sandeep Gottipati 1001944726. \n",
    "\n",
    "Student Name and ID of the remaining members: Sreya Kotha 1002007076\n",
    "\n",
    "Notes:\n",
    "When submitting, fill your name and ID in this cell. Note that this is a markdown cell!<br>\n",
    "Do not make any changes in the dataset file and do not rename the 'database.csv'.\n",
    "<br> Rename your submission file to <b> 'yourLastName_Last4digitsofyourID_PA1.ipynb' </b>. \n",
    "<br> Do not to forget to cite any external sources used by you. \n",
    "**10 points per question will be deducted incase you fail to do so**\n",
    "<br>**DO NOT DELETE THIS CELL**<br>\n",
    "#### Please consult the TA before using any other packages apart from sklearn,numpy,pandas, matplotlib and seaborn"
   ]
  },
  {
   "cell_type": "markdown",
   "id": "10b74158",
   "metadata": {},
   "source": [
    "## Programming Assignment Submission Instructions (2 Points)\n",
    "\n",
    "Step 1: Rename this submission file as 'yourLastName_Last4digitsofyourID_DT.ipynb' [1 point]\n",
    "\n",
    "Step 2: Place this file inside the folder 'PA#2_Classification_yourLastName'  [1 point]"
   ]
  },
  {
   "cell_type": "markdown",
   "id": "4410c49a",
   "metadata": {},
   "source": [
    "## Programming Assignment Details (25 Points)\n",
    "\n",
    "For this assignment use Jupyter notebook, Panda, and scikit.\n",
    "\n",
    " * Load pima-indians-diabetes dataset from sklearn datasets. Output/prediction variable is 'class'[1 points]\n",
    " * while selecting best 3 attributes for training,validating and testing your model. [2 points]\n",
    " * Find the best K. [3 points]\n",
    " * Split your dataset - 60% for training set, 20% for Validation set and 20% for testing set the classifier. Use random state as 2022 [2 points]\n",
    " * Use minkowski distance.[1 points]\n",
    " * Test the classifier with three different numbers for neighbors and record the results for training, validation and testing. Show the best one.[3 points]\n",
    " * Use comments to explain your code and variable names.[4 points]\n",
    " * Calculate and print the confusion matrix, and the classification Report (includes:precision, recall, f1-score, and support) for all three different numbers.[6 points]\n",
    " * Plot the classifier in a 2D projection.[3 points]"
   ]
  },
  {
   "cell_type": "code",
   "execution_count": 11,
   "id": "be1c3ec8",
   "metadata": {},
   "outputs": [],
   "source": [
    "#importing the required modules\n",
    "import pandas as pd\n",
    "import numpy as np\n",
    "import matplotlib as plt\n",
    "import seaborn as sns \n",
    "from sklearn.model_selection import train_test_split\n",
    "\n",
    "from sklearn.preprocessing import StandardScaler\n",
    "from sklearn.neighbors import KNeighborsClassifier\n",
    "from sklearn.metrics import confusion_matrix\n",
    "from sklearn.metrics import classification_report\n",
    " "
   ]
  },
  {
   "cell_type": "code",
   "execution_count": 12,
   "id": "70dba48f",
   "metadata": {},
   "outputs": [
    {
     "data": {
      "text/html": [
       "<div>\n",
       "<style scoped>\n",
       "    .dataframe tbody tr th:only-of-type {\n",
       "        vertical-align: middle;\n",
       "    }\n",
       "\n",
       "    .dataframe tbody tr th {\n",
       "        vertical-align: top;\n",
       "    }\n",
       "\n",
       "    .dataframe thead th {\n",
       "        text-align: right;\n",
       "    }\n",
       "</style>\n",
       "<table border=\"1\" class=\"dataframe\">\n",
       "  <thead>\n",
       "    <tr style=\"text-align: right;\">\n",
       "      <th></th>\n",
       "      <th>Preg</th>\n",
       "      <th>Plas</th>\n",
       "      <th>Pres</th>\n",
       "      <th>skin</th>\n",
       "      <th>test</th>\n",
       "      <th>mass</th>\n",
       "      <th>pedi</th>\n",
       "      <th>age</th>\n",
       "      <th>class</th>\n",
       "    </tr>\n",
       "  </thead>\n",
       "  <tbody>\n",
       "    <tr>\n",
       "      <th>0</th>\n",
       "      <td>6</td>\n",
       "      <td>148</td>\n",
       "      <td>72</td>\n",
       "      <td>35</td>\n",
       "      <td>0</td>\n",
       "      <td>33.6</td>\n",
       "      <td>0.627</td>\n",
       "      <td>50</td>\n",
       "      <td>1</td>\n",
       "    </tr>\n",
       "    <tr>\n",
       "      <th>1</th>\n",
       "      <td>1</td>\n",
       "      <td>85</td>\n",
       "      <td>66</td>\n",
       "      <td>29</td>\n",
       "      <td>0</td>\n",
       "      <td>26.6</td>\n",
       "      <td>0.351</td>\n",
       "      <td>31</td>\n",
       "      <td>0</td>\n",
       "    </tr>\n",
       "    <tr>\n",
       "      <th>2</th>\n",
       "      <td>8</td>\n",
       "      <td>183</td>\n",
       "      <td>64</td>\n",
       "      <td>0</td>\n",
       "      <td>0</td>\n",
       "      <td>23.3</td>\n",
       "      <td>0.672</td>\n",
       "      <td>32</td>\n",
       "      <td>1</td>\n",
       "    </tr>\n",
       "    <tr>\n",
       "      <th>3</th>\n",
       "      <td>1</td>\n",
       "      <td>89</td>\n",
       "      <td>66</td>\n",
       "      <td>23</td>\n",
       "      <td>94</td>\n",
       "      <td>28.1</td>\n",
       "      <td>0.167</td>\n",
       "      <td>21</td>\n",
       "      <td>0</td>\n",
       "    </tr>\n",
       "    <tr>\n",
       "      <th>4</th>\n",
       "      <td>0</td>\n",
       "      <td>137</td>\n",
       "      <td>40</td>\n",
       "      <td>35</td>\n",
       "      <td>168</td>\n",
       "      <td>43.1</td>\n",
       "      <td>2.288</td>\n",
       "      <td>33</td>\n",
       "      <td>1</td>\n",
       "    </tr>\n",
       "  </tbody>\n",
       "</table>\n",
       "</div>"
      ],
      "text/plain": [
       "   Preg  Plas  Pres  skin  test  mass   pedi  age  class\n",
       "0     6   148    72    35     0  33.6  0.627   50      1\n",
       "1     1    85    66    29     0  26.6  0.351   31      0\n",
       "2     8   183    64     0     0  23.3  0.672   32      1\n",
       "3     1    89    66    23    94  28.1  0.167   21      0\n",
       "4     0   137    40    35   168  43.1  2.288   33      1"
      ]
     },
     "execution_count": 12,
     "metadata": {},
     "output_type": "execute_result"
    }
   ],
   "source": [
    "#loading the dataset\n",
    "df =pd.read_csv('pima-indians-diabetes.csv') \n",
    "df.head() #printing the first 5 values of the dataset\n"
   ]
  },
  {
   "cell_type": "code",
   "execution_count": 13,
   "id": "bfc21a71",
   "metadata": {},
   "outputs": [],
   "source": [
    "#values of pressure mass and Plasma and skin cannot be zero so in this i cleaned the dataframe. \n",
    "#PreProcessing \n",
    "zero_not_accepted=['Pres','mass','Plas','skin'] \n",
    "for column in zero_not_accepted:\n",
    "    df[column]=df[column].replace(0,np.NaN)\n",
    "    mean=int(df[column].mean(skipna=True))\n",
    "    df[column]=df[column].replace(np.NaN,mean)"
   ]
  },
  {
   "cell_type": "code",
   "execution_count": 14,
   "id": "a9b3d73d",
   "metadata": {},
   "outputs": [
    {
     "name": "stdout",
     "output_type": "stream",
     "text": [
      "  columns        Score\n",
      "4    test  2175.565273\n",
      "1    Plas  1418.666546\n",
      "7     age   181.303689\n"
     ]
    }
   ],
   "source": [
    "#selecting the best 3 features using the selectKBest algorithm\n",
    "from sklearn.feature_selection import SelectKBest\n",
    "from sklearn.feature_selection import chi2\n",
    "X=df.iloc[:,0:8] #selecting  the columns except the target\n",
    "y=df.iloc[:,8]   #selecting the target column\n",
    "BestFeatures = SelectKBest(score_func=chi2, k=3)\n",
    "fit = BestFeatures.fit(X,y)#fitting according to the data\n",
    "df_scores = pd.DataFrame(fit.scores_)\n",
    "df_columns = pd.DataFrame(X.columns)\n",
    "f_Scores = pd.concat([df_columns,df_scores],axis=1) #creating a new columns\n",
    "f_Scores.columns = ['columns','Score'] \n",
    "f_Scores \n",
    "print(f_Scores.nlargest(3,'Score'))#getting the columns with highest score."
   ]
  },
  {
   "cell_type": "code",
   "execution_count": 15,
   "id": "eb35d6e7",
   "metadata": {},
   "outputs": [],
   "source": [
    "#split dataset according to the given ratio \n",
    "X=df[['test','Plas','age']] #selecting the specified columns \n",
    "y=df.iloc[:,8] #assigning the target column to the y variable\n",
    "X_train,X_test,y_train,y_test=train_test_split(X,y,random_state=2022,test_size=0.2) #testing and training split\n",
    "X_train,X_val,y_train,y_val=train_test_split(X_train,y_train,test_size=0.2,random_state=2022) #training and validation split"
   ]
  },
  {
   "cell_type": "code",
   "execution_count": 16,
   "id": "c697ab61",
   "metadata": {
    "scrolled": true
   },
   "outputs": [
    {
     "name": "stdout",
     "output_type": "stream",
     "text": [
      "491\n",
      "154\n",
      "123\n"
     ]
    }
   ],
   "source": [
    "#length of  the train,test and validation data\n",
    "print(len(X_train))\n",
    "print(len(y_test))\n",
    "print(len(y_val))"
   ]
  },
  {
   "cell_type": "code",
   "execution_count": 17,
   "id": "054f461f",
   "metadata": {},
   "outputs": [],
   "source": [
    "#Standardize features by removing the mean and scaling to unit variance.\n",
    "sc_X=StandardScaler()\n",
    "X_train=sc_X.fit_transform(X_train)\n",
    "X_test=sc_X.fit_transform(X_test)\n",
    "X_val=sc_X.fit_transform(X_val)\n"
   ]
  },
  {
   "cell_type": "code",
   "execution_count": 18,
   "id": "95034253",
   "metadata": {},
   "outputs": [
    {
     "name": "stdout",
     "output_type": "stream",
     "text": [
      "154\n"
     ]
    },
    {
     "data": {
      "text/plain": [
       "<matplotlib.legend.Legend at 0x7f82b0dcaee0>"
      ]
     },
     "execution_count": 18,
     "metadata": {},
     "output_type": "execute_result"
    },
    {
     "data": {
      "image/png": "[encoded data removed]",
      "text/plain": [
       "<Figure size 432x288 with 1 Axes>"
      ]
     },
     "metadata": {
      "needs_background": "light"
     },
     "output_type": "display_data"
    }
   ],
   "source": [
    "\n",
    "training_accuracy=[]\n",
    "test_accuracy=[]\n",
    "#calculating the testing and training accuracy for the values of k to select the bestK value in range of 1 to 30.\n",
    "neighbors=range(1,30)\n",
    "for n in neighbors:\n",
    "    classifier=KNeighborsClassifier(n_neighbors=n,p=2,metric='minkowski')#using the KNN Classifier with minkowski distance as metirc\n",
    "    classifier.fit(X_train,y_train)\n",
    "    training_accuracy.append(classifier.score(X_train,y_train))\n",
    "    test_accuracy.append(classifier.score(X_test,y_test))\n",
    "#plotting the training accuracy and testing accuracy\n",
    "\n",
    "import matplotlib.pyplot as plt  \n",
    "plt.plot(neighbors,training_accuracy,label='training accuracy')\n",
    "plt.plot(neighbors,test_accuracy,label='test accuracy')\n",
    "plt.legend(['training accuracy','testing accuracy'])"
   ]
  },
  {
   "cell_type": "code",
   "execution_count": 19,
   "id": "d0150a4d",
   "metadata": {},
   "outputs": [
    {
     "data": {
      "text/plain": [
       "KNeighborsClassifier(n_neighbors=27)"
      ]
     },
     "execution_count": 19,
     "metadata": {},
     "output_type": "execute_result"
    }
   ],
   "source": [
    "#from the above graph we can see that a maximum accuracy is acheived when the k=27 \n",
    "\n",
    "classifier=KNeighborsClassifier(n_neighbors=27,p=2,metric='minkowski')#calling the KNN classifier.\n",
    "classifier.fit(X_train,y_train)"
   ]
  },
  {
   "cell_type": "code",
   "execution_count": 24,
   "id": "91077f3c",
   "metadata": {},
   "outputs": [
    {
     "name": "stdout",
     "output_type": "stream",
     "text": [
      "accuracy_score: 0.7727272727272727\n",
      "              precision    recall  f1-score   support\n",
      "\n",
      "    no sugar       0.81      0.89      0.85       108\n",
      "       sugar       0.66      0.50      0.57        46\n",
      "\n",
      "    accuracy                           0.77       154\n",
      "   macro avg       0.73      0.69      0.71       154\n",
      "weighted avg       0.76      0.77      0.76       154\n",
      "\n"
     ]
    }
   ],
   "source": [
    "#predicting the values of the classifier to get the confusion matrix between testing data and prediction data\n",
    "y_pred=classifier.predict(X_test)\n",
    "cm=confusion_matrix(y_test,y_pred)\n",
    "from sklearn.metrics import accuracy_score\n",
    "print(\"accuracy_score:\",accuracy_score(y=_test,y_pred))\n",
    "print(classification_report(y_test,y_pred,target_names=['no sugar','sugar']))"
   ]
  },
  {
   "cell_type": "code",
   "execution_count": 23,
   "id": "dbf18d46",
   "metadata": {
    "scrolled": true
   },
   "outputs": [
    {
     "data": {
      "image/png": "[encoded data removed]",
      "text/plain": [
       "<Figure size 432x288 with 2 Axes>"
      ]
     },
     "metadata": {
      "needs_background": "light"
     },
     "output_type": "display_data"
    }
   ],
   "source": [
    "   \n",
    "\n",
    "ax= plt.subplot()\n",
    "#using the sns seaborn to get the heatmap to plot confusion matrix\n",
    "sns.heatmap(cm, annot=True, fmt='g', ax=ax);  \n",
    "\n",
    "# labels, title and ticks\n",
    "ax.set_xlabel('Predicted labels');ax.set_ylabel('True labels'); \n",
    "ax.set_title('Confusion Matrix'); \n",
    "ax.xaxis.set_ticklabels(['no sugar', 'sugar']); ax.yaxis.set_ticklabels(['no sugar', 'sugar']);\n"
   ]
  },
  {
   "cell_type": "code",
   "execution_count": 35,
   "id": "1db40e02",
   "metadata": {},
   "outputs": [
    {
     "name": "stdout",
     "output_type": "stream",
     "text": [
      "accuracy_score: 0.7337662337662337\n",
      "              precision    recall  f1-score   support\n",
      "\n",
      "    no sugar       0.79      0.85      0.82       108\n",
      "       sugar       0.57      0.46      0.51        46\n",
      "\n",
      "    accuracy                           0.73       154\n",
      "   macro avg       0.68      0.65      0.66       154\n",
      "weighted avg       0.72      0.73      0.72       154\n",
      "\n"
     ]
    },
    {
     "data": {
      "image/png": "[encoded data removed]",
      "text/plain": [
       "<Figure size 432x288 with 2 Axes>"
      ]
     },
     "metadata": {
      "needs_background": "light"
     },
     "output_type": "display_data"
    }
   ],
   "source": [
    "#using the KNN classifier with 10 neighbours and using minkowski as the metric\n",
    "classifier1=KNeighborsClassifier(n_neighbors=17,p=2,metric='minkowski')#calling the KNN classifier.\n",
    "classifier1.fit(X_train,y_train)\n",
    "y_pred1=classifier1.predict(X_test) #predicting the values of the classifier\n",
    "cm1=confusion_matrix(y_test,y_pred1)\n",
    "\n",
    "print(\"accuracy_score:\",accuracy_score(y_test,y_pred1))# getting the accuracy score when k=10.\n",
    "print(classification_report(y_test,y_pred1,target_names=['no sugar','sugar'])) #printing the classification report \n",
    "ax= plt.subplot()\n",
    "#using the sns seaborn to get the heatmap to plot confusion matrix\n",
    "sns.heatmap(cm1, annot=True, fmt='g', ax=ax);  \n",
    "\n",
    "# labels, title and ticks\n",
    "ax.set_xlabel('Predicted labels');ax.set_ylabel('True labels'); \n",
    "ax.set_title('Confusion Matrix'); \n",
    "ax.xaxis.set_ticklabels(['no sugar', 'sugar']); ax.yaxis.set_ticklabels(['no sugar', 'sugar']);"
   ]
  },
  {
   "cell_type": "code",
   "execution_count": 36,
   "id": "b91eba70",
   "metadata": {},
   "outputs": [
    {
     "name": "stdout",
     "output_type": "stream",
     "text": [
      "accuracy_score: 0.7402597402597403\n",
      "              precision    recall  f1-score   support\n",
      "\n",
      "    no sugar       0.79      0.86      0.82       108\n",
      "       sugar       0.58      0.46      0.51        46\n",
      "\n",
      "    accuracy                           0.74       154\n",
      "   macro avg       0.69      0.66      0.67       154\n",
      "weighted avg       0.73      0.74      0.73       154\n",
      "\n"
     ]
    },
    {
     "data": {
      "image/png": "[encoded data removed]",
      "text/plain": [
       "<Figure size 432x288 with 2 Axes>"
      ]
     },
     "metadata": {
      "needs_background": "light"
     },
     "output_type": "display_data"
    }
   ],
   "source": [
    "#using the KNN classifier with 10 neighbours and using minkowski as the metric\n",
    "classifier2=KNeighborsClassifier(n_neighbors=8,p=2,metric='minkowski')#calling the KNN classifier.\n",
    "classifier2.fit(X_train,y_train)\n",
    "y_pred2=classifier2.predict(X_test) #predicting the values of the classifier\n",
    "cm2=confusion_matrix(y_test,y_pred2)\n",
    "\n",
    "print(\"accuracy_score:\",accuracy_score(y_test,y_pred2))# getting the accuracy score when k=10.\n",
    "print(classification_report(y_test,y_pred2,target_names=['no sugar','sugar'])) #printing the classification report \n",
    "ax= plt.subplot()\n",
    "#using the sns seaborn to get the heatmap to plot confusion matrix\n",
    "sns.heatmap(cm2, annot=True, fmt='g', ax=ax);  \n",
    "\n",
    "# labels, title and ticks\n",
    "ax.set_xlabel('Predicted labels');ax.set_ylabel('True labels'); \n",
    "ax.set_title('Confusion Matrix'); \n",
    "ax.xaxis.set_ticklabels(['no sugar', 'sugar']); ax.yaxis.set_ticklabels(['no sugar', 'sugar']);"
   ]
  },
  {
   "cell_type": "markdown",
   "id": "e7f67020",
   "metadata": {},
   "source": [
    "## Report (23 Points)\n",
    "\n",
    "For each classification task you need to submit a report (Microsoft Word, or PDF) that you have to:\n",
    "* Explain all the preprocessing done in detail.[4 points]\n",
    "* Explain all the parameters of KNN in details in your own words. Do not copy paste. Give references. 10 Points will be deducted if you copy paste from the internet. [5 points]\n",
    "* Explain what was your criteria for selecting the three attributes. [5 points]\n",
    "* Visualizations of the classifier in a 2D projection, and write your observations. [4 points]\n",
    "* Interprete and compare the results explain in details.[5 points]\n",
    "\n",
    "Do not to forget to cite your sources!"
   ]
  }
 ],
 "metadata": {
  "kernelspec": {
   "display_name": "Python 3 (ipykernel)",
   "language": "python",
   "name": "python3"
  },
  "language_info": {
   "codemirror_mode": {
    "name": "ipython",
    "version": 3
   },
   "file_extension": ".py",
   "mimetype": "text/x-python",
   "name": "python",
   "nbconvert_exporter": "python",
   "pygments_lexer": "ipython3",
   "version": "3.9.7"
  }
 },
 "nbformat": 4,
 "nbformat_minor": 5
}
