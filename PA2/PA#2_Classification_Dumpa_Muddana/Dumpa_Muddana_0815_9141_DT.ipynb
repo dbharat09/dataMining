{
 "cells": [
  {
   "cell_type": "markdown",
   "id": "4ac77bb4",
   "metadata": {},
   "source": [
    "# Data Mining Assignment 2_DT_NB"
   ]
  },
  {
   "cell_type": "markdown",
   "id": "5715b41a",
   "metadata": {},
   "source": [
    "## Student Details\n",
    "\n",
    "Student Name and ID of the member submitting the assignment: Dumpa Bharat Kumar , ID - 1001870815\n",
    "\n",
    "Student Name and ID of the remaining members: Likhita Muddana, ID – 1001949141\n",
    "\n",
    "Notes:\n",
    "When submitting, fill your name and ID in this cell. Note that this is a markdown cell!<br>\n",
    "Do not make any changes in the dataset file and do not rename the 'database.csv'.\n",
    "<br> Rename your submission file to <b> 'yourLastName_Last4digitsofyourID_PA1.ipynb' </b>. \n",
    "<br> Do not to forget to cite any external sources used by you. \n",
    "**10 points per question will be deducted incase you fail to do so**\n",
    "<br>**DO NOT DELETE THIS CELL**<br>\n",
    "#### Please consult the TA before using any other packages apart from sklearn,numpy,pandas, matplotlib and seaborn"
   ]
  },
  {
   "cell_type": "markdown",
   "id": "102aa828",
   "metadata": {},
   "source": [
    "## Programming Assignment Submission Instructions (2 Points)\n",
    "\n",
    "Step 1: Rename this submission file as 'yourLastName_Last4digitsofyourID_DT.ipynb' [1 point]\n",
    "\n",
    "Step 2: Place this file inside the folder 'PA#2_Classification_yourLastName'  [1 point]"
   ]
  },
  {
   "cell_type": "markdown",
   "id": "d3f3ef2c",
   "metadata": {},
   "source": [
    "## Programming Assignment Details (5 Points)\n",
    "\n",
    "\n",
    "For this assignment use Jupyter notebook, Panda, and scikit.\n",
    "\n",
    "1) Load Gender_Classifier.csv .Output/prediction variable is 'gender' [1 points]\n",
    "\n",
    "2) Create a dataframe and print the first and last seven records of your dataset.  [1 points]\n",
    "\n",
    "3) Print the class labels. [1 points]\n",
    "\n",
    "4) Split your dataset 60% for training, 20 for validation and 20% for testing the classifier. Use random state as 2022 [2 points]"
   ]
  },
  {
   "cell_type": "markdown",
   "id": "eb32abbb",
   "metadata": {},
   "source": [
    "### DecisionTree (10 Points)\n",
    "1) Use gini and entropy to measure the quality of a split. [2 points]\n",
    "\n",
    "2) Use comments to explain your code and variable names. [1 point]\n",
    "\n",
    "3) Calculate and print the confusion matrix (use graphics instead showing a 2D array), and the classification Report (includes: precision, recall, f1-score, and support. Explain the confusion matrix and classification report in your own words). Do not copy from the internet.[4 points]\n",
    "\n",
    "4) Print the decision tree visualization for 3 different depths using given libraries.  [3 points]"
   ]
  },
  {
   "cell_type": "markdown",
   "id": "c72eca84",
   "metadata": {},
   "source": [
    "# Naive Bayes (10 Points)\n",
    "\n",
    "1) Use all types of Naive bayes classifier present in the sklearn to predict the test data. If you are not able to implement any of the classifier explain in detail why it can't be done.[5 point] \n",
    "\n",
    "2) Use comments to explain your code and variable names[1 point]\n",
    "\n",
    "3) Calculate and print the confusion matrix (use graphics instead showing a 2D array), and the classification Report (includes: precision, recall, f1-score, and support)for all the NB Classifier. show the best classifier. Explain the classification report in your own words. Do not copy from the internet. [4 points]"
   ]
  },
  {
   "cell_type": "markdown",
   "id": "ac6b41e8",
   "metadata": {},
   "source": [
    "## Report (23 Points)\n",
    "\n",
    "\n",
    "1) Describe the Decision Tree methods, and Naive Bayes classifier in details in your own words. Dont copy paste it from the internet. Write it on your own.  [5 points]\n",
    "\n",
    "2) Describe the datasets like what do you understand from the dataset? and if you have done any pre-processing , and your code, please write down your observation. [6 points]\n",
    "\n",
    "4) Visualization of the decision tree for gini and entropy.[4 points]\n",
    "\n",
    "5) Interpret your results, compare gini and entropy [4 points]\n",
    "\n",
    "6) Visualize the dataset, for the target variable - 2 graphs [4 points]\n",
    "\n",
    "Do not to forget to cite your sources!"
   ]
  },
  {
   "cell_type": "code",
   "execution_count": 952,
   "id": "d94ca5a8",
   "metadata": {},
   "outputs": [],
   "source": [
    "import numpy as np\n",
    "import pandas as pd\n",
    "import seaborn as sns\n",
    "from datetime import date\n",
    "import matplotlib.pyplot as plt\n",
    "#import scikitplot as skplt\n",
    "from matplotlib import rcParams\n",
    "#Preprocessing\n",
    "from sklearn.model_selection import train_test_split\n",
    "from sklearn.preprocessing import StandardScaler \n",
    "#Metrics\n",
    "from sklearn.metrics import confusion_matrix\n",
    "from sklearn.metrics import accuracy_score\n",
    "from sklearn.metrics import classification_report\n",
    "from sklearn.metrics import roc_auc_score\n",
    "from sklearn.metrics import plot_confusion_matrix\n",
    "from sklearn.naive_bayes import GaussianNB\n",
    "from sklearn.naive_bayes import BernoulliNB"
   ]
  },
  {
   "cell_type": "code",
   "execution_count": 953,
   "id": "c0540a75",
   "metadata": {},
   "outputs": [],
   "source": [
    "#read the csv file into a Pandas data frame\n",
    "df_data = pd.read_csv('Gender_classifier.csv', encoding='latin1')"
   ]
  },
  {
   "cell_type": "code",
   "execution_count": 989,
   "id": "1b9aca67",
   "metadata": {},
   "outputs": [
    {
     "name": "stderr",
     "output_type": "stream",
     "text": [
      "/var/folders/z4/fkls1k917_51fhgf9jbrkgd40000gn/T/ipykernel_6466/3485845350.py:2: FutureWarning: The frame.append method is deprecated and will be removed from pandas in a future version. Use pandas.concat instead.\n",
      "  new_data = pd.DataFrame(data=df_data.head(7).append(df_data.tail(7)))\n"
     ]
    },
    {
     "data": {
      "text/html": [
       "<div>\n",
       "<style scoped>\n",
       "    .dataframe tbody tr th:only-of-type {\n",
       "        vertical-align: middle;\n",
       "    }\n",
       "\n",
       "    .dataframe tbody tr th {\n",
       "        vertical-align: top;\n",
       "    }\n",
       "\n",
       "    .dataframe thead th {\n",
       "        text-align: right;\n",
       "    }\n",
       "</style>\n",
       "<table border=\"1\" class=\"dataframe\">\n",
       "  <thead>\n",
       "    <tr style=\"text-align: right;\">\n",
       "      <th></th>\n",
       "      <th>_unit_id</th>\n",
       "      <th>_golden</th>\n",
       "      <th>_unit_state</th>\n",
       "      <th>_trusted_judgments</th>\n",
       "      <th>_last_judgment_at</th>\n",
       "      <th>gender</th>\n",
       "      <th>gender:confidence</th>\n",
       "      <th>profile_yn</th>\n",
       "      <th>profile_yn:confidence</th>\n",
       "      <th>created</th>\n",
       "      <th>...</th>\n",
       "      <th>profileimage</th>\n",
       "      <th>retweet_count</th>\n",
       "      <th>sidebar_color</th>\n",
       "      <th>text</th>\n",
       "      <th>tweet_coord</th>\n",
       "      <th>tweet_count</th>\n",
       "      <th>tweet_created</th>\n",
       "      <th>tweet_id</th>\n",
       "      <th>tweet_location</th>\n",
       "      <th>user_timezone</th>\n",
       "    </tr>\n",
       "  </thead>\n",
       "  <tbody>\n",
       "    <tr>\n",
       "      <th>0</th>\n",
       "      <td>815719226</td>\n",
       "      <td>0</td>\n",
       "      <td>finalized</td>\n",
       "      <td>3</td>\n",
       "      <td>10/26/15 23:24</td>\n",
       "      <td>1</td>\n",
       "      <td>1.0000</td>\n",
       "      <td>1</td>\n",
       "      <td>1.0</td>\n",
       "      <td>12/5/13 01:48</td>\n",
       "      <td>...</td>\n",
       "      <td>https://pbs.twimg.com/profile_images/414342229...</td>\n",
       "      <td>0</td>\n",
       "      <td>FFFFFF</td>\n",
       "      <td>Robbie E Responds To Critics After Win Against...</td>\n",
       "      <td>NaN</td>\n",
       "      <td>110964</td>\n",
       "      <td>10/26/15 12:40</td>\n",
       "      <td>6.590000e+17</td>\n",
       "      <td>main; @Kan1shk3</td>\n",
       "      <td>others</td>\n",
       "    </tr>\n",
       "    <tr>\n",
       "      <th>1</th>\n",
       "      <td>815719227</td>\n",
       "      <td>0</td>\n",
       "      <td>finalized</td>\n",
       "      <td>3</td>\n",
       "      <td>10/26/15 23:30</td>\n",
       "      <td>1</td>\n",
       "      <td>1.0000</td>\n",
       "      <td>1</td>\n",
       "      <td>1.0</td>\n",
       "      <td>10/1/12 13:51</td>\n",
       "      <td>...</td>\n",
       "      <td>https://pbs.twimg.com/profile_images/539604221...</td>\n",
       "      <td>0</td>\n",
       "      <td>C0DEED</td>\n",
       "      <td>ÛÏIt felt like they were my friends and I was...</td>\n",
       "      <td>NaN</td>\n",
       "      <td>7471</td>\n",
       "      <td>10/26/15 12:40</td>\n",
       "      <td>6.590000e+17</td>\n",
       "      <td>London</td>\n",
       "      <td>Eastern Time (US &amp; Canada)</td>\n",
       "    </tr>\n",
       "    <tr>\n",
       "      <th>2</th>\n",
       "      <td>815719228</td>\n",
       "      <td>0</td>\n",
       "      <td>finalized</td>\n",
       "      <td>3</td>\n",
       "      <td>10/26/15 23:33</td>\n",
       "      <td>1</td>\n",
       "      <td>0.6625</td>\n",
       "      <td>1</td>\n",
       "      <td>1.0</td>\n",
       "      <td>11/28/14 11:30</td>\n",
       "      <td>...</td>\n",
       "      <td>https://pbs.twimg.com/profile_images/657330418...</td>\n",
       "      <td>1</td>\n",
       "      <td>C0DEED</td>\n",
       "      <td>i absolutely adore when louis starts the songs...</td>\n",
       "      <td>NaN</td>\n",
       "      <td>5617</td>\n",
       "      <td>10/26/15 12:40</td>\n",
       "      <td>6.590000e+17</td>\n",
       "      <td>clcncl</td>\n",
       "      <td>others</td>\n",
       "    </tr>\n",
       "    <tr>\n",
       "      <th>3</th>\n",
       "      <td>815719229</td>\n",
       "      <td>0</td>\n",
       "      <td>finalized</td>\n",
       "      <td>3</td>\n",
       "      <td>10/26/15 23:10</td>\n",
       "      <td>1</td>\n",
       "      <td>1.0000</td>\n",
       "      <td>1</td>\n",
       "      <td>1.0</td>\n",
       "      <td>6/11/09 22:39</td>\n",
       "      <td>...</td>\n",
       "      <td>https://pbs.twimg.com/profile_images/259703936...</td>\n",
       "      <td>0</td>\n",
       "      <td>C0DEED</td>\n",
       "      <td>Hi @JordanSpieth - Looking at the url - do you...</td>\n",
       "      <td>NaN</td>\n",
       "      <td>1693</td>\n",
       "      <td>10/26/15 12:40</td>\n",
       "      <td>6.590000e+17</td>\n",
       "      <td>Palo Alto, CA</td>\n",
       "      <td>Pacific Time (US &amp; Canada)</td>\n",
       "    </tr>\n",
       "    <tr>\n",
       "      <th>4</th>\n",
       "      <td>815719230</td>\n",
       "      <td>0</td>\n",
       "      <td>finalized</td>\n",
       "      <td>3</td>\n",
       "      <td>10/27/15 01:15</td>\n",
       "      <td>0</td>\n",
       "      <td>1.0000</td>\n",
       "      <td>1</td>\n",
       "      <td>1.0</td>\n",
       "      <td>4/16/14 13:23</td>\n",
       "      <td>...</td>\n",
       "      <td>https://pbs.twimg.com/profile_images/564094871...</td>\n",
       "      <td>0</td>\n",
       "      <td>0</td>\n",
       "      <td>Watching Neighbours on Sky+ catching up with t...</td>\n",
       "      <td>NaN</td>\n",
       "      <td>31462</td>\n",
       "      <td>10/26/15 12:40</td>\n",
       "      <td>6.590000e+17</td>\n",
       "      <td>London</td>\n",
       "      <td>Eastern Time (US &amp; Canada)</td>\n",
       "    </tr>\n",
       "    <tr>\n",
       "      <th>5</th>\n",
       "      <td>815719231</td>\n",
       "      <td>0</td>\n",
       "      <td>finalized</td>\n",
       "      <td>3</td>\n",
       "      <td>10/27/15 01:47</td>\n",
       "      <td>0</td>\n",
       "      <td>1.0000</td>\n",
       "      <td>1</td>\n",
       "      <td>1.0</td>\n",
       "      <td>3/11/10 18:14</td>\n",
       "      <td>...</td>\n",
       "      <td>https://pbs.twimg.com/profile_images/656336865...</td>\n",
       "      <td>0</td>\n",
       "      <td>0</td>\n",
       "      <td>Ive seen people on the train with lamps, chair...</td>\n",
       "      <td>NaN</td>\n",
       "      <td>20036</td>\n",
       "      <td>10/26/15 12:40</td>\n",
       "      <td>6.590000e+17</td>\n",
       "      <td>New York Gritty</td>\n",
       "      <td>Central Time (US &amp; Canada)</td>\n",
       "    </tr>\n",
       "    <tr>\n",
       "      <th>7</th>\n",
       "      <td>815719233</td>\n",
       "      <td>0</td>\n",
       "      <td>finalized</td>\n",
       "      <td>3</td>\n",
       "      <td>10/26/15 23:48</td>\n",
       "      <td>1</td>\n",
       "      <td>1.0000</td>\n",
       "      <td>1</td>\n",
       "      <td>1.0</td>\n",
       "      <td>12/3/12 21:54</td>\n",
       "      <td>...</td>\n",
       "      <td>https://pbs.twimg.com/profile_images/508875440...</td>\n",
       "      <td>0</td>\n",
       "      <td>C0DEED</td>\n",
       "      <td>Gala Bingo clubs bought for å£241m: The UK's l...</td>\n",
       "      <td>NaN</td>\n",
       "      <td>112117</td>\n",
       "      <td>10/26/15 12:40</td>\n",
       "      <td>6.590000e+17</td>\n",
       "      <td>London</td>\n",
       "      <td>Eastern Time (US &amp; Canada)</td>\n",
       "    </tr>\n",
       "    <tr>\n",
       "      <th>20043</th>\n",
       "      <td>815756700</td>\n",
       "      <td>1</td>\n",
       "      <td>golden</td>\n",
       "      <td>240</td>\n",
       "      <td>NaN</td>\n",
       "      <td>1</td>\n",
       "      <td>1.0000</td>\n",
       "      <td>1</td>\n",
       "      <td>1.0</td>\n",
       "      <td>9/27/11 00:19</td>\n",
       "      <td>...</td>\n",
       "      <td>https://pbs.twimg.com/profile_images/378800000...</td>\n",
       "      <td>1</td>\n",
       "      <td>5ED4DC</td>\n",
       "      <td>Game faggot and venison loin, crisp spelt and ...</td>\n",
       "      <td>NaN</td>\n",
       "      <td>8193</td>\n",
       "      <td>10/26/15 13:19</td>\n",
       "      <td>6.590000e+17</td>\n",
       "      <td>Chertsey Bridge</td>\n",
       "      <td>Eastern Time (US &amp; Canada)</td>\n",
       "    </tr>\n",
       "    <tr>\n",
       "      <th>20044</th>\n",
       "      <td>815756767</td>\n",
       "      <td>1</td>\n",
       "      <td>golden</td>\n",
       "      <td>227</td>\n",
       "      <td>NaN</td>\n",
       "      <td>0</td>\n",
       "      <td>1.0000</td>\n",
       "      <td>1</td>\n",
       "      <td>1.0</td>\n",
       "      <td>6/11/14 01:55</td>\n",
       "      <td>...</td>\n",
       "      <td>https://pbs.twimg.com/profile_images/643483977...</td>\n",
       "      <td>0</td>\n",
       "      <td>C0DEED</td>\n",
       "      <td>Need A Ride Home From Practice _Ù÷Ô_Ù÷Ô_Ù÷ÔAnd...</td>\n",
       "      <td>NaN</td>\n",
       "      <td>6669</td>\n",
       "      <td>10/26/15 13:19</td>\n",
       "      <td>6.590000e+17</td>\n",
       "      <td>London</td>\n",
       "      <td>Eastern Time (US &amp; Canada)</td>\n",
       "    </tr>\n",
       "    <tr>\n",
       "      <th>20045</th>\n",
       "      <td>815757572</td>\n",
       "      <td>1</td>\n",
       "      <td>golden</td>\n",
       "      <td>259</td>\n",
       "      <td>NaN</td>\n",
       "      <td>0</td>\n",
       "      <td>1.0000</td>\n",
       "      <td>1</td>\n",
       "      <td>1.0</td>\n",
       "      <td>8/5/15 21:16</td>\n",
       "      <td>...</td>\n",
       "      <td>https://pbs.twimg.com/profile_images/656793310...</td>\n",
       "      <td>0</td>\n",
       "      <td>C0DEED</td>\n",
       "      <td>@lookupondeath ...Fine, and I'll drink tea too...</td>\n",
       "      <td>NaN</td>\n",
       "      <td>783</td>\n",
       "      <td>10/26/15 13:20</td>\n",
       "      <td>6.590000e+17</td>\n",
       "      <td>Verona ªÁ</td>\n",
       "      <td>Eastern Time (US &amp; Canada)</td>\n",
       "    </tr>\n",
       "    <tr>\n",
       "      <th>20046</th>\n",
       "      <td>815757681</td>\n",
       "      <td>1</td>\n",
       "      <td>golden</td>\n",
       "      <td>248</td>\n",
       "      <td>NaN</td>\n",
       "      <td>1</td>\n",
       "      <td>1.0000</td>\n",
       "      <td>1</td>\n",
       "      <td>1.0</td>\n",
       "      <td>8/15/12 21:17</td>\n",
       "      <td>...</td>\n",
       "      <td>https://pbs.twimg.com/profile_images/639815429...</td>\n",
       "      <td>0</td>\n",
       "      <td>0</td>\n",
       "      <td>Greg Hardy you a good player and all but don't...</td>\n",
       "      <td>NaN</td>\n",
       "      <td>13523</td>\n",
       "      <td>10/26/15 12:40</td>\n",
       "      <td>6.590000e+17</td>\n",
       "      <td>Kansas City, MO</td>\n",
       "      <td>Eastern Time (US &amp; Canada)</td>\n",
       "    </tr>\n",
       "    <tr>\n",
       "      <th>20047</th>\n",
       "      <td>815757830</td>\n",
       "      <td>1</td>\n",
       "      <td>golden</td>\n",
       "      <td>264</td>\n",
       "      <td>NaN</td>\n",
       "      <td>1</td>\n",
       "      <td>1.0000</td>\n",
       "      <td>1</td>\n",
       "      <td>1.0</td>\n",
       "      <td>9/3/12 01:17</td>\n",
       "      <td>...</td>\n",
       "      <td>https://pbs.twimg.com/profile_images/655473271...</td>\n",
       "      <td>0</td>\n",
       "      <td>C0DEED</td>\n",
       "      <td>You can miss people and still never want to se...</td>\n",
       "      <td>NaN</td>\n",
       "      <td>26419</td>\n",
       "      <td>10/26/15 13:20</td>\n",
       "      <td>6.590000e+17</td>\n",
       "      <td>Lagos Nigeria</td>\n",
       "      <td>Eastern Time (US &amp; Canada)</td>\n",
       "    </tr>\n",
       "    <tr>\n",
       "      <th>20048</th>\n",
       "      <td>815757921</td>\n",
       "      <td>1</td>\n",
       "      <td>golden</td>\n",
       "      <td>250</td>\n",
       "      <td>NaN</td>\n",
       "      <td>0</td>\n",
       "      <td>0.8489</td>\n",
       "      <td>1</td>\n",
       "      <td>1.0</td>\n",
       "      <td>11/6/12 23:46</td>\n",
       "      <td>...</td>\n",
       "      <td>https://pbs.twimg.com/profile_images/657716093...</td>\n",
       "      <td>0</td>\n",
       "      <td>0</td>\n",
       "      <td>@bitemyapp i had noticed your tendency to pee ...</td>\n",
       "      <td>NaN</td>\n",
       "      <td>56073</td>\n",
       "      <td>10/26/15 12:40</td>\n",
       "      <td>6.590000e+17</td>\n",
       "      <td>Texas Hill Country</td>\n",
       "      <td>Eastern Time (US &amp; Canada)</td>\n",
       "    </tr>\n",
       "    <tr>\n",
       "      <th>20049</th>\n",
       "      <td>815757985</td>\n",
       "      <td>1</td>\n",
       "      <td>golden</td>\n",
       "      <td>249</td>\n",
       "      <td>NaN</td>\n",
       "      <td>0</td>\n",
       "      <td>1.0000</td>\n",
       "      <td>1</td>\n",
       "      <td>1.0</td>\n",
       "      <td>4/14/14 17:22</td>\n",
       "      <td>...</td>\n",
       "      <td>https://pbs.twimg.com/profile_images/655134724...</td>\n",
       "      <td>0</td>\n",
       "      <td>C0DEED</td>\n",
       "      <td>I think for my APUSH creative project I'm goin...</td>\n",
       "      <td>NaN</td>\n",
       "      <td>2922</td>\n",
       "      <td>10/26/15 13:19</td>\n",
       "      <td>6.590000e+17</td>\n",
       "      <td>London</td>\n",
       "      <td>Eastern Time (US &amp; Canada)</td>\n",
       "    </tr>\n",
       "  </tbody>\n",
       "</table>\n",
       "<p>14 rows × 26 columns</p>\n",
       "</div>"
      ],
      "text/plain": [
       "        _unit_id  _golden _unit_state  _trusted_judgments _last_judgment_at  \\\n",
       "0      815719226        0   finalized                   3    10/26/15 23:24   \n",
       "1      815719227        0   finalized                   3    10/26/15 23:30   \n",
       "2      815719228        0   finalized                   3    10/26/15 23:33   \n",
       "3      815719229        0   finalized                   3    10/26/15 23:10   \n",
       "4      815719230        0   finalized                   3    10/27/15 01:15   \n",
       "5      815719231        0   finalized                   3    10/27/15 01:47   \n",
       "7      815719233        0   finalized                   3    10/26/15 23:48   \n",
       "20043  815756700        1      golden                 240               NaN   \n",
       "20044  815756767        1      golden                 227               NaN   \n",
       "20045  815757572        1      golden                 259               NaN   \n",
       "20046  815757681        1      golden                 248               NaN   \n",
       "20047  815757830        1      golden                 264               NaN   \n",
       "20048  815757921        1      golden                 250               NaN   \n",
       "20049  815757985        1      golden                 249               NaN   \n",
       "\n",
       "       gender  gender:confidence  profile_yn  profile_yn:confidence  \\\n",
       "0           1             1.0000           1                    1.0   \n",
       "1           1             1.0000           1                    1.0   \n",
       "2           1             0.6625           1                    1.0   \n",
       "3           1             1.0000           1                    1.0   \n",
       "4           0             1.0000           1                    1.0   \n",
       "5           0             1.0000           1                    1.0   \n",
       "7           1             1.0000           1                    1.0   \n",
       "20043       1             1.0000           1                    1.0   \n",
       "20044       0             1.0000           1                    1.0   \n",
       "20045       0             1.0000           1                    1.0   \n",
       "20046       1             1.0000           1                    1.0   \n",
       "20047       1             1.0000           1                    1.0   \n",
       "20048       0             0.8489           1                    1.0   \n",
       "20049       0             1.0000           1                    1.0   \n",
       "\n",
       "              created  ...                                       profileimage  \\\n",
       "0       12/5/13 01:48  ...  https://pbs.twimg.com/profile_images/414342229...   \n",
       "1       10/1/12 13:51  ...  https://pbs.twimg.com/profile_images/539604221...   \n",
       "2      11/28/14 11:30  ...  https://pbs.twimg.com/profile_images/657330418...   \n",
       "3       6/11/09 22:39  ...  https://pbs.twimg.com/profile_images/259703936...   \n",
       "4       4/16/14 13:23  ...  https://pbs.twimg.com/profile_images/564094871...   \n",
       "5       3/11/10 18:14  ...  https://pbs.twimg.com/profile_images/656336865...   \n",
       "7       12/3/12 21:54  ...  https://pbs.twimg.com/profile_images/508875440...   \n",
       "20043   9/27/11 00:19  ...  https://pbs.twimg.com/profile_images/378800000...   \n",
       "20044   6/11/14 01:55  ...  https://pbs.twimg.com/profile_images/643483977...   \n",
       "20045    8/5/15 21:16  ...  https://pbs.twimg.com/profile_images/656793310...   \n",
       "20046   8/15/12 21:17  ...  https://pbs.twimg.com/profile_images/639815429...   \n",
       "20047    9/3/12 01:17  ...  https://pbs.twimg.com/profile_images/655473271...   \n",
       "20048   11/6/12 23:46  ...  https://pbs.twimg.com/profile_images/657716093...   \n",
       "20049   4/14/14 17:22  ...  https://pbs.twimg.com/profile_images/655134724...   \n",
       "\n",
       "       retweet_count sidebar_color  \\\n",
       "0                  0        FFFFFF   \n",
       "1                  0        C0DEED   \n",
       "2                  1        C0DEED   \n",
       "3                  0        C0DEED   \n",
       "4                  0             0   \n",
       "5                  0             0   \n",
       "7                  0        C0DEED   \n",
       "20043              1        5ED4DC   \n",
       "20044              0        C0DEED   \n",
       "20045              0        C0DEED   \n",
       "20046              0             0   \n",
       "20047              0        C0DEED   \n",
       "20048              0             0   \n",
       "20049              0        C0DEED   \n",
       "\n",
       "                                                    text tweet_coord  \\\n",
       "0      Robbie E Responds To Critics After Win Against...         NaN   \n",
       "1      ÛÏIt felt like they were my friends and I was...         NaN   \n",
       "2      i absolutely adore when louis starts the songs...         NaN   \n",
       "3      Hi @JordanSpieth - Looking at the url - do you...         NaN   \n",
       "4      Watching Neighbours on Sky+ catching up with t...         NaN   \n",
       "5      Ive seen people on the train with lamps, chair...         NaN   \n",
       "7      Gala Bingo clubs bought for å£241m: The UK's l...         NaN   \n",
       "20043  Game faggot and venison loin, crisp spelt and ...         NaN   \n",
       "20044  Need A Ride Home From Practice _Ù÷Ô_Ù÷Ô_Ù÷ÔAnd...         NaN   \n",
       "20045  @lookupondeath ...Fine, and I'll drink tea too...         NaN   \n",
       "20046  Greg Hardy you a good player and all but don't...         NaN   \n",
       "20047  You can miss people and still never want to se...         NaN   \n",
       "20048  @bitemyapp i had noticed your tendency to pee ...         NaN   \n",
       "20049  I think for my APUSH creative project I'm goin...         NaN   \n",
       "\n",
       "      tweet_count   tweet_created      tweet_id      tweet_location  \\\n",
       "0          110964  10/26/15 12:40  6.590000e+17     main; @Kan1shk3   \n",
       "1            7471  10/26/15 12:40  6.590000e+17              London   \n",
       "2            5617  10/26/15 12:40  6.590000e+17              clcncl   \n",
       "3            1693  10/26/15 12:40  6.590000e+17       Palo Alto, CA   \n",
       "4           31462  10/26/15 12:40  6.590000e+17              London   \n",
       "5           20036  10/26/15 12:40  6.590000e+17     New York Gritty   \n",
       "7          112117  10/26/15 12:40  6.590000e+17              London   \n",
       "20043        8193  10/26/15 13:19  6.590000e+17     Chertsey Bridge   \n",
       "20044        6669  10/26/15 13:19  6.590000e+17              London   \n",
       "20045         783  10/26/15 13:20  6.590000e+17          Verona ªÁ   \n",
       "20046       13523  10/26/15 12:40  6.590000e+17     Kansas City, MO   \n",
       "20047       26419  10/26/15 13:20  6.590000e+17      Lagos Nigeria    \n",
       "20048       56073  10/26/15 12:40  6.590000e+17  Texas Hill Country   \n",
       "20049        2922  10/26/15 13:19  6.590000e+17              London   \n",
       "\n",
       "                    user_timezone  \n",
       "0                          others  \n",
       "1      Eastern Time (US & Canada)  \n",
       "2                          others  \n",
       "3      Pacific Time (US & Canada)  \n",
       "4      Eastern Time (US & Canada)  \n",
       "5      Central Time (US & Canada)  \n",
       "7      Eastern Time (US & Canada)  \n",
       "20043  Eastern Time (US & Canada)  \n",
       "20044  Eastern Time (US & Canada)  \n",
       "20045  Eastern Time (US & Canada)  \n",
       "20046  Eastern Time (US & Canada)  \n",
       "20047  Eastern Time (US & Canada)  \n",
       "20048  Eastern Time (US & Canada)  \n",
       "20049  Eastern Time (US & Canada)  \n",
       "\n",
       "[14 rows x 26 columns]"
      ]
     },
     "execution_count": 989,
     "metadata": {},
     "output_type": "execute_result"
    }
   ],
   "source": [
    "#new Data Frame wwith top 7 and last 7 records.\n",
    "new_data = pd.DataFrame(data=df_data.head(7).append(df_data.tail(7))) \n",
    "new_data"
   ]
  },
  {
   "cell_type": "code",
   "execution_count": 955,
   "id": "34094b69",
   "metadata": {},
   "outputs": [
    {
     "name": "stdout",
     "output_type": "stream",
     "text": [
      "_unit_id\n",
      "_golden\n",
      "_unit_state\n",
      "_trusted_judgments\n",
      "_last_judgment_at\n",
      "gender\n",
      "gender:confidence\n",
      "profile_yn\n",
      "profile_yn:confidence\n",
      "created\n",
      "description\n",
      "fav_number\n",
      "gender_gold\n",
      "link_color\n",
      "name\n",
      "profile_yn_gold\n",
      "profileimage\n",
      "retweet_count\n",
      "sidebar_color\n",
      "text\n",
      "tweet_coord\n",
      "tweet_count\n",
      "tweet_created\n",
      "tweet_id\n",
      "tweet_location\n",
      "user_timezone\n"
     ]
    }
   ],
   "source": [
    "#Printing the class labels \n",
    "for col in df_data.columns:\n",
    "    print(col)"
   ]
  },
  {
   "cell_type": "markdown",
   "id": "ccbe824e",
   "metadata": {},
   "source": [
    "# Preprocessing"
   ]
  },
  {
   "cell_type": "code",
   "execution_count": 956,
   "id": "1baa8e32",
   "metadata": {},
   "outputs": [],
   "source": [
    "def cardinality_list(col,count):\n",
    "    df = pd.DataFrame(df_data['user_timezone'].value_counts())\n",
    "    return list(df[df['user_timezone'] > count].reset_index()['index'])\n",
    "\n",
    "def date_to_days(col):\n",
    "    df_data[col]=pd.to_datetime(df_data[col])\n",
    "    df_data[col] = df_data[col].apply(lambda x:date.today() - x.date())\n",
    "    "
   ]
  },
  {
   "cell_type": "code",
   "execution_count": 957,
   "id": "b545ef22",
   "metadata": {},
   "outputs": [],
   "source": [
    "# Dropping rows other than male and female\n",
    "df_data =  df_data.loc[(df_data.gender == \"male\") | (df_data.gender == \"female\")]"
   ]
  },
  {
   "cell_type": "code",
   "execution_count": 958,
   "id": "3101db35",
   "metadata": {},
   "outputs": [],
   "source": [
    "# Columns removed Unit_id,tweet_id,description,text,name,profile_image\n",
    "num=['_trusted_judgments','df_data:confidence','profile_yn:confidence','fav_number','retweet_count','tweet_count']\n",
    "cat=['_unit_state','gender','gender_gold','link_color','profile_yn_gold','sidebar_color','tweet_coord','tweet_location','user_timezone']\n",
    "date=['tweet_created','created','_last_judgment_at']\n",
    "boolean =['_golden','profile_yn']"
   ]
  },
  {
   "cell_type": "code",
   "execution_count": 959,
   "id": "7ad12aba",
   "metadata": {},
   "outputs": [],
   "source": [
    "# Imputing values of tweet_location,user_timezone and df_data:confidence\n",
    "df_data['tweet_location'] = df_data['tweet_location'].fillna('London')\n",
    "df_data['user_timezone'] = df_data['user_timezone'].fillna('Eastern Time (US & Canada)')\n",
    "df_data['gender:confidence'] = df_data['gender:confidence'].fillna(1.0)\n",
    "\n",
    "#Changing Boolean values to 0 and 1\n",
    "df_data['profile_yn'] = df_data['profile_yn'].replace({'yes':1,'no':0})\n",
    "df_data['_golden'] = df_data['_golden'].astype(int)\n",
    "\n",
    "# Encoding df_data 1 for male and 0 for female\n",
    "df_data['gender'] = df_data['gender'].replace({'male':1,'female':0})"
   ]
  },
  {
   "cell_type": "code",
   "execution_count": 960,
   "id": "951b8654",
   "metadata": {},
   "outputs": [],
   "source": [
    "l=cardinality_list('user_timezone',100)\n",
    "m = cardinality_list('link_color',100)\n",
    "n = cardinality_list('sidebar_color',100)\n",
    "# Reducing Cardinality in user_timezone\n",
    "df_data['user_timezone'] = [x if x in l else 'others' for x in df_data['user_timezone']]"
   ]
  },
  {
   "cell_type": "code",
   "execution_count": 961,
   "id": "533b1f87",
   "metadata": {},
   "outputs": [],
   "source": [
    "# Dropping gender_gold,profile_yn_gold,tweet_coord as the fillrate is less than 1%\n",
    "# Dropping Dates and tweet_location\n",
    "col_to_remove = ['tweet_coord','tweet_location','profile_yn_gold','gender_gold','gender']\n",
    "cat_1 = [x for x in cat if x not in col_to_remove]"
   ]
  },
  {
   "cell_type": "code",
   "execution_count": 962,
   "id": "c32ff578",
   "metadata": {},
   "outputs": [],
   "source": [
    "# One hot encoding\n",
    "gender_1 = pd.get_dummies(df_data,columns = cat_1)"
   ]
  },
  {
   "cell_type": "code",
   "execution_count": 963,
   "id": "41077788",
   "metadata": {},
   "outputs": [],
   "source": [
    "# Scaling Data\n",
    "sc = StandardScaler()\n",
    "gender_1['tweet_count'] = sc.fit_transform(gender_1[['tweet_count']])\n",
    "gender_1['fav_number'] = sc.fit_transform(gender_1[['fav_number']])\n",
    "gender_1['_trusted_judgments'] = sc.fit_transform(gender_1[['_trusted_judgments']])\n",
    "gender_1 = gender_1.drop(['text','description','name','tweet_coord','tweet_location','profile_yn_gold','profileimage','gender_gold','gender','tweet_created','created','_last_judgment_at','_unit_id','tweet_id'],axis = 1)"
   ]
  },
  {
   "cell_type": "code",
   "execution_count": 964,
   "id": "ea60f1f3",
   "metadata": {},
   "outputs": [],
   "source": [
    "#it is the dataset with all the columns except the prediction variable.\n",
    "featured_data = gender_1\n",
    "\n",
    "#it is the dataset of the prediction variable.\n",
    "prediction_data = df_data['gender']"
   ]
  },
  {
   "cell_type": "code",
   "execution_count": 965,
   "id": "30199dbc",
   "metadata": {},
   "outputs": [],
   "source": [
    "#Splitting dataset 60% for training, 20 for validation and 20% for testing the classifier. Use random state as 2022\n",
    "\n",
    "# #spliting the dataset into 60% training dataset.\n",
    "feature_training,feature_test,prediction_train,prediction_test=train_test_split(featured_data,prediction_data,train_size=0.6,random_state = 2022) \n",
    "#spliting the dataset into 20% testing and 20% validation dataset.\n",
    "feature_valid, feature_test, prediction_valid, prediction_test = train_test_split(feature_test,prediction_test, test_size=0.5, random_state = 2022)\n",
    "\n"
   ]
  },
  {
   "cell_type": "markdown",
   "id": "5a244f0f",
   "metadata": {},
   "source": [
    "# Decision Tree\n"
   ]
  },
  {
   "cell_type": "code",
   "execution_count": 966,
   "id": "74c82dd9",
   "metadata": {},
   "outputs": [],
   "source": [
    "#Gini index\n",
    "import seaborn as sns\n",
    "from sklearn.metrics import confusion_matrix\n",
    "from sklearn.tree import DecisionTreeClassifier\n",
    " # Creating the classifier object\n",
    "dTClf = DecisionTreeClassifier (criterion=\"gini\",max_depth=4)\n",
    "\n"
   ]
  },
  {
   "cell_type": "code",
   "execution_count": 967,
   "id": "94379e27",
   "metadata": {},
   "outputs": [],
   "source": [
    "# Gnb = GaussianNB()\n",
    "# Gnb.fit(feature_training, prediction_train)"
   ]
  },
  {
   "cell_type": "code",
   "execution_count": 968,
   "id": "03d63bad",
   "metadata": {},
   "outputs": [
    {
     "data": {
      "text/plain": [
       "DecisionTreeClassifier(max_depth=4)"
      ]
     },
     "execution_count": 968,
     "metadata": {},
     "output_type": "execute_result"
    }
   ],
   "source": [
    "#classification fit in the training data\n",
    "dTClf.fit(feature_training, prediction_train)"
   ]
  },
  {
   "cell_type": "code",
   "execution_count": 969,
   "id": "27c70f5c",
   "metadata": {},
   "outputs": [],
   "source": [
    "y_pred=dTClf.predict(feature_test)"
   ]
  },
  {
   "cell_type": "code",
   "execution_count": 970,
   "id": "0bed5d23",
   "metadata": {},
   "outputs": [
    {
     "name": "stdout",
     "output_type": "stream",
     "text": [
      "Accuracy for predicted test data set -  0.5886002326483133\n"
     ]
    }
   ],
   "source": [
    "# getting accuracy score from metrics accuracy_score\n",
    "from sklearn.metrics import accuracy_score\n",
    "score = accuracy_score(prediction_test, y_pred)\n",
    "print(\"Accuracy for predicted test data set - \" , score)"
   ]
  },
  {
   "cell_type": "code",
   "execution_count": 971,
   "id": "d3fbb966",
   "metadata": {},
   "outputs": [
    {
     "name": "stdout",
     "output_type": "stream",
     "text": [
      "Report of predicted test Dataset : \n",
      "                precision    recall  f1-score   support\n",
      "\n",
      "           0       0.61      0.57      0.59      1338\n",
      "           1       0.57      0.61      0.59      1241\n",
      "\n",
      "    accuracy                           0.59      2579\n",
      "   macro avg       0.59      0.59      0.59      2579\n",
      "weighted avg       0.59      0.59      0.59      2579\n",
      "\n",
      "Confusion Matrix of predicated test Dataset: \n",
      " [[764 574]\n",
      " [487 754]]\n"
     ]
    }
   ],
   "source": [
    "from sklearn.metrics import classification_report\n",
    "print(\"Report of predicted test Dataset : \\n \",classification_report(prediction_test, y_pred))\n",
    "print(\"Confusion Matrix of predicated test Dataset: \\n\",confusion_matrix(prediction_test, y_pred))\n"
   ]
  },
  {
   "cell_type": "code",
   "execution_count": 972,
   "id": "99f6bd0a",
   "metadata": {},
   "outputs": [
    {
     "data": {
      "image/png": "[encoded data removed]",
      "text/plain": [
       "<Figure size 432x288 with 2 Axes>"
      ]
     },
     "metadata": {
      "needs_background": "light"
     },
     "output_type": "display_data"
    }
   ],
   "source": [
    "import seaborn as sns\n",
    "from sklearn.metrics import confusion_matrix\n",
    "cm = confusion_matrix(prediction_test,y_pred)\n",
    "f = sns.heatmap(cm, annot= True, fmt='d')"
   ]
  },
  {
   "cell_type": "code",
   "execution_count": 973,
   "id": "9f2b1dd0",
   "metadata": {},
   "outputs": [
    {
     "name": "stdout",
     "output_type": "stream",
     "text": [
      "Validation Accuracy 0.5897634742148119\n",
      "Test Accuracy 0.5781310585498255\n"
     ]
    }
   ],
   "source": [
    "# importing the classifier and fitting the training data.\n",
    "clf = DecisionTreeClassifier(max_depth=8)\n",
    "clf.fit(feature_training, prediction_train)\n",
    "\n",
    "# predicing the data based on the validation data split\n",
    "val_pred = clf.predict(feature_valid)\n",
    "\n",
    "# predicing the data based in the testing data split\n",
    "test_pred = clf.predict(feature_valid)\n",
    "\n",
    "print(\"Validation Accuracy\", clf.score(feature_valid, prediction_valid))\n",
    "print(\"Test Accuracy\", clf.score(feature_test, prediction_test))"
   ]
  },
  {
   "cell_type": "code",
   "execution_count": 974,
   "id": "b14fb10b",
   "metadata": {},
   "outputs": [],
   "source": [
    "def printTree(depth):\n",
    "    from sklearn import tree\n",
    "    clf = DecisionTreeClassifier(max_depth = depth, criterion='gini')\n",
    "    clf.fit(feature_training, prediction_train)\n",
    "    clf.predict(feature_test)\n",
    "    tree.plot_tree(clf)"
   ]
  },
  {
   "cell_type": "code",
   "execution_count": 975,
   "id": "e65aa4dc",
   "metadata": {},
   "outputs": [],
   "source": [
    "def printTreeEntropy(depth):\n",
    "    from sklearn import tree\n",
    "    clf = DecisionTreeClassifier(max_depth = depth, criterion='entropy')\n",
    "    clf.fit(feature_training, prediction_train)\n",
    "    clf.predict(feature_test)\n",
    "    tree.plot_tree(clf)"
   ]
  },
  {
   "cell_type": "code",
   "execution_count": 976,
   "id": "d08050ff",
   "metadata": {},
   "outputs": [
    {
     "data": {
      "image/png": "[encoded data removed]",
      "text/plain": [
       "<Figure size 432x288 with 1 Axes>"
      ]
     },
     "metadata": {
      "needs_background": "light"
     },
     "output_type": "display_data"
    }
   ],
   "source": [
    "#printing the decision tree for depth 3 by Gini\n",
    "printTree(3)"
   ]
  },
  {
   "cell_type": "code",
   "execution_count": 977,
   "id": "3412c3a4",
   "metadata": {},
   "outputs": [
    {
     "data": {
      "image/png": "[encoded data removed]",
      "text/plain": [
       "<Figure size 432x288 with 1 Axes>"
      ]
     },
     "metadata": {
      "needs_background": "light"
     },
     "output_type": "display_data"
    }
   ],
   "source": [
    "#printing the decision tree for depth 4 by Gini\n",
    "printTree(4)"
   ]
  },
  {
   "cell_type": "code",
   "execution_count": 978,
   "id": "80230c80",
   "metadata": {},
   "outputs": [
    {
     "data": {
      "image/png": "[encoded data removed]",
      "text/plain": [
       "<Figure size 432x288 with 1 Axes>"
      ]
     },
     "metadata": {
      "needs_background": "light"
     },
     "output_type": "display_data"
    }
   ],
   "source": [
    "#printing the decision tree for depth 5 by Gini\n",
    "printTree(5)"
   ]
  },
  {
   "cell_type": "code",
   "execution_count": 979,
   "id": "a5a66996",
   "metadata": {},
   "outputs": [
    {
     "data": {
      "image/png": "[encoded data removed]",
      "text/plain": [
       "<Figure size 432x288 with 1 Axes>"
      ]
     },
     "metadata": {
      "needs_background": "light"
     },
     "output_type": "display_data"
    }
   ],
   "source": [
    "#printing the decision tree for depth 3 by Entropy\n",
    "printTreeEntropy(3)"
   ]
  },
  {
   "cell_type": "code",
   "execution_count": 980,
   "id": "6d50ffd7",
   "metadata": {},
   "outputs": [
    {
     "data": {
      "image/png": "[encoded data removed]",
      "text/plain": [
       "<Figure size 432x288 with 1 Axes>"
      ]
     },
     "metadata": {
      "needs_background": "light"
     },
     "output_type": "display_data"
    }
   ],
   "source": [
    "#printing the decision tree for depth 4 by Entropy\n",
    "printTreeEntropy(4)"
   ]
  },
  {
   "cell_type": "code",
   "execution_count": 981,
   "id": "172f0297",
   "metadata": {},
   "outputs": [
    {
     "data": {
      "image/png": "[encoded data removed]",
      "text/plain": [
       "<Figure size 432x288 with 1 Axes>"
      ]
     },
     "metadata": {
      "needs_background": "light"
     },
     "output_type": "display_data"
    }
   ],
   "source": [
    "#printing the decision tree for depth 5 by Entropy\n",
    "printTreeEntropy(5)"
   ]
  },
  {
   "cell_type": "markdown",
   "id": "a9a66915",
   "metadata": {},
   "source": [
    "# Naive bayes\n",
    "\n"
   ]
  },
  {
   "cell_type": "markdown",
   "id": "dc2ea1df",
   "metadata": {},
   "source": [
    "Gaussian Naive bayes"
   ]
  },
  {
   "cell_type": "code",
   "execution_count": 982,
   "id": "41b1636b",
   "metadata": {},
   "outputs": [],
   "source": [
    "Gnb = GaussianNB()\n",
    "Gnb.fit(feature_training, prediction_train)\n",
    "y_pred = Gnb.predict(feature_test)\n",
    "y_pred_val = Gnb.predict(feature_valid)"
   ]
  },
  {
   "cell_type": "code",
   "execution_count": 983,
   "id": "8e68428d",
   "metadata": {},
   "outputs": [
    {
     "name": "stdout",
     "output_type": "stream",
     "text": [
      "-------------------- Test Accuracy --------------------\n",
      "Report for Test Datgaset: \n",
      "                precision    recall  f1-score   support\n",
      "\n",
      "           0       0.77      0.02      0.04      1338\n",
      "           1       0.48      0.99      0.65      1241\n",
      "\n",
      "    accuracy                           0.49      2579\n",
      "   macro avg       0.63      0.51      0.34      2579\n",
      "weighted avg       0.63      0.49      0.33      2579\n",
      "\n",
      "Confusion Matrix for Test Datgaset: \n",
      " [[  24 1314]\n",
      " [   7 1234]]\n"
     ]
    },
    {
     "data": {
      "image/png": "[encoded data removed]",
      "text/plain": [
       "<Figure size 432x288 with 2 Axes>"
      ]
     },
     "metadata": {
      "needs_background": "light"
     },
     "output_type": "display_data"
    }
   ],
   "source": [
    "#getting classification report and confusion matrix for the Gaussian \n",
    "from sklearn.metrics import classification_report\n",
    "print(\"-\"*20, \"Test Accuracy\", \"-\"*20)\n",
    "print(\"Report for Test Datgaset: \\n \",classification_report(prediction_test, y_pred))\n",
    "print(\"Confusion Matrix for Test Datgaset: \\n\",confusion_matrix(prediction_test, y_pred))\n",
    "import seaborn as sns\n",
    "from sklearn.metrics import confusion_matrix\n",
    "cm = confusion_matrix(prediction_test,y_pred)\n",
    "f = sns.heatmap(cm, annot= True, fmt='d')"
   ]
  },
  {
   "cell_type": "code",
   "execution_count": 984,
   "id": "9d07b8a6",
   "metadata": {},
   "outputs": [
    {
     "name": "stdout",
     "output_type": "stream",
     "text": [
      "-------------------- Validation Accuracy --------------------\n",
      "Confusion Matrix: \n",
      "\n",
      "[[  18 1344]\n",
      " [   6 1211]]\n",
      "Classification Report: \n",
      "\n",
      "              precision    recall  f1-score   support\n",
      "\n",
      "           0       0.75      0.01      0.03      1362\n",
      "           1       0.47      1.00      0.64      1217\n",
      "\n",
      "    accuracy                           0.48      2579\n",
      "   macro avg       0.61      0.50      0.33      2579\n",
      "weighted avg       0.62      0.48      0.32      2579\n",
      "\n"
     ]
    },
    {
     "data": {
      "image/png": "[encoded data removed]",
      "text/plain": [
       "<Figure size 432x288 with 2 Axes>"
      ]
     },
     "metadata": {
      "needs_background": "light"
     },
     "output_type": "display_data"
    }
   ],
   "source": [
    "\n",
    "from sklearn.metrics import classification_report\n",
    "import seaborn as sns\n",
    "from sklearn.metrics import confusion_matrix\n",
    "\n",
    "print(\"-\"*20, \"Validation Accuracy\", \"-\"*20)\n",
    "print(\"Confusion Matrix: \\n\")\n",
    "print(confusion_matrix(prediction_valid, y_pred_val))\n",
    "print(\"Classification Report: \\n\")\n",
    "print(classification_report(prediction_valid, y_pred_val))\n",
    "cmv = confusion_matrix(prediction_test,y_pred)\n",
    "f = sns.heatmap(cmv, annot= True, fmt='d')"
   ]
  },
  {
   "cell_type": "markdown",
   "id": "81b1eb79",
   "metadata": {},
   "source": [
    "Bernoulli Naive Bayes"
   ]
  },
  {
   "cell_type": "code",
   "execution_count": 985,
   "id": "b2a07998",
   "metadata": {},
   "outputs": [
    {
     "data": {
      "text/plain": [
       "BernoulliNB()"
      ]
     },
     "execution_count": 985,
     "metadata": {},
     "output_type": "execute_result"
    }
   ],
   "source": [
    "Bnb = BernoulliNB()\n",
    "Bnb.fit(feature_training, prediction_train)"
   ]
  },
  {
   "cell_type": "code",
   "execution_count": 986,
   "id": "c03bf1e4",
   "metadata": {},
   "outputs": [],
   "source": [
    "y_pred = Bnb.predict(feature_test)\n",
    "\n",
    "\n",
    "y_pred_val = Bnb.predict(feature_valid)"
   ]
  },
  {
   "cell_type": "code",
   "execution_count": 987,
   "id": "234ff22c",
   "metadata": {},
   "outputs": [
    {
     "name": "stdout",
     "output_type": "stream",
     "text": [
      "-------------------- Test Accuracy --------------------\n",
      "Report for Test Datgaset : \n",
      "                precision    recall  f1-score   support\n",
      "\n",
      "           0       0.65      0.52      0.58      1338\n",
      "           1       0.57      0.70      0.63      1241\n",
      "\n",
      "    accuracy                           0.60      2579\n",
      "   macro avg       0.61      0.61      0.60      2579\n",
      "weighted avg       0.61      0.60      0.60      2579\n",
      "\n",
      "Confusion Matrix for Test Datgaset: \n",
      "  [[691 647]\n",
      " [372 869]]\n"
     ]
    },
    {
     "data": {
      "image/png": "[encoded data removed]",
      "text/plain": [
       "<Figure size 432x288 with 2 Axes>"
      ]
     },
     "metadata": {
      "needs_background": "light"
     },
     "output_type": "display_data"
    }
   ],
   "source": [
    "#getting classification report and confusion matrix for the Multinomial\n",
    "from sklearn.metrics import classification_report\n",
    "import seaborn as sns\n",
    "from sklearn.metrics import confusion_matrix\n",
    "\n",
    "print(\"-\"*20, \"Test Accuracy\", \"-\"*20)\n",
    "print(\"Report for Test Datgaset : \\n \",classification_report(prediction_test, y_pred))\n",
    "print(\"Confusion Matrix for Test Datgaset: \\n \",confusion_matrix(prediction_test, y_pred))\n",
    "\n",
    "cm = confusion_matrix(prediction_test,y_pred)\n",
    "f = sns.heatmap(cm, annot= True, fmt='d')\n",
    "\n",
    "\n"
   ]
  },
  {
   "cell_type": "code",
   "execution_count": 988,
   "id": "081468eb",
   "metadata": {},
   "outputs": [
    {
     "name": "stdout",
     "output_type": "stream",
     "text": [
      "-------------------- Validation Accuracy --------------------\n",
      "Confusion Matrix: \n",
      "\n",
      "[[707 655]\n",
      " [402 815]]\n",
      "Classification Report: \n",
      "\n",
      "              precision    recall  f1-score   support\n",
      "\n",
      "           0       0.64      0.52      0.57      1362\n",
      "           1       0.55      0.67      0.61      1217\n",
      "\n",
      "    accuracy                           0.59      2579\n",
      "   macro avg       0.60      0.59      0.59      2579\n",
      "weighted avg       0.60      0.59      0.59      2579\n",
      "\n"
     ]
    },
    {
     "data": {
      "image/png": "[encoded data removed]",
      "text/plain": [
       "<Figure size 432x288 with 2 Axes>"
      ]
     },
     "metadata": {
      "needs_background": "light"
     },
     "output_type": "display_data"
    }
   ],
   "source": [
    "\n",
    "from sklearn.metrics import classification_report\n",
    "import seaborn as sns\n",
    "from sklearn.metrics import confusion_matrix\n",
    "\n",
    "print(\"-\"*20, \"Validation Accuracy\", \"-\"*20)\n",
    "print(\"Confusion Matrix: \\n\")\n",
    "print(confusion_matrix(prediction_valid, y_pred_val))\n",
    "print(\"Classification Report: \\n\")\n",
    "print(classification_report(prediction_valid, y_pred_val))\n",
    "cmv = confusion_matrix(prediction_test,y_pred)\n",
    "f = sns.heatmap(cmv, annot= True, fmt='d')"
   ]
  }
 ],
 "metadata": {
  "kernelspec": {
   "display_name": "Python 3 (ipykernel)",
   "language": "python",
   "name": "python3"
  },
  "language_info": {
   "codemirror_mode": {
    "name": "ipython",
    "version": 3
   },
   "file_extension": ".py",
   "mimetype": "text/x-python",
   "name": "python",
   "nbconvert_exporter": "python",
   "pygments_lexer": "ipython3",
   "version": "3.10.2"
  }
 },
 "nbformat": 4,
 "nbformat_minor": 5
}
