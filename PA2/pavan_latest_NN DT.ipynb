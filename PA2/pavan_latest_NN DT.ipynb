{
 "cells": [
  {
   "cell_type": "markdown",
   "metadata": {
    "id": "eNH7maHuK13d"
   },
   "source": [
    "# PA 2: Classification - Decision Tree"
   ]
  },
  {
   "cell_type": "markdown",
   "metadata": {
    "id": "6d_frEA-K13o"
   },
   "source": [
    "## Student Details\n",
    "\n",
    "Student Name and ID of the member submitting the assignment: \n",
    "\n",
    "Student Name and ID of the remaining members: \n",
    "\n",
    "Notes:\n",
    "When submitting, fill your name and ID in this cell. Note that this is a markdown cell!<br>\n",
    "Do not make any changes in the dataset file and do not rename the 'database.csv'.\n",
    "<br> Rename your submission file to <b> 'yourLastName_Last4digitsofyourID_PA1.ipynb' </b>. \n",
    "<br> Do not to forget to cite any external sources used by you. \n",
    "*10 points per question will be deducted incase you fail to do so*\n",
    "<br>*DO NOT DELETE THIS CELL*<br>\n",
    "#### Please consult the TA before using any other packages apart from sklearn,numpy,pandas, matplotlib and seaborn\n"
   ]
  },
  {
   "cell_type": "markdown",
   "metadata": {
    "id": "3FzhtpugK13q"
   },
   "source": [
    "## Programming Assignment Submission Instructions (2 Points)\n",
    "\n",
    "Step 1: Rename this submission file as 'yourLastName_Last4digitsofyourID_DT.ipynb' [1 point]\n",
    "\n",
    "Step 2: Place this file inside the folder 'PA#2_Classification_yourLastName'  [1 point]\n",
    "\n",
    "**Do not upload the database file. Only two files are expected** [-20 points]\n"
   ]
  },
  {
   "cell_type": "markdown",
   "metadata": {
    "id": "iyMeFSNHK13s"
   },
   "source": [
    "## Programming Assignment Details (5 Points)\n",
    "\n",
    "\n",
    "For this assignment use Jupyter notebook, Panda, and scikit.\n",
    "\n",
    "1) Load Drinking Water dataset from water_potability.csv. Output/Prediction variable is potability.  [1 points]\n",
    "\n",
    "\n",
    "2) Create a dataframe and print the first and last 10 records of your dataset.  [1 points]\n",
    "\n",
    "3) Print the class labels.  [1 points]\n",
    "\n",
    "\n",
    "4) Split your dataset 70% for training,20% for validation and 10% for testing the classifier. Use random state 2030.  [2 points]"
   ]
  },
  {
   "cell_type": "markdown",
   "metadata": {
    "id": "1GlbcZGxK13v"
   },
   "source": [
    "# DecisionTree (10 Points)\n",
    "1) Use gini and entropy to measure the quality of a split.  [2 points]\n",
    "\n",
    "\n",
    "2) Use comments to explain your code and variable names. [1 point]\n",
    "\n",
    "\n",
    "3) Calculate and print the confusion matrix (use graphics instead showing a 2D array), and the classification Report (includes: precision, recall, f1-score, and support.Explain the classification report in detail and donot copy paste from the internet.**10 points will be deducted if found** [2 points]\n",
    "\n",
    "\n",
    "4) Print the decision tree visualization with 3 different  depths of 4 and also mention the difference you observe.  [5 points]\n"
   ]
  },
  {
   "cell_type": "markdown",
   "metadata": {
    "id": "3ZQKm7rcK13x"
   },
   "source": [
    "# Naive Bayes (10 Points)\n",
    "\n",
    "\n",
    "1) Use 3 types of Naive bayes classifier  to predict the data and explain which is the best classifier.[5 point] \n",
    "\n",
    "\n",
    "2) Use comments to explain your code and variable names[1 point]\n",
    "\n",
    "\n",
    "3) Calculate and print the confusion matrix (use graphics instead showing a 2D array), and the classification Report (includes: precision, recall, f1-score, and support).  [4 points]"
   ]
  },
  {
   "cell_type": "markdown",
   "metadata": {
    "id": "ltatUegEK13z"
   },
   "source": [
    "## Report (23 Points)\n",
    "\n",
    "\n",
    "1) Describe the Decision Tree methods, and Naive Bayes classifier in details in your own words. Dont copy paste it from the internet. Write it on your own.  [5 points]\n",
    "\n",
    "2) Describe the datasets like what do you understand from the dataset? and if you have done any pre-processing , and your code, please write down your observation. [6 points]\n",
    "\n",
    "4) Visualization of the decision tree for gini and entropy.[4 points]\n",
    "\n",
    "5) Interpret your results, compare gini and entropy [4 points]\n",
    "\n",
    "6) Visualize the dataset, for the target variable - 2 graphs [4 points]\n",
    "\n",
    "Do not to forget to cite your sources!\n",
    "\n",
    "## Please consult the TA before using any other packages apart from sklearn,numpy,pandas, matplotlib and seaborn."
   ]
  },
  {
   "cell_type": "code",
   "execution_count": null,
   "metadata": {},
   "outputs": [],
   "source": []
  },
  {
   "cell_type": "code",
   "execution_count": 12,
   "metadata": {},
   "outputs": [],
   "source": [
    "#importing the required modules\n",
    "import pandas as pd\n",
    "import numpy as np\n",
    "from sklearn.model_selection import train_test_split\n",
    "from sklearn.naive_bayes import GaussianNB\n",
    "from sklearn.naive_bayes import MultinomialNB\n",
    "from sklearn.naive_bayes import BernoulliNB"
   ]
  },
  {
   "cell_type": "code",
   "execution_count": 13,
   "metadata": {},
   "outputs": [],
   "source": [
    "df = pd.read_csv('Gender_classifier.csv', encoding='latin1')"
   ]
  },
  {
   "cell_type": "code",
   "execution_count": 14,
   "metadata": {},
   "outputs": [
    {
     "data": {
      "text/html": [
       "<div>\n",
       "<style scoped>\n",
       "    .dataframe tbody tr th:only-of-type {\n",
       "        vertical-align: middle;\n",
       "    }\n",
       "\n",
       "    .dataframe tbody tr th {\n",
       "        vertical-align: top;\n",
       "    }\n",
       "\n",
       "    .dataframe thead th {\n",
       "        text-align: right;\n",
       "    }\n",
       "</style>\n",
       "<table border=\"1\" class=\"dataframe\">\n",
       "  <thead>\n",
       "    <tr style=\"text-align: right;\">\n",
       "      <th></th>\n",
       "      <th>_unit_id</th>\n",
       "      <th>_golden</th>\n",
       "      <th>_unit_state</th>\n",
       "      <th>_trusted_judgments</th>\n",
       "      <th>_last_judgment_at</th>\n",
       "      <th>gender</th>\n",
       "      <th>gender:confidence</th>\n",
       "      <th>profile_yn</th>\n",
       "      <th>profile_yn:confidence</th>\n",
       "      <th>created</th>\n",
       "      <th>...</th>\n",
       "      <th>profileimage</th>\n",
       "      <th>retweet_count</th>\n",
       "      <th>sidebar_color</th>\n",
       "      <th>text</th>\n",
       "      <th>tweet_coord</th>\n",
       "      <th>tweet_count</th>\n",
       "      <th>tweet_created</th>\n",
       "      <th>tweet_id</th>\n",
       "      <th>tweet_location</th>\n",
       "      <th>user_timezone</th>\n",
       "    </tr>\n",
       "  </thead>\n",
       "  <tbody>\n",
       "    <tr>\n",
       "      <th>0</th>\n",
       "      <td>815719226</td>\n",
       "      <td>False</td>\n",
       "      <td>finalized</td>\n",
       "      <td>3</td>\n",
       "      <td>10/26/15 23:24</td>\n",
       "      <td>male</td>\n",
       "      <td>1.0000</td>\n",
       "      <td>yes</td>\n",
       "      <td>1.0</td>\n",
       "      <td>12/5/13 01:48</td>\n",
       "      <td>...</td>\n",
       "      <td>https://pbs.twimg.com/profile_images/414342229...</td>\n",
       "      <td>0</td>\n",
       "      <td>FFFFFF</td>\n",
       "      <td>Robbie E Responds To Critics After Win Against...</td>\n",
       "      <td>NaN</td>\n",
       "      <td>110964</td>\n",
       "      <td>10/26/15 12:40</td>\n",
       "      <td>6.590000e+17</td>\n",
       "      <td>main; @Kan1shk3</td>\n",
       "      <td>Chennai</td>\n",
       "    </tr>\n",
       "    <tr>\n",
       "      <th>1</th>\n",
       "      <td>815719227</td>\n",
       "      <td>False</td>\n",
       "      <td>finalized</td>\n",
       "      <td>3</td>\n",
       "      <td>10/26/15 23:30</td>\n",
       "      <td>male</td>\n",
       "      <td>1.0000</td>\n",
       "      <td>yes</td>\n",
       "      <td>1.0</td>\n",
       "      <td>10/1/12 13:51</td>\n",
       "      <td>...</td>\n",
       "      <td>https://pbs.twimg.com/profile_images/539604221...</td>\n",
       "      <td>0</td>\n",
       "      <td>C0DEED</td>\n",
       "      <td>ÛÏIt felt like they were my friends and I was...</td>\n",
       "      <td>NaN</td>\n",
       "      <td>7471</td>\n",
       "      <td>10/26/15 12:40</td>\n",
       "      <td>6.590000e+17</td>\n",
       "      <td>NaN</td>\n",
       "      <td>Eastern Time (US &amp; Canada)</td>\n",
       "    </tr>\n",
       "    <tr>\n",
       "      <th>2</th>\n",
       "      <td>815719228</td>\n",
       "      <td>False</td>\n",
       "      <td>finalized</td>\n",
       "      <td>3</td>\n",
       "      <td>10/26/15 23:33</td>\n",
       "      <td>male</td>\n",
       "      <td>0.6625</td>\n",
       "      <td>yes</td>\n",
       "      <td>1.0</td>\n",
       "      <td>11/28/14 11:30</td>\n",
       "      <td>...</td>\n",
       "      <td>https://pbs.twimg.com/profile_images/657330418...</td>\n",
       "      <td>1</td>\n",
       "      <td>C0DEED</td>\n",
       "      <td>i absolutely adore when louis starts the songs...</td>\n",
       "      <td>NaN</td>\n",
       "      <td>5617</td>\n",
       "      <td>10/26/15 12:40</td>\n",
       "      <td>6.590000e+17</td>\n",
       "      <td>clcncl</td>\n",
       "      <td>Belgrade</td>\n",
       "    </tr>\n",
       "    <tr>\n",
       "      <th>3</th>\n",
       "      <td>815719229</td>\n",
       "      <td>False</td>\n",
       "      <td>finalized</td>\n",
       "      <td>3</td>\n",
       "      <td>10/26/15 23:10</td>\n",
       "      <td>male</td>\n",
       "      <td>1.0000</td>\n",
       "      <td>yes</td>\n",
       "      <td>1.0</td>\n",
       "      <td>6/11/09 22:39</td>\n",
       "      <td>...</td>\n",
       "      <td>https://pbs.twimg.com/profile_images/259703936...</td>\n",
       "      <td>0</td>\n",
       "      <td>C0DEED</td>\n",
       "      <td>Hi @JordanSpieth - Looking at the url - do you...</td>\n",
       "      <td>NaN</td>\n",
       "      <td>1693</td>\n",
       "      <td>10/26/15 12:40</td>\n",
       "      <td>6.590000e+17</td>\n",
       "      <td>Palo Alto, CA</td>\n",
       "      <td>Pacific Time (US &amp; Canada)</td>\n",
       "    </tr>\n",
       "    <tr>\n",
       "      <th>4</th>\n",
       "      <td>815719230</td>\n",
       "      <td>False</td>\n",
       "      <td>finalized</td>\n",
       "      <td>3</td>\n",
       "      <td>10/27/15 01:15</td>\n",
       "      <td>female</td>\n",
       "      <td>1.0000</td>\n",
       "      <td>yes</td>\n",
       "      <td>1.0</td>\n",
       "      <td>4/16/14 13:23</td>\n",
       "      <td>...</td>\n",
       "      <td>https://pbs.twimg.com/profile_images/564094871...</td>\n",
       "      <td>0</td>\n",
       "      <td>0</td>\n",
       "      <td>Watching Neighbours on Sky+ catching up with t...</td>\n",
       "      <td>NaN</td>\n",
       "      <td>31462</td>\n",
       "      <td>10/26/15 12:40</td>\n",
       "      <td>6.590000e+17</td>\n",
       "      <td>NaN</td>\n",
       "      <td>NaN</td>\n",
       "    </tr>\n",
       "    <tr>\n",
       "      <th>5</th>\n",
       "      <td>815719231</td>\n",
       "      <td>False</td>\n",
       "      <td>finalized</td>\n",
       "      <td>3</td>\n",
       "      <td>10/27/15 01:47</td>\n",
       "      <td>female</td>\n",
       "      <td>1.0000</td>\n",
       "      <td>yes</td>\n",
       "      <td>1.0</td>\n",
       "      <td>3/11/10 18:14</td>\n",
       "      <td>...</td>\n",
       "      <td>https://pbs.twimg.com/profile_images/656336865...</td>\n",
       "      <td>0</td>\n",
       "      <td>0</td>\n",
       "      <td>Ive seen people on the train with lamps, chair...</td>\n",
       "      <td>NaN</td>\n",
       "      <td>20036</td>\n",
       "      <td>10/26/15 12:40</td>\n",
       "      <td>6.590000e+17</td>\n",
       "      <td>New York Gritty</td>\n",
       "      <td>Central Time (US &amp; Canada)</td>\n",
       "    </tr>\n",
       "    <tr>\n",
       "      <th>6</th>\n",
       "      <td>815719232</td>\n",
       "      <td>False</td>\n",
       "      <td>finalized</td>\n",
       "      <td>3</td>\n",
       "      <td>10/27/15 01:57</td>\n",
       "      <td>brand</td>\n",
       "      <td>1.0000</td>\n",
       "      <td>yes</td>\n",
       "      <td>1.0</td>\n",
       "      <td>4/24/08 13:03</td>\n",
       "      <td>...</td>\n",
       "      <td>https://pbs.twimg.com/profile_images/528547133...</td>\n",
       "      <td>0</td>\n",
       "      <td>0</td>\n",
       "      <td>@BpackEngineer Thank you for your patience whi...</td>\n",
       "      <td>NaN</td>\n",
       "      <td>13354</td>\n",
       "      <td>10/26/15 12:40</td>\n",
       "      <td>6.590000e+17</td>\n",
       "      <td>Worldwide</td>\n",
       "      <td>Eastern Time (US &amp; Canada)</td>\n",
       "    </tr>\n",
       "    <tr>\n",
       "      <th>7</th>\n",
       "      <td>815719233</td>\n",
       "      <td>False</td>\n",
       "      <td>finalized</td>\n",
       "      <td>3</td>\n",
       "      <td>10/26/15 23:48</td>\n",
       "      <td>male</td>\n",
       "      <td>1.0000</td>\n",
       "      <td>yes</td>\n",
       "      <td>1.0</td>\n",
       "      <td>12/3/12 21:54</td>\n",
       "      <td>...</td>\n",
       "      <td>https://pbs.twimg.com/profile_images/508875440...</td>\n",
       "      <td>0</td>\n",
       "      <td>C0DEED</td>\n",
       "      <td>Gala Bingo clubs bought for å£241m: The UK's l...</td>\n",
       "      <td>NaN</td>\n",
       "      <td>112117</td>\n",
       "      <td>10/26/15 12:40</td>\n",
       "      <td>6.590000e+17</td>\n",
       "      <td>NaN</td>\n",
       "      <td>NaN</td>\n",
       "    </tr>\n",
       "    <tr>\n",
       "      <th>8</th>\n",
       "      <td>815719234</td>\n",
       "      <td>False</td>\n",
       "      <td>finalized</td>\n",
       "      <td>3</td>\n",
       "      <td>10/27/15 01:52</td>\n",
       "      <td>female</td>\n",
       "      <td>1.0000</td>\n",
       "      <td>yes</td>\n",
       "      <td>1.0</td>\n",
       "      <td>9/8/15 04:50</td>\n",
       "      <td>...</td>\n",
       "      <td>https://pbs.twimg.com/profile_images/658670112...</td>\n",
       "      <td>0</td>\n",
       "      <td>0</td>\n",
       "      <td>@_Aphmau_ the pic defines all mcd fangirls/fan...</td>\n",
       "      <td>NaN</td>\n",
       "      <td>482</td>\n",
       "      <td>10/26/15 12:40</td>\n",
       "      <td>6.590000e+17</td>\n",
       "      <td>NaN</td>\n",
       "      <td>NaN</td>\n",
       "    </tr>\n",
       "    <tr>\n",
       "      <th>9</th>\n",
       "      <td>815719235</td>\n",
       "      <td>False</td>\n",
       "      <td>finalized</td>\n",
       "      <td>3</td>\n",
       "      <td>10/27/15 01:49</td>\n",
       "      <td>female</td>\n",
       "      <td>1.0000</td>\n",
       "      <td>yes</td>\n",
       "      <td>1.0</td>\n",
       "      <td>5/13/11 03:32</td>\n",
       "      <td>...</td>\n",
       "      <td>https://pbs.twimg.com/profile_images/513327289...</td>\n",
       "      <td>0</td>\n",
       "      <td>FFFFFF</td>\n",
       "      <td>@Evielady just how lovely is the tree this yea...</td>\n",
       "      <td>NaN</td>\n",
       "      <td>26085</td>\n",
       "      <td>10/26/15 12:40</td>\n",
       "      <td>6.590000e+17</td>\n",
       "      <td>Nottingham, England.</td>\n",
       "      <td>Amsterdam</td>\n",
       "    </tr>\n",
       "  </tbody>\n",
       "</table>\n",
       "<p>10 rows × 26 columns</p>\n",
       "</div>"
      ],
      "text/plain": [
       "    _unit_id  _golden _unit_state  _trusted_judgments _last_judgment_at  \\\n",
       "0  815719226    False   finalized                   3    10/26/15 23:24   \n",
       "1  815719227    False   finalized                   3    10/26/15 23:30   \n",
       "2  815719228    False   finalized                   3    10/26/15 23:33   \n",
       "3  815719229    False   finalized                   3    10/26/15 23:10   \n",
       "4  815719230    False   finalized                   3    10/27/15 01:15   \n",
       "5  815719231    False   finalized                   3    10/27/15 01:47   \n",
       "6  815719232    False   finalized                   3    10/27/15 01:57   \n",
       "7  815719233    False   finalized                   3    10/26/15 23:48   \n",
       "8  815719234    False   finalized                   3    10/27/15 01:52   \n",
       "9  815719235    False   finalized                   3    10/27/15 01:49   \n",
       "\n",
       "   gender  gender:confidence profile_yn  profile_yn:confidence  \\\n",
       "0    male             1.0000        yes                    1.0   \n",
       "1    male             1.0000        yes                    1.0   \n",
       "2    male             0.6625        yes                    1.0   \n",
       "3    male             1.0000        yes                    1.0   \n",
       "4  female             1.0000        yes                    1.0   \n",
       "5  female             1.0000        yes                    1.0   \n",
       "6   brand             1.0000        yes                    1.0   \n",
       "7    male             1.0000        yes                    1.0   \n",
       "8  female             1.0000        yes                    1.0   \n",
       "9  female             1.0000        yes                    1.0   \n",
       "\n",
       "          created  ...                                       profileimage  \\\n",
       "0   12/5/13 01:48  ...  https://pbs.twimg.com/profile_images/414342229...   \n",
       "1   10/1/12 13:51  ...  https://pbs.twimg.com/profile_images/539604221...   \n",
       "2  11/28/14 11:30  ...  https://pbs.twimg.com/profile_images/657330418...   \n",
       "3   6/11/09 22:39  ...  https://pbs.twimg.com/profile_images/259703936...   \n",
       "4   4/16/14 13:23  ...  https://pbs.twimg.com/profile_images/564094871...   \n",
       "5   3/11/10 18:14  ...  https://pbs.twimg.com/profile_images/656336865...   \n",
       "6   4/24/08 13:03  ...  https://pbs.twimg.com/profile_images/528547133...   \n",
       "7   12/3/12 21:54  ...  https://pbs.twimg.com/profile_images/508875440...   \n",
       "8    9/8/15 04:50  ...  https://pbs.twimg.com/profile_images/658670112...   \n",
       "9   5/13/11 03:32  ...  https://pbs.twimg.com/profile_images/513327289...   \n",
       "\n",
       "   retweet_count sidebar_color  \\\n",
       "0              0        FFFFFF   \n",
       "1              0        C0DEED   \n",
       "2              1        C0DEED   \n",
       "3              0        C0DEED   \n",
       "4              0             0   \n",
       "5              0             0   \n",
       "6              0             0   \n",
       "7              0        C0DEED   \n",
       "8              0             0   \n",
       "9              0        FFFFFF   \n",
       "\n",
       "                                                text tweet_coord tweet_count  \\\n",
       "0  Robbie E Responds To Critics After Win Against...         NaN      110964   \n",
       "1  ÛÏIt felt like they were my friends and I was...         NaN        7471   \n",
       "2  i absolutely adore when louis starts the songs...         NaN        5617   \n",
       "3  Hi @JordanSpieth - Looking at the url - do you...         NaN        1693   \n",
       "4  Watching Neighbours on Sky+ catching up with t...         NaN       31462   \n",
       "5  Ive seen people on the train with lamps, chair...         NaN       20036   \n",
       "6  @BpackEngineer Thank you for your patience whi...         NaN       13354   \n",
       "7  Gala Bingo clubs bought for å£241m: The UK's l...         NaN      112117   \n",
       "8  @_Aphmau_ the pic defines all mcd fangirls/fan...         NaN         482   \n",
       "9  @Evielady just how lovely is the tree this yea...         NaN       26085   \n",
       "\n",
       "    tweet_created      tweet_id        tweet_location  \\\n",
       "0  10/26/15 12:40  6.590000e+17       main; @Kan1shk3   \n",
       "1  10/26/15 12:40  6.590000e+17                   NaN   \n",
       "2  10/26/15 12:40  6.590000e+17                clcncl   \n",
       "3  10/26/15 12:40  6.590000e+17         Palo Alto, CA   \n",
       "4  10/26/15 12:40  6.590000e+17                   NaN   \n",
       "5  10/26/15 12:40  6.590000e+17       New York Gritty   \n",
       "6  10/26/15 12:40  6.590000e+17             Worldwide   \n",
       "7  10/26/15 12:40  6.590000e+17                   NaN   \n",
       "8  10/26/15 12:40  6.590000e+17                   NaN   \n",
       "9  10/26/15 12:40  6.590000e+17  Nottingham, England.   \n",
       "\n",
       "                user_timezone  \n",
       "0                     Chennai  \n",
       "1  Eastern Time (US & Canada)  \n",
       "2                    Belgrade  \n",
       "3  Pacific Time (US & Canada)  \n",
       "4                         NaN  \n",
       "5  Central Time (US & Canada)  \n",
       "6  Eastern Time (US & Canada)  \n",
       "7                         NaN  \n",
       "8                         NaN  \n",
       "9                   Amsterdam  \n",
       "\n",
       "[10 rows x 26 columns]"
      ]
     },
     "execution_count": 14,
     "metadata": {},
     "output_type": "execute_result"
    }
   ],
   "source": [
    "# getting first 10 rows of a dataset\n",
    "result = df.head(10)\n",
    "result"
   ]
  },
  {
   "cell_type": "code",
   "execution_count": 15,
   "metadata": {},
   "outputs": [
    {
     "data": {
      "text/html": [
       "<div>\n",
       "<style scoped>\n",
       "    .dataframe tbody tr th:only-of-type {\n",
       "        vertical-align: middle;\n",
       "    }\n",
       "\n",
       "    .dataframe tbody tr th {\n",
       "        vertical-align: top;\n",
       "    }\n",
       "\n",
       "    .dataframe thead th {\n",
       "        text-align: right;\n",
       "    }\n",
       "</style>\n",
       "<table border=\"1\" class=\"dataframe\">\n",
       "  <thead>\n",
       "    <tr style=\"text-align: right;\">\n",
       "      <th></th>\n",
       "      <th>_unit_id</th>\n",
       "      <th>_golden</th>\n",
       "      <th>_unit_state</th>\n",
       "      <th>_trusted_judgments</th>\n",
       "      <th>_last_judgment_at</th>\n",
       "      <th>gender</th>\n",
       "      <th>gender:confidence</th>\n",
       "      <th>profile_yn</th>\n",
       "      <th>profile_yn:confidence</th>\n",
       "      <th>created</th>\n",
       "      <th>...</th>\n",
       "      <th>profileimage</th>\n",
       "      <th>retweet_count</th>\n",
       "      <th>sidebar_color</th>\n",
       "      <th>text</th>\n",
       "      <th>tweet_coord</th>\n",
       "      <th>tweet_count</th>\n",
       "      <th>tweet_created</th>\n",
       "      <th>tweet_id</th>\n",
       "      <th>tweet_location</th>\n",
       "      <th>user_timezone</th>\n",
       "    </tr>\n",
       "  </thead>\n",
       "  <tbody>\n",
       "    <tr>\n",
       "      <th>20040</th>\n",
       "      <td>815756417</td>\n",
       "      <td>True</td>\n",
       "      <td>golden</td>\n",
       "      <td>253</td>\n",
       "      <td>NaN</td>\n",
       "      <td>male</td>\n",
       "      <td>0.8472</td>\n",
       "      <td>yes</td>\n",
       "      <td>1.0</td>\n",
       "      <td>8/16/13 14:48</td>\n",
       "      <td>...</td>\n",
       "      <td>https://pbs.twimg.com/profile_images/557215663...</td>\n",
       "      <td>0</td>\n",
       "      <td>0</td>\n",
       "      <td>Discovered it in England. It's how they eat fi...</td>\n",
       "      <td>NaN</td>\n",
       "      <td>3084</td>\n",
       "      <td>10/26/15 13:19</td>\n",
       "      <td>6.590000e+17</td>\n",
       "      <td>Houston, Texas</td>\n",
       "      <td>Central Time (US &amp; Canada)</td>\n",
       "    </tr>\n",
       "    <tr>\n",
       "      <th>20041</th>\n",
       "      <td>815756542</td>\n",
       "      <td>True</td>\n",
       "      <td>golden</td>\n",
       "      <td>252</td>\n",
       "      <td>NaN</td>\n",
       "      <td>brand</td>\n",
       "      <td>1.0000</td>\n",
       "      <td>yes</td>\n",
       "      <td>1.0</td>\n",
       "      <td>8/11/11 10:01</td>\n",
       "      <td>...</td>\n",
       "      <td>https://pbs.twimg.com/profile_images/149016810...</td>\n",
       "      <td>0</td>\n",
       "      <td>C0DEED</td>\n",
       "      <td>For Stan and Lisa... has #Coffee Cup at https:...</td>\n",
       "      <td>NaN</td>\n",
       "      <td>105864</td>\n",
       "      <td>10/26/15 13:19</td>\n",
       "      <td>6.590000e+17</td>\n",
       "      <td>Colorado</td>\n",
       "      <td>Mountain Time (US &amp; Canada)</td>\n",
       "    </tr>\n",
       "    <tr>\n",
       "      <th>20042</th>\n",
       "      <td>815756642</td>\n",
       "      <td>True</td>\n",
       "      <td>golden</td>\n",
       "      <td>212</td>\n",
       "      <td>NaN</td>\n",
       "      <td>brand</td>\n",
       "      <td>0.6364</td>\n",
       "      <td>yes</td>\n",
       "      <td>1.0</td>\n",
       "      <td>6/8/14 19:07</td>\n",
       "      <td>...</td>\n",
       "      <td>https://pbs.twimg.com/profile_images/616770699...</td>\n",
       "      <td>0</td>\n",
       "      <td>948C75</td>\n",
       "      <td>Best Bloody Mary Brunch at the #NYCWFF @nyceff...</td>\n",
       "      <td>NaN</td>\n",
       "      <td>5900</td>\n",
       "      <td>10/26/15 12:40</td>\n",
       "      <td>6.590000e+17</td>\n",
       "      <td>Miami, FL</td>\n",
       "      <td>Eastern Time (US &amp; Canada)</td>\n",
       "    </tr>\n",
       "    <tr>\n",
       "      <th>20043</th>\n",
       "      <td>815756700</td>\n",
       "      <td>True</td>\n",
       "      <td>golden</td>\n",
       "      <td>240</td>\n",
       "      <td>NaN</td>\n",
       "      <td>male</td>\n",
       "      <td>1.0000</td>\n",
       "      <td>yes</td>\n",
       "      <td>1.0</td>\n",
       "      <td>9/27/11 00:19</td>\n",
       "      <td>...</td>\n",
       "      <td>https://pbs.twimg.com/profile_images/378800000...</td>\n",
       "      <td>1</td>\n",
       "      <td>5ED4DC</td>\n",
       "      <td>Game faggot and venison loin, crisp spelt and ...</td>\n",
       "      <td>NaN</td>\n",
       "      <td>8193</td>\n",
       "      <td>10/26/15 13:19</td>\n",
       "      <td>6.590000e+17</td>\n",
       "      <td>Chertsey Bridge</td>\n",
       "      <td>NaN</td>\n",
       "    </tr>\n",
       "    <tr>\n",
       "      <th>20044</th>\n",
       "      <td>815756767</td>\n",
       "      <td>True</td>\n",
       "      <td>golden</td>\n",
       "      <td>227</td>\n",
       "      <td>NaN</td>\n",
       "      <td>female</td>\n",
       "      <td>1.0000</td>\n",
       "      <td>yes</td>\n",
       "      <td>1.0</td>\n",
       "      <td>6/11/14 01:55</td>\n",
       "      <td>...</td>\n",
       "      <td>https://pbs.twimg.com/profile_images/643483977...</td>\n",
       "      <td>0</td>\n",
       "      <td>C0DEED</td>\n",
       "      <td>Need A Ride Home From Practice _Ù÷Ô_Ù÷Ô_Ù÷ÔAnd...</td>\n",
       "      <td>NaN</td>\n",
       "      <td>6669</td>\n",
       "      <td>10/26/15 13:19</td>\n",
       "      <td>6.590000e+17</td>\n",
       "      <td>NaN</td>\n",
       "      <td>NaN</td>\n",
       "    </tr>\n",
       "    <tr>\n",
       "      <th>20045</th>\n",
       "      <td>815757572</td>\n",
       "      <td>True</td>\n",
       "      <td>golden</td>\n",
       "      <td>259</td>\n",
       "      <td>NaN</td>\n",
       "      <td>female</td>\n",
       "      <td>1.0000</td>\n",
       "      <td>yes</td>\n",
       "      <td>1.0</td>\n",
       "      <td>8/5/15 21:16</td>\n",
       "      <td>...</td>\n",
       "      <td>https://pbs.twimg.com/profile_images/656793310...</td>\n",
       "      <td>0</td>\n",
       "      <td>C0DEED</td>\n",
       "      <td>@lookupondeath ...Fine, and I'll drink tea too...</td>\n",
       "      <td>NaN</td>\n",
       "      <td>783</td>\n",
       "      <td>10/26/15 13:20</td>\n",
       "      <td>6.590000e+17</td>\n",
       "      <td>Verona ªÁ</td>\n",
       "      <td>NaN</td>\n",
       "    </tr>\n",
       "    <tr>\n",
       "      <th>20046</th>\n",
       "      <td>815757681</td>\n",
       "      <td>True</td>\n",
       "      <td>golden</td>\n",
       "      <td>248</td>\n",
       "      <td>NaN</td>\n",
       "      <td>male</td>\n",
       "      <td>1.0000</td>\n",
       "      <td>yes</td>\n",
       "      <td>1.0</td>\n",
       "      <td>8/15/12 21:17</td>\n",
       "      <td>...</td>\n",
       "      <td>https://pbs.twimg.com/profile_images/639815429...</td>\n",
       "      <td>0</td>\n",
       "      <td>0</td>\n",
       "      <td>Greg Hardy you a good player and all but don't...</td>\n",
       "      <td>NaN</td>\n",
       "      <td>13523</td>\n",
       "      <td>10/26/15 12:40</td>\n",
       "      <td>6.590000e+17</td>\n",
       "      <td>Kansas City, MO</td>\n",
       "      <td>NaN</td>\n",
       "    </tr>\n",
       "    <tr>\n",
       "      <th>20047</th>\n",
       "      <td>815757830</td>\n",
       "      <td>True</td>\n",
       "      <td>golden</td>\n",
       "      <td>264</td>\n",
       "      <td>NaN</td>\n",
       "      <td>male</td>\n",
       "      <td>1.0000</td>\n",
       "      <td>yes</td>\n",
       "      <td>1.0</td>\n",
       "      <td>9/3/12 01:17</td>\n",
       "      <td>...</td>\n",
       "      <td>https://pbs.twimg.com/profile_images/655473271...</td>\n",
       "      <td>0</td>\n",
       "      <td>C0DEED</td>\n",
       "      <td>You can miss people and still never want to se...</td>\n",
       "      <td>NaN</td>\n",
       "      <td>26419</td>\n",
       "      <td>10/26/15 13:20</td>\n",
       "      <td>6.590000e+17</td>\n",
       "      <td>Lagos Nigeria</td>\n",
       "      <td>NaN</td>\n",
       "    </tr>\n",
       "    <tr>\n",
       "      <th>20048</th>\n",
       "      <td>815757921</td>\n",
       "      <td>True</td>\n",
       "      <td>golden</td>\n",
       "      <td>250</td>\n",
       "      <td>NaN</td>\n",
       "      <td>female</td>\n",
       "      <td>0.8489</td>\n",
       "      <td>yes</td>\n",
       "      <td>1.0</td>\n",
       "      <td>11/6/12 23:46</td>\n",
       "      <td>...</td>\n",
       "      <td>https://pbs.twimg.com/profile_images/657716093...</td>\n",
       "      <td>0</td>\n",
       "      <td>0</td>\n",
       "      <td>@bitemyapp i had noticed your tendency to pee ...</td>\n",
       "      <td>NaN</td>\n",
       "      <td>56073</td>\n",
       "      <td>10/26/15 12:40</td>\n",
       "      <td>6.590000e+17</td>\n",
       "      <td>Texas Hill Country</td>\n",
       "      <td>NaN</td>\n",
       "    </tr>\n",
       "    <tr>\n",
       "      <th>20049</th>\n",
       "      <td>815757985</td>\n",
       "      <td>True</td>\n",
       "      <td>golden</td>\n",
       "      <td>249</td>\n",
       "      <td>NaN</td>\n",
       "      <td>female</td>\n",
       "      <td>1.0000</td>\n",
       "      <td>yes</td>\n",
       "      <td>1.0</td>\n",
       "      <td>4/14/14 17:22</td>\n",
       "      <td>...</td>\n",
       "      <td>https://pbs.twimg.com/profile_images/655134724...</td>\n",
       "      <td>0</td>\n",
       "      <td>C0DEED</td>\n",
       "      <td>I think for my APUSH creative project I'm goin...</td>\n",
       "      <td>NaN</td>\n",
       "      <td>2922</td>\n",
       "      <td>10/26/15 13:19</td>\n",
       "      <td>6.590000e+17</td>\n",
       "      <td>NaN</td>\n",
       "      <td>NaN</td>\n",
       "    </tr>\n",
       "  </tbody>\n",
       "</table>\n",
       "<p>10 rows × 26 columns</p>\n",
       "</div>"
      ],
      "text/plain": [
       "        _unit_id  _golden _unit_state  _trusted_judgments _last_judgment_at  \\\n",
       "20040  815756417     True      golden                 253               NaN   \n",
       "20041  815756542     True      golden                 252               NaN   \n",
       "20042  815756642     True      golden                 212               NaN   \n",
       "20043  815756700     True      golden                 240               NaN   \n",
       "20044  815756767     True      golden                 227               NaN   \n",
       "20045  815757572     True      golden                 259               NaN   \n",
       "20046  815757681     True      golden                 248               NaN   \n",
       "20047  815757830     True      golden                 264               NaN   \n",
       "20048  815757921     True      golden                 250               NaN   \n",
       "20049  815757985     True      golden                 249               NaN   \n",
       "\n",
       "       gender  gender:confidence profile_yn  profile_yn:confidence  \\\n",
       "20040    male             0.8472        yes                    1.0   \n",
       "20041   brand             1.0000        yes                    1.0   \n",
       "20042   brand             0.6364        yes                    1.0   \n",
       "20043    male             1.0000        yes                    1.0   \n",
       "20044  female             1.0000        yes                    1.0   \n",
       "20045  female             1.0000        yes                    1.0   \n",
       "20046    male             1.0000        yes                    1.0   \n",
       "20047    male             1.0000        yes                    1.0   \n",
       "20048  female             0.8489        yes                    1.0   \n",
       "20049  female             1.0000        yes                    1.0   \n",
       "\n",
       "             created  ...                                       profileimage  \\\n",
       "20040  8/16/13 14:48  ...  https://pbs.twimg.com/profile_images/557215663...   \n",
       "20041  8/11/11 10:01  ...  https://pbs.twimg.com/profile_images/149016810...   \n",
       "20042   6/8/14 19:07  ...  https://pbs.twimg.com/profile_images/616770699...   \n",
       "20043  9/27/11 00:19  ...  https://pbs.twimg.com/profile_images/378800000...   \n",
       "20044  6/11/14 01:55  ...  https://pbs.twimg.com/profile_images/643483977...   \n",
       "20045   8/5/15 21:16  ...  https://pbs.twimg.com/profile_images/656793310...   \n",
       "20046  8/15/12 21:17  ...  https://pbs.twimg.com/profile_images/639815429...   \n",
       "20047   9/3/12 01:17  ...  https://pbs.twimg.com/profile_images/655473271...   \n",
       "20048  11/6/12 23:46  ...  https://pbs.twimg.com/profile_images/657716093...   \n",
       "20049  4/14/14 17:22  ...  https://pbs.twimg.com/profile_images/655134724...   \n",
       "\n",
       "       retweet_count sidebar_color  \\\n",
       "20040              0             0   \n",
       "20041              0        C0DEED   \n",
       "20042              0        948C75   \n",
       "20043              1        5ED4DC   \n",
       "20044              0        C0DEED   \n",
       "20045              0        C0DEED   \n",
       "20046              0             0   \n",
       "20047              0        C0DEED   \n",
       "20048              0             0   \n",
       "20049              0        C0DEED   \n",
       "\n",
       "                                                    text tweet_coord  \\\n",
       "20040  Discovered it in England. It's how they eat fi...         NaN   \n",
       "20041  For Stan and Lisa... has #Coffee Cup at https:...         NaN   \n",
       "20042  Best Bloody Mary Brunch at the #NYCWFF @nyceff...         NaN   \n",
       "20043  Game faggot and venison loin, crisp spelt and ...         NaN   \n",
       "20044  Need A Ride Home From Practice _Ù÷Ô_Ù÷Ô_Ù÷ÔAnd...         NaN   \n",
       "20045  @lookupondeath ...Fine, and I'll drink tea too...         NaN   \n",
       "20046  Greg Hardy you a good player and all but don't...         NaN   \n",
       "20047  You can miss people and still never want to se...         NaN   \n",
       "20048  @bitemyapp i had noticed your tendency to pee ...         NaN   \n",
       "20049  I think for my APUSH creative project I'm goin...         NaN   \n",
       "\n",
       "      tweet_count   tweet_created      tweet_id      tweet_location  \\\n",
       "20040        3084  10/26/15 13:19  6.590000e+17      Houston, Texas   \n",
       "20041      105864  10/26/15 13:19  6.590000e+17            Colorado   \n",
       "20042        5900  10/26/15 12:40  6.590000e+17           Miami, FL   \n",
       "20043        8193  10/26/15 13:19  6.590000e+17     Chertsey Bridge   \n",
       "20044        6669  10/26/15 13:19  6.590000e+17                 NaN   \n",
       "20045         783  10/26/15 13:20  6.590000e+17          Verona ªÁ   \n",
       "20046       13523  10/26/15 12:40  6.590000e+17     Kansas City, MO   \n",
       "20047       26419  10/26/15 13:20  6.590000e+17      Lagos Nigeria    \n",
       "20048       56073  10/26/15 12:40  6.590000e+17  Texas Hill Country   \n",
       "20049        2922  10/26/15 13:19  6.590000e+17                 NaN   \n",
       "\n",
       "                     user_timezone  \n",
       "20040   Central Time (US & Canada)  \n",
       "20041  Mountain Time (US & Canada)  \n",
       "20042   Eastern Time (US & Canada)  \n",
       "20043                          NaN  \n",
       "20044                          NaN  \n",
       "20045                          NaN  \n",
       "20046                          NaN  \n",
       "20047                          NaN  \n",
       "20048                          NaN  \n",
       "20049                          NaN  \n",
       "\n",
       "[10 rows x 26 columns]"
      ]
     },
     "execution_count": 15,
     "metadata": {},
     "output_type": "execute_result"
    }
   ],
   "source": [
    "# Last 10 rows of a dataset\n",
    "result2 = df.tail(10)\n",
    "result2"
   ]
  },
  {
   "cell_type": "code",
   "execution_count": 16,
   "metadata": {},
   "outputs": [
    {
     "data": {
      "text/plain": [
       "_unit_id                   int64\n",
       "_golden                     bool\n",
       "_unit_state               object\n",
       "_trusted_judgments         int64\n",
       "_last_judgment_at         object\n",
       "gender                    object\n",
       "gender:confidence        float64\n",
       "profile_yn                object\n",
       "profile_yn:confidence    float64\n",
       "created                   object\n",
       "description               object\n",
       "fav_number                 int64\n",
       "gender_gold               object\n",
       "link_color                object\n",
       "name                      object\n",
       "profile_yn_gold           object\n",
       "profileimage              object\n",
       "retweet_count              int64\n",
       "sidebar_color             object\n",
       "text                      object\n",
       "tweet_coord               object\n",
       "tweet_count                int64\n",
       "tweet_created             object\n",
       "tweet_id                 float64\n",
       "tweet_location            object\n",
       "user_timezone             object\n",
       "dtype: object"
      ]
     },
     "execution_count": 16,
     "metadata": {},
     "output_type": "execute_result"
    }
   ],
   "source": [
    "# datatypes of a dataframe\n",
    "df.dtypes"
   ]
  },
  {
   "cell_type": "code",
   "execution_count": 17,
   "metadata": {},
   "outputs": [
    {
     "name": "stdout",
     "output_type": "stream",
     "text": [
      "_unit_id\n",
      "_golden\n",
      "_unit_state\n",
      "_trusted_judgments\n",
      "_last_judgment_at\n",
      "gender\n",
      "gender:confidence\n",
      "profile_yn\n",
      "profile_yn:confidence\n",
      "created\n",
      "description\n",
      "fav_number\n",
      "gender_gold\n",
      "link_color\n",
      "name\n",
      "profile_yn_gold\n",
      "profileimage\n",
      "retweet_count\n",
      "sidebar_color\n",
      "text\n",
      "tweet_coord\n",
      "tweet_count\n",
      "tweet_created\n",
      "tweet_id\n",
      "tweet_location\n",
      "user_timezone\n"
     ]
    }
   ],
   "source": [
    "#column names of dataser\n",
    "for col in df.columns:\n",
    "    print(col)"
   ]
  },
  {
   "cell_type": "code",
   "execution_count": 18,
   "metadata": {},
   "outputs": [
    {
     "name": "stdout",
     "output_type": "stream",
     "text": [
      "0          male\n",
      "1          male\n",
      "2          male\n",
      "3          male\n",
      "4        female\n",
      "          ...  \n",
      "20045    female\n",
      "20046      male\n",
      "20047      male\n",
      "20048    female\n",
      "20049    female\n",
      "Name: gender, Length: 20050, dtype: object\n"
     ]
    }
   ],
   "source": [
    "# class label\n",
    "print (df[\"gender\"])"
   ]
  },
  {
   "cell_type": "code",
   "execution_count": 19,
   "metadata": {},
   "outputs": [
    {
     "data": {
      "text/plain": [
       "_unit_id                     0\n",
       "_golden                      0\n",
       "_unit_state                  0\n",
       "_trusted_judgments           0\n",
       "_last_judgment_at           50\n",
       "gender                       0\n",
       "gender:confidence           26\n",
       "profile_yn                   0\n",
       "profile_yn:confidence        0\n",
       "created                      0\n",
       "description               3744\n",
       "fav_number                   0\n",
       "gender_gold              20000\n",
       "link_color                   0\n",
       "name                         0\n",
       "profile_yn_gold          20000\n",
       "profileimage                 0\n",
       "retweet_count                0\n",
       "sidebar_color                0\n",
       "text                         0\n",
       "tweet_coord              19891\n",
       "tweet_count                  0\n",
       "tweet_created                0\n",
       "tweet_id                     0\n",
       "tweet_location            7484\n",
       "user_timezone             7798\n",
       "dtype: int64"
      ]
     },
     "execution_count": 19,
     "metadata": {},
     "output_type": "execute_result"
    }
   ],
   "source": [
    "# finding the sum of all nan values in the dataset\n",
    "df.isna().sum()"
   ]
  },
  {
   "cell_type": "code",
   "execution_count": 20,
   "metadata": {},
   "outputs": [],
   "source": [
    "#dropping Nan\n",
    "df.dropna(inplace=True)"
   ]
  },
  {
   "cell_type": "code",
   "execution_count": 21,
   "metadata": {},
   "outputs": [
    {
     "ename": "ValueError",
     "evalue": "With n_samples=0, test_size=None and train_size=0.7, the resulting train set will be empty. Adjust any of the aforementioned parameters.",
     "output_type": "error",
     "traceback": [
      "\u001b[0;31m---------------------------------------------------------------------------\u001b[0m",
      "\u001b[0;31mValueError\u001b[0m                                Traceback (most recent call last)",
      "Input \u001b[0;32mIn [21]\u001b[0m, in \u001b[0;36m<module>\u001b[0;34m\u001b[0m\n\u001b[1;32m      2\u001b[0m X \u001b[38;5;241m=\u001b[39m df\u001b[38;5;241m.\u001b[39m drop(columns \u001b[38;5;241m=\u001b[39m [\u001b[38;5;124m'\u001b[39m\u001b[38;5;124mgender\u001b[39m\u001b[38;5;124m'\u001b[39m])\u001b[38;5;241m.\u001b[39m copy()\n\u001b[1;32m      3\u001b[0m y \u001b[38;5;241m=\u001b[39m df[\u001b[38;5;124m'\u001b[39m\u001b[38;5;124mgender\u001b[39m\u001b[38;5;124m'\u001b[39m]\n\u001b[0;32m----> 4\u001b[0m X_train, X_rem, y_train, y_rem \u001b[38;5;241m=\u001b[39m \u001b[43mtrain_test_split\u001b[49m\u001b[43m(\u001b[49m\u001b[43mX\u001b[49m\u001b[43m,\u001b[49m\u001b[43my\u001b[49m\u001b[43m,\u001b[49m\u001b[43m \u001b[49m\u001b[43mtrain_size\u001b[49m\u001b[38;5;241;43m=\u001b[39;49m\u001b[38;5;241;43m0.7\u001b[39;49m\u001b[43m,\u001b[49m\u001b[43m \u001b[49m\u001b[43mrandom_state\u001b[49m\u001b[43m \u001b[49m\u001b[38;5;241;43m=\u001b[39;49m\u001b[43m \u001b[49m\u001b[38;5;241;43m2030\u001b[39;49m\u001b[43m,\u001b[49m\u001b[43m)\u001b[49m\n\u001b[1;32m      5\u001b[0m \u001b[38;5;66;03m#(X Train, y train) 70% of dataset (X rem) 30% of dataset\u001b[39;00m\n\u001b[1;32m      6\u001b[0m \u001b[38;5;66;03m#IN 30% split %10 percent for test remiaing for validation\u001b[39;00m\n\u001b[1;32m      7\u001b[0m X_valid, X_test, y_valid, y_test \u001b[38;5;241m=\u001b[39m train_test_split(X_rem,y_rem, test_size\u001b[38;5;241m=\u001b[39m\u001b[38;5;241m0.1\u001b[39m)\n",
      "File \u001b[0;32m/Library/Frameworks/Python.framework/Versions/3.10/lib/python3.10/site-packages/sklearn/model_selection/_split.py:2420\u001b[0m, in \u001b[0;36mtrain_test_split\u001b[0;34m(test_size, train_size, random_state, shuffle, stratify, *arrays)\u001b[0m\n\u001b[1;32m   2417\u001b[0m arrays \u001b[38;5;241m=\u001b[39m indexable(\u001b[38;5;241m*\u001b[39marrays)\n\u001b[1;32m   2419\u001b[0m n_samples \u001b[38;5;241m=\u001b[39m _num_samples(arrays[\u001b[38;5;241m0\u001b[39m])\n\u001b[0;32m-> 2420\u001b[0m n_train, n_test \u001b[38;5;241m=\u001b[39m \u001b[43m_validate_shuffle_split\u001b[49m\u001b[43m(\u001b[49m\n\u001b[1;32m   2421\u001b[0m \u001b[43m    \u001b[49m\u001b[43mn_samples\u001b[49m\u001b[43m,\u001b[49m\u001b[43m \u001b[49m\u001b[43mtest_size\u001b[49m\u001b[43m,\u001b[49m\u001b[43m \u001b[49m\u001b[43mtrain_size\u001b[49m\u001b[43m,\u001b[49m\u001b[43m \u001b[49m\u001b[43mdefault_test_size\u001b[49m\u001b[38;5;241;43m=\u001b[39;49m\u001b[38;5;241;43m0.25\u001b[39;49m\n\u001b[1;32m   2422\u001b[0m \u001b[43m\u001b[49m\u001b[43m)\u001b[49m\n\u001b[1;32m   2424\u001b[0m \u001b[38;5;28;01mif\u001b[39;00m shuffle \u001b[38;5;129;01mis\u001b[39;00m \u001b[38;5;28;01mFalse\u001b[39;00m:\n\u001b[1;32m   2425\u001b[0m     \u001b[38;5;28;01mif\u001b[39;00m stratify \u001b[38;5;129;01mis\u001b[39;00m \u001b[38;5;129;01mnot\u001b[39;00m \u001b[38;5;28;01mNone\u001b[39;00m:\n",
      "File \u001b[0;32m/Library/Frameworks/Python.framework/Versions/3.10/lib/python3.10/site-packages/sklearn/model_selection/_split.py:2098\u001b[0m, in \u001b[0;36m_validate_shuffle_split\u001b[0;34m(n_samples, test_size, train_size, default_test_size)\u001b[0m\n\u001b[1;32m   2095\u001b[0m n_train, n_test \u001b[38;5;241m=\u001b[39m \u001b[38;5;28mint\u001b[39m(n_train), \u001b[38;5;28mint\u001b[39m(n_test)\n\u001b[1;32m   2097\u001b[0m \u001b[38;5;28;01mif\u001b[39;00m n_train \u001b[38;5;241m==\u001b[39m \u001b[38;5;241m0\u001b[39m:\n\u001b[0;32m-> 2098\u001b[0m     \u001b[38;5;28;01mraise\u001b[39;00m \u001b[38;5;167;01mValueError\u001b[39;00m(\n\u001b[1;32m   2099\u001b[0m         \u001b[38;5;124m\"\u001b[39m\u001b[38;5;124mWith n_samples=\u001b[39m\u001b[38;5;132;01m{}\u001b[39;00m\u001b[38;5;124m, test_size=\u001b[39m\u001b[38;5;132;01m{}\u001b[39;00m\u001b[38;5;124m and train_size=\u001b[39m\u001b[38;5;132;01m{}\u001b[39;00m\u001b[38;5;124m, the \u001b[39m\u001b[38;5;124m\"\u001b[39m\n\u001b[1;32m   2100\u001b[0m         \u001b[38;5;124m\"\u001b[39m\u001b[38;5;124mresulting train set will be empty. Adjust any of the \u001b[39m\u001b[38;5;124m\"\u001b[39m\n\u001b[1;32m   2101\u001b[0m         \u001b[38;5;124m\"\u001b[39m\u001b[38;5;124maforementioned parameters.\u001b[39m\u001b[38;5;124m\"\u001b[39m\u001b[38;5;241m.\u001b[39mformat(n_samples, test_size, train_size)\n\u001b[1;32m   2102\u001b[0m     )\n\u001b[1;32m   2104\u001b[0m \u001b[38;5;28;01mreturn\u001b[39;00m n_train, n_test\n",
      "\u001b[0;31mValueError\u001b[0m: With n_samples=0, test_size=None and train_size=0.7, the resulting train set will be empty. Adjust any of the aforementioned parameters."
     ]
    }
   ],
   "source": [
    "train_size=0.7\n",
    "X = df. drop(columns = ['gender']). copy()\n",
    "y = df['gender']\n",
    "X_train, X_rem, y_train, y_rem = train_test_split(X,y, train_size=0.7, random_state = 2030,)\n",
    "#(X Train, y train) 70% of dataset (X rem) 30% of dataset\n",
    "#IN 30% split %10 percent for test remiaing for validation\n",
    "X_valid, X_test, y_valid, y_test = train_test_split(X_rem,y_rem, test_size=0.1)\n",
    "print (X_train.shape), print (y_train.shape)\n",
    "print (X_valid. shape), print (y_valid.shape)\n",
    "print (X_test.shape), print(y_test.shape)"
   ]
  },
  {
   "cell_type": "markdown",
   "metadata": {},
   "source": [
    "## Decision Tree"
   ]
  },
  {
   "cell_type": "code",
   "execution_count": null,
   "metadata": {},
   "outputs": [],
   "source": [
    "#Gini index\n",
    "import seaborn as sns\n",
    "from sklearn.metrics import confusion_matrix\n",
    "from sklearn.tree import DecisionTreeClassifier\n",
    " # Creating the classifier object\n",
    "clf = DecisionTreeClassifier (criterion=\"gini\",max_depth=4)"
   ]
  },
  {
   "cell_type": "code",
   "execution_count": null,
   "metadata": {},
   "outputs": [
    {
     "data": {
      "text/plain": [
       "DecisionTreeClassifier(max_depth=4)"
      ]
     },
     "execution_count": 15,
     "metadata": {},
     "output_type": "execute_result"
    }
   ],
   "source": [
    "#classification fit in the training data\n",
    "clf.fit(X_train, y_train)"
   ]
  },
  {
   "cell_type": "code",
   "execution_count": null,
   "metadata": {},
   "outputs": [],
   "source": [
    "y_pred=clf.predict(X_test)"
   ]
  },
  {
   "cell_type": "code",
   "execution_count": null,
   "metadata": {},
   "outputs": [
    {
     "name": "stdout",
     "output_type": "stream",
     "text": [
      "0.5573770491803278\n"
     ]
    }
   ],
   "source": [
    "# getting accuracy score from metrics accuracy_score\n",
    "from sklearn.metrics import accuracy_score\n",
    "score = accuracy_score(y_test, y_pred)\n",
    "print(score)"
   ]
  },
  {
   "cell_type": "code",
   "execution_count": null,
   "metadata": {},
   "outputs": [
    {
     "name": "stdout",
     "output_type": "stream",
     "text": [
      "Report :                precision    recall  f1-score   support\n",
      "\n",
      "           0       0.62      0.76      0.68        38\n",
      "           1       0.36      0.22      0.27        23\n",
      "\n",
      "    accuracy                           0.56        61\n",
      "   macro avg       0.49      0.49      0.48        61\n",
      "weighted avg       0.52      0.56      0.53        61\n",
      "\n",
      "Confusion Matrix:  [[29  9]\n",
      " [18  5]]\n"
     ]
    }
   ],
   "source": [
    "#printing the classification report and confusion matrix\n",
    "from sklearn.metrics import classification_report\n",
    "print(\"Report : \",classification_report(y_test, y_pred))\n",
    "print(\"Confusion Matrix: \",confusion_matrix(y_test, y_pred))"
   ]
  },
  {
   "cell_type": "code",
   "execution_count": null,
   "metadata": {},
   "outputs": [
    {
     "data": {
      "image/png": "[encoded data removed]",
      "text/plain": [
       "<Figure size 432x288 with 2 Axes>"
      ]
     },
     "metadata": {
      "needs_background": "light"
     },
     "output_type": "display_data"
    }
   ],
   "source": [
    "#confusion matrix using seaborn \n",
    "import seaborn as sns\n",
    "from sklearn.metrics import confusion_matrix\n",
    "cm = confusion_matrix(y_test,y_pred)\n",
    "f = sns.heatmap(cm, annot= True, fmt='d')"
   ]
  },
  {
   "cell_type": "code",
   "execution_count": null,
   "metadata": {},
   "outputs": [
    {
     "data": {
      "text/plain": [
       "[Text(0.5, 0.875, 'X[4] <= 260.92\\ngini = 0.48\\nsamples = 1407\\nvalue = [844, 563]'),\n",
       " Text(0.25, 0.625, 'X[2] <= 18346.617\\ngini = 0.427\\nsamples = 55\\nvalue = [17, 38]'),\n",
       " Text(0.125, 0.375, 'X[4] <= 232.093\\ngini = 0.391\\nsamples = 15\\nvalue = [11, 4]'),\n",
       " Text(0.0625, 0.125, 'gini = 0.375\\nsamples = 4\\nvalue = [1, 3]'),\n",
       " Text(0.1875, 0.125, 'gini = 0.165\\nsamples = 11\\nvalue = [10, 1]'),\n",
       " Text(0.375, 0.375, 'X[4] <= 239.985\\ngini = 0.255\\nsamples = 40\\nvalue = [6, 34]'),\n",
       " Text(0.3125, 0.125, 'gini = 0.49\\nsamples = 14\\nvalue = [6, 8]'),\n",
       " Text(0.4375, 0.125, 'gini = 0.0\\nsamples = 26\\nvalue = [0, 26]'),\n",
       " Text(0.75, 0.625, 'X[4] <= 387.301\\ngini = 0.475\\nsamples = 1352\\nvalue = [827, 525]'),\n",
       " Text(0.625, 0.375, 'X[0] <= 5.609\\ngini = 0.465\\nsamples = 1223\\nvalue = [773, 450]'),\n",
       " Text(0.5625, 0.125, 'gini = 0.374\\nsamples = 193\\nvalue = [145, 48]'),\n",
       " Text(0.6875, 0.125, 'gini = 0.476\\nsamples = 1030\\nvalue = [628, 402]'),\n",
       " Text(0.875, 0.375, 'X[0] <= 7.621\\ngini = 0.487\\nsamples = 129\\nvalue = [54, 75]'),\n",
       " Text(0.8125, 0.125, 'gini = 0.366\\nsamples = 83\\nvalue = [20, 63]'),\n",
       " Text(0.9375, 0.125, 'gini = 0.386\\nsamples = 46\\nvalue = [34, 12]')]"
      ]
     },
     "execution_count": 21,
     "metadata": {},
     "output_type": "execute_result"
    },
    {
     "data": {
      "image/png": "[encoded data removed]",
      "text/plain": [
       "<Figure size 432x288 with 1 Axes>"
      ]
     },
     "metadata": {
      "needs_background": "light"
     },
     "output_type": "display_data"
    }
   ],
   "source": [
    "# Using gini with maxdepth =3 plotting decision tree\n",
    "from sklearn import tree\n",
    "from sklearn.tree import export_graphviz\n",
    "clf = DecisionTreeClassifier(max_depth = 3, criterion='gini')\n",
    "clf.fit(X_train, y_train)\n",
    "clf.predict(X_test)\n",
    "tree.plot_tree(clf)"
   ]
  },
  {
   "cell_type": "code",
   "execution_count": null,
   "metadata": {},
   "outputs": [
    {
     "data": {
      "text/plain": [
       "DecisionTreeClassifier(criterion='entropy', max_depth=4)"
      ]
     },
     "execution_count": 22,
     "metadata": {},
     "output_type": "execute_result"
    }
   ],
   "source": [
    "# Entropy\n",
    "clf1=DecisionTreeClassifier(criterion = \"entropy\",max_depth=4)\n",
    "clf1.fit(X_train, y_train)"
   ]
  },
  {
   "cell_type": "code",
   "execution_count": null,
   "metadata": {},
   "outputs": [],
   "source": [
    "y_pred=clf1.predict(X_test)"
   ]
  },
  {
   "cell_type": "code",
   "execution_count": null,
   "metadata": {},
   "outputs": [
    {
     "name": "stdout",
     "output_type": "stream",
     "text": [
      "0.5573770491803278\n"
     ]
    }
   ],
   "source": [
    "score = accuracy_score(y_test, y_pred)\n",
    "print(score)"
   ]
  },
  {
   "cell_type": "code",
   "execution_count": null,
   "metadata": {},
   "outputs": [
    {
     "name": "stdout",
     "output_type": "stream",
     "text": [
      "Report :                precision    recall  f1-score   support\n",
      "\n",
      "           0       0.62      0.76      0.68        38\n",
      "           1       0.36      0.22      0.27        23\n",
      "\n",
      "    accuracy                           0.56        61\n",
      "   macro avg       0.49      0.49      0.48        61\n",
      "weighted avg       0.52      0.56      0.53        61\n",
      "\n",
      "Confusion Matrix:  [[29  9]\n",
      " [18  5]]\n"
     ]
    }
   ],
   "source": [
    "from sklearn.metrics import classification_report\n",
    "print(\"Report : \",classification_report(y_test, y_pred))\n",
    "print(\"Confusion Matrix: \",confusion_matrix(y_test, y_pred))"
   ]
  },
  {
   "cell_type": "code",
   "execution_count": null,
   "metadata": {},
   "outputs": [
    {
     "data": {
      "image/png": "[encoded data removed]",
      "text/plain": [
       "<Figure size 432x288 with 2 Axes>"
      ]
     },
     "metadata": {
      "needs_background": "light"
     },
     "output_type": "display_data"
    }
   ],
   "source": [
    "import seaborn as sns\n",
    "from sklearn.metrics import confusion_matrix\n",
    "cm = confusion_matrix(y_test,y_pred)\n",
    "f = sns.heatmap(cm, annot= True, fmt='d')"
   ]
  },
  {
   "cell_type": "code",
   "execution_count": null,
   "metadata": {},
   "outputs": [
    {
     "data": {
      "text/plain": [
       "[Text(0.5, 0.875, 'X[4] <= 260.92\\nentropy = 0.971\\nsamples = 1407\\nvalue = [844, 563]'),\n",
       " Text(0.25, 0.625, 'X[2] <= 21075.407\\nentropy = 0.892\\nsamples = 55\\nvalue = [17, 38]'),\n",
       " Text(0.125, 0.375, 'X[0] <= 7.947\\nentropy = 0.934\\nsamples = 20\\nvalue = [13, 7]'),\n",
       " Text(0.0625, 0.125, 'entropy = 0.696\\nsamples = 16\\nvalue = [13, 3]'),\n",
       " Text(0.1875, 0.125, 'entropy = 0.0\\nsamples = 4\\nvalue = [0, 4]'),\n",
       " Text(0.375, 0.375, 'X[4] <= 239.985\\nentropy = 0.513\\nsamples = 35\\nvalue = [4, 31]'),\n",
       " Text(0.3125, 0.125, 'entropy = 0.946\\nsamples = 11\\nvalue = [4, 7]'),\n",
       " Text(0.4375, 0.125, 'entropy = 0.0\\nsamples = 24\\nvalue = [0, 24]'),\n",
       " Text(0.75, 0.625, 'X[4] <= 387.301\\nentropy = 0.964\\nsamples = 1352\\nvalue = [827, 525]'),\n",
       " Text(0.625, 0.375, 'X[0] <= 5.609\\nentropy = 0.949\\nsamples = 1223\\nvalue = [773, 450]'),\n",
       " Text(0.5625, 0.125, 'entropy = 0.809\\nsamples = 193\\nvalue = [145, 48]'),\n",
       " Text(0.6875, 0.125, 'entropy = 0.965\\nsamples = 1030\\nvalue = [628, 402]'),\n",
       " Text(0.875, 0.375, 'X[0] <= 7.621\\nentropy = 0.981\\nsamples = 129\\nvalue = [54, 75]'),\n",
       " Text(0.8125, 0.125, 'entropy = 0.797\\nsamples = 83\\nvalue = [20, 63]'),\n",
       " Text(0.9375, 0.125, 'entropy = 0.828\\nsamples = 46\\nvalue = [34, 12]')]"
      ]
     },
     "execution_count": 27,
     "metadata": {},
     "output_type": "execute_result"
    },
    {
     "data": {
      "image/png": "[encoded data removed]",
      "text/plain": [
       "<Figure size 432x288 with 1 Axes>"
      ]
     },
     "metadata": {
      "needs_background": "light"
     },
     "output_type": "display_data"
    }
   ],
   "source": [
    "# Using entropy with maxdepth =3 plotting decision tree\n",
    "clf = DecisionTreeClassifier(max_depth = 3, criterion='entropy')\n",
    "clf.fit(X_train, y_train)\n",
    "clf.predict(X_test)\n",
    "tree.plot_tree(clf)"
   ]
  },
  {
   "cell_type": "code",
   "execution_count": null,
   "metadata": {},
   "outputs": [
    {
     "data": {
      "text/plain": [
       "[Text(0.5, 0.8333333333333334, 'X[4] <= 260.92\\ngini = 0.48\\nsamples = 1407\\nvalue = [844, 563]'),\n",
       " Text(0.25, 0.5, 'X[2] <= 18346.617\\ngini = 0.427\\nsamples = 55\\nvalue = [17, 38]'),\n",
       " Text(0.125, 0.16666666666666666, 'gini = 0.391\\nsamples = 15\\nvalue = [11, 4]'),\n",
       " Text(0.375, 0.16666666666666666, 'gini = 0.255\\nsamples = 40\\nvalue = [6, 34]'),\n",
       " Text(0.75, 0.5, 'X[4] <= 387.301\\ngini = 0.475\\nsamples = 1352\\nvalue = [827, 525]'),\n",
       " Text(0.625, 0.16666666666666666, 'gini = 0.465\\nsamples = 1223\\nvalue = [773, 450]'),\n",
       " Text(0.875, 0.16666666666666666, 'gini = 0.487\\nsamples = 129\\nvalue = [54, 75]')]"
      ]
     },
     "execution_count": 28,
     "metadata": {},
     "output_type": "execute_result"
    },
    {
     "data": {
      "image/png": "[encoded data removed]",
      "text/plain": [
       "<Figure size 432x288 with 1 Axes>"
      ]
     },
     "metadata": {
      "needs_background": "light"
     },
     "output_type": "display_data"
    }
   ],
   "source": [
    "# Using gini with maxdepth =2 plotting decision tree\n",
    "from sklearn import tree\n",
    "clf = DecisionTreeClassifier(max_depth = 2)\n",
    "clf.fit(X_train, y_train)\n",
    "clf.predict(X_test)\n",
    "tree.plot_tree(clf)"
   ]
  },
  {
   "cell_type": "code",
   "execution_count": null,
   "metadata": {},
   "outputs": [
    {
     "data": {
      "text/plain": [
       "[Text(0.5, 0.875, 'X[4] <= 260.92\\ngini = 0.48\\nsamples = 1407\\nvalue = [844, 563]'),\n",
       " Text(0.25, 0.625, 'X[2] <= 18346.617\\ngini = 0.427\\nsamples = 55\\nvalue = [17, 38]'),\n",
       " Text(0.125, 0.375, 'X[4] <= 232.093\\ngini = 0.391\\nsamples = 15\\nvalue = [11, 4]'),\n",
       " Text(0.0625, 0.125, 'gini = 0.375\\nsamples = 4\\nvalue = [1, 3]'),\n",
       " Text(0.1875, 0.125, 'gini = 0.165\\nsamples = 11\\nvalue = [10, 1]'),\n",
       " Text(0.375, 0.375, 'X[4] <= 239.985\\ngini = 0.255\\nsamples = 40\\nvalue = [6, 34]'),\n",
       " Text(0.3125, 0.125, 'gini = 0.49\\nsamples = 14\\nvalue = [6, 8]'),\n",
       " Text(0.4375, 0.125, 'gini = 0.0\\nsamples = 26\\nvalue = [0, 26]'),\n",
       " Text(0.75, 0.625, 'X[4] <= 387.301\\ngini = 0.475\\nsamples = 1352\\nvalue = [827, 525]'),\n",
       " Text(0.625, 0.375, 'X[0] <= 5.609\\ngini = 0.465\\nsamples = 1223\\nvalue = [773, 450]'),\n",
       " Text(0.5625, 0.125, 'gini = 0.374\\nsamples = 193\\nvalue = [145, 48]'),\n",
       " Text(0.6875, 0.125, 'gini = 0.476\\nsamples = 1030\\nvalue = [628, 402]'),\n",
       " Text(0.875, 0.375, 'X[0] <= 7.621\\ngini = 0.487\\nsamples = 129\\nvalue = [54, 75]'),\n",
       " Text(0.8125, 0.125, 'gini = 0.366\\nsamples = 83\\nvalue = [20, 63]'),\n",
       " Text(0.9375, 0.125, 'gini = 0.386\\nsamples = 46\\nvalue = [34, 12]')]"
      ]
     },
     "execution_count": 29,
     "metadata": {},
     "output_type": "execute_result"
    },
    {
     "data": {
      "image/png": "[encoded data removed]",
      "text/plain": [
       "<Figure size 432x288 with 1 Axes>"
      ]
     },
     "metadata": {
      "needs_background": "light"
     },
     "output_type": "display_data"
    }
   ],
   "source": [
    "from sklearn import tree\n",
    "clf = DecisionTreeClassifier(max_depth = 3)\n",
    "clf.fit(X_train, y_train)\n",
    "clf.predict(X_test)\n",
    "tree.plot_tree(clf)"
   ]
  },
  {
   "cell_type": "code",
   "execution_count": null,
   "metadata": {},
   "outputs": [
    {
     "data": {
      "text/plain": [
       "[Text(0.49107142857142855, 0.9, 'X[4] <= 260.92\\ngini = 0.48\\nsamples = 1407\\nvalue = [844, 563]'),\n",
       " Text(0.26785714285714285, 0.7, 'X[2] <= 18346.617\\ngini = 0.427\\nsamples = 55\\nvalue = [17, 38]'),\n",
       " Text(0.14285714285714285, 0.5, 'X[4] <= 232.093\\ngini = 0.391\\nsamples = 15\\nvalue = [11, 4]'),\n",
       " Text(0.07142857142857142, 0.3, 'X[2] <= 8633.077\\ngini = 0.375\\nsamples = 4\\nvalue = [1, 3]'),\n",
       " Text(0.03571428571428571, 0.1, 'gini = 0.0\\nsamples = 1\\nvalue = [1, 0]'),\n",
       " Text(0.10714285714285714, 0.1, 'gini = 0.0\\nsamples = 3\\nvalue = [0, 3]'),\n",
       " Text(0.21428571428571427, 0.3, 'X[0] <= 8.262\\ngini = 0.165\\nsamples = 11\\nvalue = [10, 1]'),\n",
       " Text(0.17857142857142858, 0.1, 'gini = 0.0\\nsamples = 10\\nvalue = [10, 0]'),\n",
       " Text(0.25, 0.1, 'gini = 0.0\\nsamples = 1\\nvalue = [0, 1]'),\n",
       " Text(0.39285714285714285, 0.5, 'X[4] <= 239.985\\ngini = 0.255\\nsamples = 40\\nvalue = [6, 34]'),\n",
       " Text(0.35714285714285715, 0.3, 'X[3] <= 6.683\\ngini = 0.49\\nsamples = 14\\nvalue = [6, 8]'),\n",
       " Text(0.32142857142857145, 0.1, 'gini = 0.219\\nsamples = 8\\nvalue = [1, 7]'),\n",
       " Text(0.39285714285714285, 0.1, 'gini = 0.278\\nsamples = 6\\nvalue = [5, 1]'),\n",
       " Text(0.42857142857142855, 0.3, 'gini = 0.0\\nsamples = 26\\nvalue = [0, 26]'),\n",
       " Text(0.7142857142857143, 0.7, 'X[4] <= 387.301\\ngini = 0.475\\nsamples = 1352\\nvalue = [827, 525]'),\n",
       " Text(0.5714285714285714, 0.5, 'X[0] <= 5.609\\ngini = 0.465\\nsamples = 1223\\nvalue = [773, 450]'),\n",
       " Text(0.5, 0.3, 'X[3] <= 5.507\\ngini = 0.374\\nsamples = 193\\nvalue = [145, 48]'),\n",
       " Text(0.4642857142857143, 0.1, 'gini = 0.408\\nsamples = 21\\nvalue = [6, 15]'),\n",
       " Text(0.5357142857142857, 0.1, 'gini = 0.31\\nsamples = 172\\nvalue = [139, 33]'),\n",
       " Text(0.6428571428571429, 0.3, 'X[4] <= 305.655\\ngini = 0.476\\nsamples = 1030\\nvalue = [628, 402]'),\n",
       " Text(0.6071428571428571, 0.1, 'gini = 0.5\\nsamples = 235\\nvalue = [117, 118]'),\n",
       " Text(0.6785714285714286, 0.1, 'gini = 0.459\\nsamples = 795\\nvalue = [511, 284]'),\n",
       " Text(0.8571428571428571, 0.5, 'X[0] <= 7.621\\ngini = 0.487\\nsamples = 129\\nvalue = [54, 75]'),\n",
       " Text(0.7857142857142857, 0.3, 'X[2] <= 19994.295\\ngini = 0.366\\nsamples = 83\\nvalue = [20, 63]'),\n",
       " Text(0.75, 0.1, 'gini = 0.208\\nsamples = 51\\nvalue = [6, 45]'),\n",
       " Text(0.8214285714285714, 0.1, 'gini = 0.492\\nsamples = 32\\nvalue = [14, 18]'),\n",
       " Text(0.9285714285714286, 0.3, 'X[3] <= 9.459\\ngini = 0.386\\nsamples = 46\\nvalue = [34, 12]'),\n",
       " Text(0.8928571428571429, 0.1, 'gini = 0.295\\nsamples = 39\\nvalue = [32, 7]'),\n",
       " Text(0.9642857142857143, 0.1, 'gini = 0.408\\nsamples = 7\\nvalue = [2, 5]')]"
      ]
     },
     "execution_count": 30,
     "metadata": {},
     "output_type": "execute_result"
    },
    {
     "data": {
      "image/png": "[encoded data removed]",
      "text/plain": [
       "<Figure size 432x288 with 1 Axes>"
      ]
     },
     "metadata": {
      "needs_background": "light"
     },
     "output_type": "display_data"
    }
   ],
   "source": [
    "from sklearn import tree\n",
    "clf = DecisionTreeClassifier(max_depth = 4)\n",
    "clf.fit(X_train, y_train)\n",
    "clf.predict(X_test)\n",
    "tree.plot_tree(clf)"
   ]
  },
  {
   "cell_type": "markdown",
   "metadata": {},
   "source": [
    "## Naive Bayes"
   ]
  },
  {
   "cell_type": "markdown",
   "metadata": {},
   "source": [
    "Gaussian Naive Bayes"
   ]
  },
  {
   "cell_type": "code",
   "execution_count": null,
   "metadata": {},
   "outputs": [
    {
     "data": {
      "text/plain": [
       "GaussianNB()"
      ]
     },
     "execution_count": 31,
     "metadata": {},
     "output_type": "execute_result"
    }
   ],
   "source": [
    "Gnb = GaussianNB()\n",
    "Gnb.fit(X_train, y_train)"
   ]
  },
  {
   "cell_type": "code",
   "execution_count": null,
   "metadata": {},
   "outputs": [],
   "source": [
    "y_pred = Gnb.predict(X_test)"
   ]
  },
  {
   "cell_type": "code",
   "execution_count": null,
   "metadata": {},
   "outputs": [
    {
     "name": "stdout",
     "output_type": "stream",
     "text": [
      "Report :                precision    recall  f1-score   support\n",
      "\n",
      "           0       0.63      0.97      0.76        38\n",
      "           1       0.50      0.04      0.08        23\n",
      "\n",
      "    accuracy                           0.62        61\n",
      "   macro avg       0.56      0.51      0.42        61\n",
      "weighted avg       0.58      0.62      0.51        61\n",
      "\n",
      "Confusion Matrix:  [[37  1]\n",
      " [22  1]]\n"
     ]
    },
    {
     "data": {
      "image/png": "[encoded data removed]",
      "text/plain": [
       "<Figure size 432x288 with 2 Axes>"
      ]
     },
     "metadata": {
      "needs_background": "light"
     },
     "output_type": "display_data"
    }
   ],
   "source": [
    "#getting classification report and confusion matrix for the Gaussian \n",
    "from sklearn.metrics import classification_report\n",
    "print(\"Report : \",classification_report(y_test, y_pred))\n",
    "print(\"Confusion Matrix: \",confusion_matrix(y_test, y_pred))\n",
    "import seaborn as sns\n",
    "from sklearn.metrics import confusion_matrix\n",
    "cm = confusion_matrix(y_test,y_pred)\n",
    "f = sns.heatmap(cm, annot= True, fmt='d')"
   ]
  },
  {
   "cell_type": "markdown",
   "metadata": {},
   "source": [
    "Multinomial Naive Bayes"
   ]
  },
  {
   "cell_type": "code",
   "execution_count": null,
   "metadata": {},
   "outputs": [
    {
     "data": {
      "text/plain": [
       "MultinomialNB()"
      ]
     },
     "execution_count": 34,
     "metadata": {},
     "output_type": "execute_result"
    }
   ],
   "source": [
    "Mnb = MultinomialNB()\n",
    "Mnb.fit(X_train, y_train)"
   ]
  },
  {
   "cell_type": "code",
   "execution_count": null,
   "metadata": {},
   "outputs": [],
   "source": [
    "y_pred = Mnb.predict(X_test)"
   ]
  },
  {
   "cell_type": "code",
   "execution_count": null,
   "metadata": {},
   "outputs": [
    {
     "name": "stdout",
     "output_type": "stream",
     "text": [
      "Report :                precision    recall  f1-score   support\n",
      "\n",
      "           0       0.59      0.50      0.54        38\n",
      "           1       0.34      0.43      0.38        23\n",
      "\n",
      "    accuracy                           0.48        61\n",
      "   macro avg       0.47      0.47      0.46        61\n",
      "weighted avg       0.50      0.48      0.48        61\n",
      "\n",
      "Confusion Matrix:  [[19 19]\n",
      " [13 10]]\n"
     ]
    },
    {
     "data": {
      "image/png": "[encoded data removed]",
      "text/plain": [
       "<Figure size 432x288 with 2 Axes>"
      ]
     },
     "metadata": {
      "needs_background": "light"
     },
     "output_type": "display_data"
    }
   ],
   "source": [
    "#getting classification report and confusion matrix for the Multinomial\n",
    "from sklearn.metrics import classification_report\n",
    "print(\"Report : \",classification_report(y_test, y_pred))\n",
    "print(\"Confusion Matrix: \",confusion_matrix(y_test, y_pred))\n",
    "import seaborn as sns\n",
    "from sklearn.metrics import confusion_matrix\n",
    "cm = confusion_matrix(y_test,y_pred)\n",
    "f = sns.heatmap(cm, annot= True, fmt='d')"
   ]
  },
  {
   "cell_type": "markdown",
   "metadata": {},
   "source": [
    "Bernoulli Naive Bayes"
   ]
  },
  {
   "cell_type": "code",
   "execution_count": null,
   "metadata": {},
   "outputs": [
    {
     "data": {
      "text/plain": [
       "BernoulliNB()"
      ]
     },
     "execution_count": 37,
     "metadata": {},
     "output_type": "execute_result"
    }
   ],
   "source": [
    "Bnb = BernoulliNB()\n",
    "Bnb.fit(X_train, y_train)"
   ]
  },
  {
   "cell_type": "code",
   "execution_count": null,
   "metadata": {},
   "outputs": [],
   "source": [
    "y_pred = Bnb.predict(X_test)\n",
    "\n",
    "\n",
    "y_pred_val = Bnb.predict(x_val_txt)"
   ]
  },
  {
   "cell_type": "code",
   "execution_count": null,
   "metadata": {},
   "outputs": [
    {
     "name": "stdout",
     "output_type": "stream",
     "text": [
      "Report :                precision    recall  f1-score   support\n",
      "\n",
      "           0       0.62      1.00      0.77        38\n",
      "           1       0.00      0.00      0.00        23\n",
      "\n",
      "    accuracy                           0.62        61\n",
      "   macro avg       0.31      0.50      0.38        61\n",
      "weighted avg       0.39      0.62      0.48        61\n",
      "\n",
      "Confusion Matrix:  [[38  0]\n",
      " [23  0]]\n"
     ]
    },
    {
     "name": "stderr",
     "output_type": "stream",
     "text": [
      "C:\\Users\\bhara\\AppData\\Local\\Programs\\Python\\Python39\\lib\\site-packages\\sklearn\\metrics\\_classification.py:1318: UndefinedMetricWarning: Precision and F-score are ill-defined and being set to 0.0 in labels with no predicted samples. Use `zero_division` parameter to control this behavior.\n",
      "  _warn_prf(average, modifier, msg_start, len(result))\n",
      "C:\\Users\\bhara\\AppData\\Local\\Programs\\Python\\Python39\\lib\\site-packages\\sklearn\\metrics\\_classification.py:1318: UndefinedMetricWarning: Precision and F-score are ill-defined and being set to 0.0 in labels with no predicted samples. Use `zero_division` parameter to control this behavior.\n",
      "  _warn_prf(average, modifier, msg_start, len(result))\n",
      "C:\\Users\\bhara\\AppData\\Local\\Programs\\Python\\Python39\\lib\\site-packages\\sklearn\\metrics\\_classification.py:1318: UndefinedMetricWarning: Precision and F-score are ill-defined and being set to 0.0 in labels with no predicted samples. Use `zero_division` parameter to control this behavior.\n",
      "  _warn_prf(average, modifier, msg_start, len(result))\n"
     ]
    },
    {
     "data": {
      "image/png": "[encoded data removed]",
      "text/plain": [
       "<Figure size 432x288 with 2 Axes>"
      ]
     },
     "metadata": {
      "needs_background": "light"
     },
     "output_type": "display_data"
    }
   ],
   "source": [
    "#getting classification report and confusion matrix for the bernoulli\n",
    "from sklearn.metrics import classification_report\n",
    "print(\"Report : \",classification_report(y_test, y_pred))\n",
    "print(\"Confusion Matrix: \",confusion_matrix(y_test, y_pred))\n",
    "import seaborn as sns\n",
    "from sklearn.metrics import confusion_matrix\n",
    "cm = confusion_matrix(y_test,y_pred)\n",
    "f = sns.heatmap(cm, annot= True, fmt='d')"
   ]
  },
  {
   "cell_type": "code",
   "execution_count": null,
   "metadata": {},
   "outputs": [],
   "source": []
  },
  {
   "cell_type": "code",
   "execution_count": null,
   "metadata": {},
   "outputs": [],
   "source": []
  },
  {
   "cell_type": "code",
   "execution_count": null,
   "metadata": {},
   "outputs": [],
   "source": []
  }
 ],
 "metadata": {
  "colab": {
   "name": "PA#2-Classification[DT,NB].ipynb",
   "provenance": []
  },
  "kernelspec": {
   "display_name": "Python 3 (ipykernel)",
   "language": "python",
   "name": "python3"
  },
  "language_info": {
   "codemirror_mode": {
    "name": "ipython",
    "version": 3
   },
   "file_extension": ".py",
   "mimetype": "text/x-python",
   "name": "python",
   "nbconvert_exporter": "python",
   "pygments_lexer": "ipython3",
   "version": "3.10.2"
  }
 },
 "nbformat": 4,
 "nbformat_minor": 1
}
