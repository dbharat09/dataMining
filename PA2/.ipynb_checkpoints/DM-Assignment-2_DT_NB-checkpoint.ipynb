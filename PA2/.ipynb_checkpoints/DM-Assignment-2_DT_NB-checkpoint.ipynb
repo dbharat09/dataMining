{
 "cells": [
  {
   "cell_type": "markdown",
   "id": "4ac77bb4",
   "metadata": {},
   "source": [
    "# Data Mining Assignment 2_DT_NB"
   ]
  },
  {
   "cell_type": "markdown",
   "id": "5715b41a",
   "metadata": {},
   "source": [
    "## Student Details\n",
    "\n",
    "Student Name and ID of the member submitting the assignment: \n",
    "\n",
    "Student Name and ID of the remaining members: \n",
    "\n",
    "Notes:\n",
    "When submitting, fill your name and ID in this cell. Note that this is a markdown cell!<br>\n",
    "Do not make any changes in the dataset file and do not rename the 'database.csv'.\n",
    "<br> Rename your submission file to <b> 'yourLastName_Last4digitsofyourID_PA1.ipynb' </b>. \n",
    "<br> Do not to forget to cite any external sources used by you. \n",
    "**10 points per question will be deducted incase you fail to do so**\n",
    "<br>**DO NOT DELETE THIS CELL**<br>\n",
    "#### Please consult the TA before using any other packages apart from sklearn,numpy,pandas, matplotlib and seaborn"
   ]
  },
  {
   "cell_type": "markdown",
   "id": "102aa828",
   "metadata": {},
   "source": [
    "## Programming Assignment Submission Instructions (2 Points)\n",
    "\n",
    "Step 1: Rename this submission file as 'yourLastName_Last4digitsofyourID_DT.ipynb' [1 point]\n",
    "\n",
    "Step 2: Place this file inside the folder 'PA#2_Classification_yourLastName'  [1 point]"
   ]
  },
  {
   "cell_type": "markdown",
   "id": "d3f3ef2c",
   "metadata": {},
   "source": [
    "## Programming Assignment Details (5 Points)\n",
    "\n",
    "\n",
    "For this assignment use Jupyter notebook, Panda, and scikit.\n",
    "\n",
    "1) Load Gender_Classifier.csv .Output/prediction variable is 'gender' [1 points]\n",
    "\n",
    "2) Create a dataframe and print the first and last seven records of your dataset.  [1 points]\n",
    "\n",
    "3) Print the class labels. [1 points]\n",
    "\n",
    "4) Split your dataset 60% for training, 20 for validation and 20% for testing the classifier. Use random state as 2022 [2 points]"
   ]
  },
  {
   "cell_type": "markdown",
   "id": "eb32abbb",
   "metadata": {},
   "source": [
    "### DecisionTree (10 Points)\n",
    "1) Use gini and entropy to measure the quality of a split. [2 points]\n",
    "\n",
    "2) Use comments to explain your code and variable names. [1 point]\n",
    "\n",
    "3) Calculate and print the confusion matrix (use graphics instead showing a 2D array), and the classification Report (includes: precision, recall, f1-score, and support. Explain the confusion matrix and classification report in your own words). Do not copy from the internet.[4 points]\n",
    "\n",
    "4) Print the decision tree visualization for 3 different depths using given libraries.  [3 points]"
   ]
  },
  {
   "cell_type": "markdown",
   "id": "c72eca84",
   "metadata": {},
   "source": [
    "# Naive Bayes (10 Points)\n",
    "\n",
    "1) Use all types of Naive bayes classifier present in the sklearn to predict the test data. If you are not able to implement any of the classifier explain in detail why it can't be done.[5 point] \n",
    "\n",
    "2) Use comments to explain your code and variable names[1 point]\n",
    "\n",
    "3) Calculate and print the confusion matrix (use graphics instead showing a 2D array), and the classification Report (includes: precision, recall, f1-score, and support)for all the NB Classifier. show the best classifier. Explain the classification report in your own words. Do not copy from the internet. [4 points]"
   ]
  },
  {
   "cell_type": "markdown",
   "id": "ac6b41e8",
   "metadata": {},
   "source": [
    "## Report (23 Points)\n",
    "\n",
    "\n",
    "1) Describe the Decision Tree methods, and Naive Bayes classifier in details in your own words. Dont copy paste it from the internet. Write it on your own.  [5 points]\n",
    "\n",
    "2) Describe the datasets like what do you understand from the dataset? and if you have done any pre-processing , and your code, please write down your observation. [6 points]\n",
    "\n",
    "4) Visualization of the decision tree for gini and entropy.[4 points]\n",
    "\n",
    "5) Interpret your results, compare gini and entropy [4 points]\n",
    "\n",
    "6) Visualize the dataset, for the target variable - 2 graphs [4 points]\n",
    "\n",
    "Do not to forget to cite your sources!"
   ]
  }
 ],
 "metadata": {
  "kernelspec": {
   "display_name": "Python 3 (ipykernel)",
   "language": "python",
   "name": "python3"
  },
  "language_info": {
   "codemirror_mode": {
    "name": "ipython",
    "version": 3
   },
   "file_extension": ".py",
   "mimetype": "text/x-python",
   "name": "python",
   "nbconvert_exporter": "python",
   "pygments_lexer": "ipython3",
   "version": "3.9.7"
  }
 },
 "nbformat": 4,
 "nbformat_minor": 5
}
