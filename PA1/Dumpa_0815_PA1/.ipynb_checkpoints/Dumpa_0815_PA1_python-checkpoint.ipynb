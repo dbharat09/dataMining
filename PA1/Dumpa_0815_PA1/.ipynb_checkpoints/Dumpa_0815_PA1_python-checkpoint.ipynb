{
 "cells": [
  {
   "cell_type": "markdown",
   "id": "d44b5bf9",
   "metadata": {},
   "source": [
    "# Data Mining Assignment 1"
   ]
  },
  {
   "cell_type": "markdown",
   "id": "d5271db1",
   "metadata": {},
   "source": [
    "## Student Details\n",
    "\n",
    "Student Name and ID of the member submitting the assignment: Dumpa Bharat Kumar , ID - 1001870815\n",
    "\n",
    "Student Name and ID of the remaining members: Likhita Muddana, ID - 1001949141\n",
    "\n",
    "Notes:\n",
    "When submitting, fill your name and ID in this cell. Note that this is a markdown cell!<br>\n",
    "Do not make any changes in the dataset file and do not rename the 'database.csv'.\n",
    "<br> Rename your submission file to <b> 'yourLastName_Last4digitsofyourID_PA1.ipynb' </b>. \n",
    "<br> Do not to forget to cite any external sources used by you. \n",
    "**5 points per question will be deducted incase you fail to do so**\n",
    "<br>**DO NOT DELETE THIS CELL**<br>"
   ]
  },
  {
   "cell_type": "markdown",
   "id": "a197ee35",
   "metadata": {},
   "source": [
    "## Assignment Details\n",
    "\n",
    "In this assignment, you will conduct a guided exploration over the given dataset.\n",
    "\n",
    "You will prepare a **report** with the following outline for each one of the dataset. Look at the following Example.\n",
    "\n",
    "1.\tIntroduction\n",
    "\n",
    "2.\tRetrieving the Data\n",
    "\n",
    "3.\tGlimpse of Data\n",
    "\n",
    "4.\tCheck for missing data\n",
    "\n",
    "5.\tData Exploration\n",
    "\n",
    "\n",
    "You will learn and use some of the most common exploration/aggregation/descriptive operations. This should also help you learn most of the key functionalities in Python/Pandas, Weka and R. DO Task 1, Task 2, Task 3, Task 4 using Python/Pandas, Weka, R\n",
    " \n",
    "**Out of the 3 datasets listed below:**\n",
    "\n",
    "**1. Weather dataset should be solved using Python in Jupyter notebook only.**\n",
    "\n",
    "**2. Surgical dataset using WEKA**\n",
    "\n",
    "**3. Healthcare_stroke_dataset using R**\n",
    "\n",
    "\n",
    "You will also learn how to use visualization libraries to identify patterns in data that will help in your further data analysis. You will also explore most popular chart types and how to use different libraries and styles to make your visualizations more attractive.\n",
    "\n",
    "**Each code visualization and plotted needs to be explained in the 4 to 5 lines**"
   ]
  },
  {
   "cell_type": "markdown",
   "id": "78ca1056",
   "metadata": {},
   "source": [
    "# Dataset Details\n",
    "\n",
    "In this assignment, you will work on 1) \n",
    "weather_dataset.csv\n",
    "The columns of the data-set are:\n",
    "\n",
    "* Date\n",
    "* Time\n",
    "* Temp Humidity Index   \n",
    "* Outside Temperature\n",
    "* WindChill\n",
    "* Hi Temperature\n",
    "* Low Temperature\n",
    "* Outside Humidity\n",
    "* DewPoint\n",
    "* WindSpeed\n",
    "* Hi\n",
    "* Wind Direction\n",
    "* Rain\n",
    "* Barometer\n",
    "* Inside  Temperature\n",
    "* Inside  Humidity\n",
    "* ArchivePeriod"
   ]
  },
  {
   "cell_type": "markdown",
   "id": "60ebd0aa",
   "metadata": {},
   "source": [
    "## Required Python Packages\n",
    "You will only use the packages imported below in this assignment. \n",
    "<br>**Do NOT import any new packages without confirming with the TA.**\n",
    "<br>20 points will be deducted from the assignment if any library is used except provided below."
   ]
  },
  {
   "cell_type": "code",
   "execution_count": 10,
   "id": "c9afcf7c",
   "metadata": {},
   "outputs": [],
   "source": [
    "# special IPython command to prepare the notebook for matplotlib\n",
    "import matplotlib.pyplot as plt\n",
    "\n",
    "#Array processing\n",
    "import numpy as np\n",
    "#Data analysis, wrangling and common exploratory operations\n",
    "import pandas as pd\n",
    "from pandas import Series, DataFrame\n",
    "from itertools import chain\n",
    "import datetime\n",
    "#For visualization. Matplotlib for basic viz and seaborn for more stylish figures\n",
    "# import matplotlib.pyplot as plt\n",
    "import seaborn as sns"
   ]
  },
  {
   "cell_type": "code",
   "execution_count": 11,
   "id": "ddd0bd7b",
   "metadata": {},
   "outputs": [],
   "source": [
    "# Reading Dataset\n",
    "# The Python code below reads the weather dataset into a Pandas data frame with the name df_data. \n",
    "# For this code to work, the file 'database.csv' must be in the same folder as this file."
   ]
  },
  {
   "cell_type": "code",
   "execution_count": 12,
   "id": "22441593",
   "metadata": {},
   "outputs": [
    {
     "ename": "FileNotFoundError",
     "evalue": "[Errno 2] No such file or directory: 'Weatherdataset.csv'",
     "output_type": "error",
     "traceback": [
      "\u001b[0;31m---------------------------------------------------------------------------\u001b[0m",
      "\u001b[0;31mFileNotFoundError\u001b[0m                         Traceback (most recent call last)",
      "Input \u001b[0;32mIn [12]\u001b[0m, in \u001b[0;36m<module>\u001b[0;34m\u001b[0m\n\u001b[1;32m      1\u001b[0m \u001b[38;5;66;03m#read the csv file into a Pandas data frame\u001b[39;00m\n\u001b[0;32m----> 2\u001b[0m df_data \u001b[38;5;241m=\u001b[39m \u001b[43mpd\u001b[49m\u001b[38;5;241;43m.\u001b[39;49m\u001b[43mread_csv\u001b[49m\u001b[43m(\u001b[49m\u001b[38;5;124;43m'\u001b[39;49m\u001b[38;5;124;43mWeatherdataset.csv\u001b[39;49m\u001b[38;5;124;43m'\u001b[39;49m\u001b[43m,\u001b[49m\u001b[43m \u001b[49m\u001b[43mencoding\u001b[49m\u001b[38;5;241;43m=\u001b[39;49m\u001b[38;5;124;43m'\u001b[39;49m\u001b[38;5;124;43mlatin1\u001b[39;49m\u001b[38;5;124;43m'\u001b[39;49m\u001b[43m)\u001b[49m\n\u001b[1;32m      3\u001b[0m df_data[\u001b[38;5;124m'\u001b[39m\u001b[38;5;124mDate\u001b[39m\u001b[38;5;124m'\u001b[39m]\u001b[38;5;241m=\u001b[39mpd\u001b[38;5;241m.\u001b[39mto_datetime(df_data[\u001b[38;5;124m'\u001b[39m\u001b[38;5;124mDate\u001b[39m\u001b[38;5;124m'\u001b[39m], \u001b[38;5;28mformat\u001b[39m\u001b[38;5;241m=\u001b[39m\u001b[38;5;124m'\u001b[39m\u001b[38;5;132;01m%d\u001b[39;00m\u001b[38;5;124m/\u001b[39m\u001b[38;5;124m%\u001b[39m\u001b[38;5;124mm/\u001b[39m\u001b[38;5;124m%\u001b[39m\u001b[38;5;124mY\u001b[39m\u001b[38;5;124m'\u001b[39m)\n\u001b[1;32m      5\u001b[0m \u001b[38;5;66;03m#return the first 5 rows of the dataset\u001b[39;00m\n",
      "File \u001b[0;32m/Library/Frameworks/Python.framework/Versions/3.10/lib/python3.10/site-packages/pandas/util/_decorators.py:311\u001b[0m, in \u001b[0;36mdeprecate_nonkeyword_arguments.<locals>.decorate.<locals>.wrapper\u001b[0;34m(*args, **kwargs)\u001b[0m\n\u001b[1;32m    305\u001b[0m \u001b[38;5;28;01mif\u001b[39;00m \u001b[38;5;28mlen\u001b[39m(args) \u001b[38;5;241m>\u001b[39m num_allow_args:\n\u001b[1;32m    306\u001b[0m     warnings\u001b[38;5;241m.\u001b[39mwarn(\n\u001b[1;32m    307\u001b[0m         msg\u001b[38;5;241m.\u001b[39mformat(arguments\u001b[38;5;241m=\u001b[39marguments),\n\u001b[1;32m    308\u001b[0m         \u001b[38;5;167;01mFutureWarning\u001b[39;00m,\n\u001b[1;32m    309\u001b[0m         stacklevel\u001b[38;5;241m=\u001b[39mstacklevel,\n\u001b[1;32m    310\u001b[0m     )\n\u001b[0;32m--> 311\u001b[0m \u001b[38;5;28;01mreturn\u001b[39;00m \u001b[43mfunc\u001b[49m\u001b[43m(\u001b[49m\u001b[38;5;241;43m*\u001b[39;49m\u001b[43margs\u001b[49m\u001b[43m,\u001b[49m\u001b[43m \u001b[49m\u001b[38;5;241;43m*\u001b[39;49m\u001b[38;5;241;43m*\u001b[39;49m\u001b[43mkwargs\u001b[49m\u001b[43m)\u001b[49m\n",
      "File \u001b[0;32m/Library/Frameworks/Python.framework/Versions/3.10/lib/python3.10/site-packages/pandas/io/parsers/readers.py:680\u001b[0m, in \u001b[0;36mread_csv\u001b[0;34m(filepath_or_buffer, sep, delimiter, header, names, index_col, usecols, squeeze, prefix, mangle_dupe_cols, dtype, engine, converters, true_values, false_values, skipinitialspace, skiprows, skipfooter, nrows, na_values, keep_default_na, na_filter, verbose, skip_blank_lines, parse_dates, infer_datetime_format, keep_date_col, date_parser, dayfirst, cache_dates, iterator, chunksize, compression, thousands, decimal, lineterminator, quotechar, quoting, doublequote, escapechar, comment, encoding, encoding_errors, dialect, error_bad_lines, warn_bad_lines, on_bad_lines, delim_whitespace, low_memory, memory_map, float_precision, storage_options)\u001b[0m\n\u001b[1;32m    665\u001b[0m kwds_defaults \u001b[38;5;241m=\u001b[39m _refine_defaults_read(\n\u001b[1;32m    666\u001b[0m     dialect,\n\u001b[1;32m    667\u001b[0m     delimiter,\n\u001b[0;32m   (...)\u001b[0m\n\u001b[1;32m    676\u001b[0m     defaults\u001b[38;5;241m=\u001b[39m{\u001b[38;5;124m\"\u001b[39m\u001b[38;5;124mdelimiter\u001b[39m\u001b[38;5;124m\"\u001b[39m: \u001b[38;5;124m\"\u001b[39m\u001b[38;5;124m,\u001b[39m\u001b[38;5;124m\"\u001b[39m},\n\u001b[1;32m    677\u001b[0m )\n\u001b[1;32m    678\u001b[0m kwds\u001b[38;5;241m.\u001b[39mupdate(kwds_defaults)\n\u001b[0;32m--> 680\u001b[0m \u001b[38;5;28;01mreturn\u001b[39;00m \u001b[43m_read\u001b[49m\u001b[43m(\u001b[49m\u001b[43mfilepath_or_buffer\u001b[49m\u001b[43m,\u001b[49m\u001b[43m \u001b[49m\u001b[43mkwds\u001b[49m\u001b[43m)\u001b[49m\n",
      "File \u001b[0;32m/Library/Frameworks/Python.framework/Versions/3.10/lib/python3.10/site-packages/pandas/io/parsers/readers.py:575\u001b[0m, in \u001b[0;36m_read\u001b[0;34m(filepath_or_buffer, kwds)\u001b[0m\n\u001b[1;32m    572\u001b[0m _validate_names(kwds\u001b[38;5;241m.\u001b[39mget(\u001b[38;5;124m\"\u001b[39m\u001b[38;5;124mnames\u001b[39m\u001b[38;5;124m\"\u001b[39m, \u001b[38;5;28;01mNone\u001b[39;00m))\n\u001b[1;32m    574\u001b[0m \u001b[38;5;66;03m# Create the parser.\u001b[39;00m\n\u001b[0;32m--> 575\u001b[0m parser \u001b[38;5;241m=\u001b[39m \u001b[43mTextFileReader\u001b[49m\u001b[43m(\u001b[49m\u001b[43mfilepath_or_buffer\u001b[49m\u001b[43m,\u001b[49m\u001b[43m \u001b[49m\u001b[38;5;241;43m*\u001b[39;49m\u001b[38;5;241;43m*\u001b[39;49m\u001b[43mkwds\u001b[49m\u001b[43m)\u001b[49m\n\u001b[1;32m    577\u001b[0m \u001b[38;5;28;01mif\u001b[39;00m chunksize \u001b[38;5;129;01mor\u001b[39;00m iterator:\n\u001b[1;32m    578\u001b[0m     \u001b[38;5;28;01mreturn\u001b[39;00m parser\n",
      "File \u001b[0;32m/Library/Frameworks/Python.framework/Versions/3.10/lib/python3.10/site-packages/pandas/io/parsers/readers.py:933\u001b[0m, in \u001b[0;36mTextFileReader.__init__\u001b[0;34m(self, f, engine, **kwds)\u001b[0m\n\u001b[1;32m    930\u001b[0m     \u001b[38;5;28mself\u001b[39m\u001b[38;5;241m.\u001b[39moptions[\u001b[38;5;124m\"\u001b[39m\u001b[38;5;124mhas_index_names\u001b[39m\u001b[38;5;124m\"\u001b[39m] \u001b[38;5;241m=\u001b[39m kwds[\u001b[38;5;124m\"\u001b[39m\u001b[38;5;124mhas_index_names\u001b[39m\u001b[38;5;124m\"\u001b[39m]\n\u001b[1;32m    932\u001b[0m \u001b[38;5;28mself\u001b[39m\u001b[38;5;241m.\u001b[39mhandles: IOHandles \u001b[38;5;241m|\u001b[39m \u001b[38;5;28;01mNone\u001b[39;00m \u001b[38;5;241m=\u001b[39m \u001b[38;5;28;01mNone\u001b[39;00m\n\u001b[0;32m--> 933\u001b[0m \u001b[38;5;28mself\u001b[39m\u001b[38;5;241m.\u001b[39m_engine \u001b[38;5;241m=\u001b[39m \u001b[38;5;28;43mself\u001b[39;49m\u001b[38;5;241;43m.\u001b[39;49m\u001b[43m_make_engine\u001b[49m\u001b[43m(\u001b[49m\u001b[43mf\u001b[49m\u001b[43m,\u001b[49m\u001b[43m \u001b[49m\u001b[38;5;28;43mself\u001b[39;49m\u001b[38;5;241;43m.\u001b[39;49m\u001b[43mengine\u001b[49m\u001b[43m)\u001b[49m\n",
      "File \u001b[0;32m/Library/Frameworks/Python.framework/Versions/3.10/lib/python3.10/site-packages/pandas/io/parsers/readers.py:1217\u001b[0m, in \u001b[0;36mTextFileReader._make_engine\u001b[0;34m(self, f, engine)\u001b[0m\n\u001b[1;32m   1213\u001b[0m     mode \u001b[38;5;241m=\u001b[39m \u001b[38;5;124m\"\u001b[39m\u001b[38;5;124mrb\u001b[39m\u001b[38;5;124m\"\u001b[39m\n\u001b[1;32m   1214\u001b[0m \u001b[38;5;66;03m# error: No overload variant of \"get_handle\" matches argument types\u001b[39;00m\n\u001b[1;32m   1215\u001b[0m \u001b[38;5;66;03m# \"Union[str, PathLike[str], ReadCsvBuffer[bytes], ReadCsvBuffer[str]]\"\u001b[39;00m\n\u001b[1;32m   1216\u001b[0m \u001b[38;5;66;03m# , \"str\", \"bool\", \"Any\", \"Any\", \"Any\", \"Any\", \"Any\"\u001b[39;00m\n\u001b[0;32m-> 1217\u001b[0m \u001b[38;5;28mself\u001b[39m\u001b[38;5;241m.\u001b[39mhandles \u001b[38;5;241m=\u001b[39m \u001b[43mget_handle\u001b[49m\u001b[43m(\u001b[49m\u001b[43m  \u001b[49m\u001b[38;5;66;43;03m# type: ignore[call-overload]\u001b[39;49;00m\n\u001b[1;32m   1218\u001b[0m \u001b[43m    \u001b[49m\u001b[43mf\u001b[49m\u001b[43m,\u001b[49m\n\u001b[1;32m   1219\u001b[0m \u001b[43m    \u001b[49m\u001b[43mmode\u001b[49m\u001b[43m,\u001b[49m\n\u001b[1;32m   1220\u001b[0m \u001b[43m    \u001b[49m\u001b[43mencoding\u001b[49m\u001b[38;5;241;43m=\u001b[39;49m\u001b[38;5;28;43mself\u001b[39;49m\u001b[38;5;241;43m.\u001b[39;49m\u001b[43moptions\u001b[49m\u001b[38;5;241;43m.\u001b[39;49m\u001b[43mget\u001b[49m\u001b[43m(\u001b[49m\u001b[38;5;124;43m\"\u001b[39;49m\u001b[38;5;124;43mencoding\u001b[39;49m\u001b[38;5;124;43m\"\u001b[39;49m\u001b[43m,\u001b[49m\u001b[43m \u001b[49m\u001b[38;5;28;43;01mNone\u001b[39;49;00m\u001b[43m)\u001b[49m\u001b[43m,\u001b[49m\n\u001b[1;32m   1221\u001b[0m \u001b[43m    \u001b[49m\u001b[43mcompression\u001b[49m\u001b[38;5;241;43m=\u001b[39;49m\u001b[38;5;28;43mself\u001b[39;49m\u001b[38;5;241;43m.\u001b[39;49m\u001b[43moptions\u001b[49m\u001b[38;5;241;43m.\u001b[39;49m\u001b[43mget\u001b[49m\u001b[43m(\u001b[49m\u001b[38;5;124;43m\"\u001b[39;49m\u001b[38;5;124;43mcompression\u001b[39;49m\u001b[38;5;124;43m\"\u001b[39;49m\u001b[43m,\u001b[49m\u001b[43m \u001b[49m\u001b[38;5;28;43;01mNone\u001b[39;49;00m\u001b[43m)\u001b[49m\u001b[43m,\u001b[49m\n\u001b[1;32m   1222\u001b[0m \u001b[43m    \u001b[49m\u001b[43mmemory_map\u001b[49m\u001b[38;5;241;43m=\u001b[39;49m\u001b[38;5;28;43mself\u001b[39;49m\u001b[38;5;241;43m.\u001b[39;49m\u001b[43moptions\u001b[49m\u001b[38;5;241;43m.\u001b[39;49m\u001b[43mget\u001b[49m\u001b[43m(\u001b[49m\u001b[38;5;124;43m\"\u001b[39;49m\u001b[38;5;124;43mmemory_map\u001b[39;49m\u001b[38;5;124;43m\"\u001b[39;49m\u001b[43m,\u001b[49m\u001b[43m \u001b[49m\u001b[38;5;28;43;01mFalse\u001b[39;49;00m\u001b[43m)\u001b[49m\u001b[43m,\u001b[49m\n\u001b[1;32m   1223\u001b[0m \u001b[43m    \u001b[49m\u001b[43mis_text\u001b[49m\u001b[38;5;241;43m=\u001b[39;49m\u001b[43mis_text\u001b[49m\u001b[43m,\u001b[49m\n\u001b[1;32m   1224\u001b[0m \u001b[43m    \u001b[49m\u001b[43merrors\u001b[49m\u001b[38;5;241;43m=\u001b[39;49m\u001b[38;5;28;43mself\u001b[39;49m\u001b[38;5;241;43m.\u001b[39;49m\u001b[43moptions\u001b[49m\u001b[38;5;241;43m.\u001b[39;49m\u001b[43mget\u001b[49m\u001b[43m(\u001b[49m\u001b[38;5;124;43m\"\u001b[39;49m\u001b[38;5;124;43mencoding_errors\u001b[39;49m\u001b[38;5;124;43m\"\u001b[39;49m\u001b[43m,\u001b[49m\u001b[43m \u001b[49m\u001b[38;5;124;43m\"\u001b[39;49m\u001b[38;5;124;43mstrict\u001b[39;49m\u001b[38;5;124;43m\"\u001b[39;49m\u001b[43m)\u001b[49m\u001b[43m,\u001b[49m\n\u001b[1;32m   1225\u001b[0m \u001b[43m    \u001b[49m\u001b[43mstorage_options\u001b[49m\u001b[38;5;241;43m=\u001b[39;49m\u001b[38;5;28;43mself\u001b[39;49m\u001b[38;5;241;43m.\u001b[39;49m\u001b[43moptions\u001b[49m\u001b[38;5;241;43m.\u001b[39;49m\u001b[43mget\u001b[49m\u001b[43m(\u001b[49m\u001b[38;5;124;43m\"\u001b[39;49m\u001b[38;5;124;43mstorage_options\u001b[39;49m\u001b[38;5;124;43m\"\u001b[39;49m\u001b[43m,\u001b[49m\u001b[43m \u001b[49m\u001b[38;5;28;43;01mNone\u001b[39;49;00m\u001b[43m)\u001b[49m\u001b[43m,\u001b[49m\n\u001b[1;32m   1226\u001b[0m \u001b[43m\u001b[49m\u001b[43m)\u001b[49m\n\u001b[1;32m   1227\u001b[0m \u001b[38;5;28;01massert\u001b[39;00m \u001b[38;5;28mself\u001b[39m\u001b[38;5;241m.\u001b[39mhandles \u001b[38;5;129;01mis\u001b[39;00m \u001b[38;5;129;01mnot\u001b[39;00m \u001b[38;5;28;01mNone\u001b[39;00m\n\u001b[1;32m   1228\u001b[0m f \u001b[38;5;241m=\u001b[39m \u001b[38;5;28mself\u001b[39m\u001b[38;5;241m.\u001b[39mhandles\u001b[38;5;241m.\u001b[39mhandle\n",
      "File \u001b[0;32m/Library/Frameworks/Python.framework/Versions/3.10/lib/python3.10/site-packages/pandas/io/common.py:789\u001b[0m, in \u001b[0;36mget_handle\u001b[0;34m(path_or_buf, mode, encoding, compression, memory_map, is_text, errors, storage_options)\u001b[0m\n\u001b[1;32m    784\u001b[0m \u001b[38;5;28;01melif\u001b[39;00m \u001b[38;5;28misinstance\u001b[39m(handle, \u001b[38;5;28mstr\u001b[39m):\n\u001b[1;32m    785\u001b[0m     \u001b[38;5;66;03m# Check whether the filename is to be opened in binary mode.\u001b[39;00m\n\u001b[1;32m    786\u001b[0m     \u001b[38;5;66;03m# Binary mode does not support 'encoding' and 'newline'.\u001b[39;00m\n\u001b[1;32m    787\u001b[0m     \u001b[38;5;28;01mif\u001b[39;00m ioargs\u001b[38;5;241m.\u001b[39mencoding \u001b[38;5;129;01mand\u001b[39;00m \u001b[38;5;124m\"\u001b[39m\u001b[38;5;124mb\u001b[39m\u001b[38;5;124m\"\u001b[39m \u001b[38;5;129;01mnot\u001b[39;00m \u001b[38;5;129;01min\u001b[39;00m ioargs\u001b[38;5;241m.\u001b[39mmode:\n\u001b[1;32m    788\u001b[0m         \u001b[38;5;66;03m# Encoding\u001b[39;00m\n\u001b[0;32m--> 789\u001b[0m         handle \u001b[38;5;241m=\u001b[39m \u001b[38;5;28;43mopen\u001b[39;49m\u001b[43m(\u001b[49m\n\u001b[1;32m    790\u001b[0m \u001b[43m            \u001b[49m\u001b[43mhandle\u001b[49m\u001b[43m,\u001b[49m\n\u001b[1;32m    791\u001b[0m \u001b[43m            \u001b[49m\u001b[43mioargs\u001b[49m\u001b[38;5;241;43m.\u001b[39;49m\u001b[43mmode\u001b[49m\u001b[43m,\u001b[49m\n\u001b[1;32m    792\u001b[0m \u001b[43m            \u001b[49m\u001b[43mencoding\u001b[49m\u001b[38;5;241;43m=\u001b[39;49m\u001b[43mioargs\u001b[49m\u001b[38;5;241;43m.\u001b[39;49m\u001b[43mencoding\u001b[49m\u001b[43m,\u001b[49m\n\u001b[1;32m    793\u001b[0m \u001b[43m            \u001b[49m\u001b[43merrors\u001b[49m\u001b[38;5;241;43m=\u001b[39;49m\u001b[43merrors\u001b[49m\u001b[43m,\u001b[49m\n\u001b[1;32m    794\u001b[0m \u001b[43m            \u001b[49m\u001b[43mnewline\u001b[49m\u001b[38;5;241;43m=\u001b[39;49m\u001b[38;5;124;43m\"\u001b[39;49m\u001b[38;5;124;43m\"\u001b[39;49m\u001b[43m,\u001b[49m\n\u001b[1;32m    795\u001b[0m \u001b[43m        \u001b[49m\u001b[43m)\u001b[49m\n\u001b[1;32m    796\u001b[0m     \u001b[38;5;28;01melse\u001b[39;00m:\n\u001b[1;32m    797\u001b[0m         \u001b[38;5;66;03m# Binary mode\u001b[39;00m\n\u001b[1;32m    798\u001b[0m         handle \u001b[38;5;241m=\u001b[39m \u001b[38;5;28mopen\u001b[39m(handle, ioargs\u001b[38;5;241m.\u001b[39mmode)\n",
      "\u001b[0;31mFileNotFoundError\u001b[0m: [Errno 2] No such file or directory: 'Weatherdataset.csv'"
     ]
    }
   ],
   "source": [
    "#read the csv file into a Pandas data frame\n",
    "df_data = pd.read_csv('Weatherdataset.csv', encoding='latin1')\n",
    "df_data['Date']=pd.to_datetime(df_data['Date'], format='%d/%m/%Y')\n",
    "\n",
    "#return the first 5 rows of the dataset\n",
    "df_data.head()"
   ]
  },
  {
   "cell_type": "markdown",
   "id": "2e887560",
   "metadata": {},
   "source": [
    "# Task 1: Statistical Exploratory Data Analysis\n",
    "Let us start with getting know the dataset. Your first task will be to get some basic information by using Pandas features."
   ]
  },
  {
   "cell_type": "code",
   "execution_count": null,
   "id": "21943362",
   "metadata": {},
   "outputs": [
    {
     "name": "stdout",
     "output_type": "stream",
     "text": [
      "Task 1-a: Details of df_data data frame are: \n",
      "\n",
      "<class 'pandas.core.frame.DataFrame'>\n",
      "RangeIndex: 4463 entries, 0 to 4462\n",
      "Data columns (total 17 columns):\n",
      " #   Column                  Non-Null Count  Dtype         \n",
      "---  ------                  --------------  -----         \n",
      " 0   Date                    4463 non-null   datetime64[ns]\n",
      " 1   Time                    4463 non-null   object        \n",
      " 2   Temp Humidity Index     4463 non-null   float64       \n",
      " 3   Outside Temperature     4463 non-null   float64       \n",
      " 4   WindChill               4463 non-null   float64       \n",
      " 5   Hi Temperature          4463 non-null   float64       \n",
      " 6   Low Temperature         4463 non-null   float64       \n",
      " 7   Outside Humidity        4463 non-null   int64         \n",
      " 8   DewPoint                4463 non-null   float64       \n",
      " 9   WindSpeed               4463 non-null   int64         \n",
      " 10  Hi                      4463 non-null   int64         \n",
      " 11  Wind Direction          4463 non-null   object        \n",
      " 12  Rain                    4463 non-null   float64       \n",
      " 13  Barometer               4463 non-null   float64       \n",
      " 14  Inside  Temperature     4463 non-null   float64       \n",
      " 15  Inside  Humidity        4463 non-null   int64         \n",
      " 16  ArchivePeriod           4463 non-null   int64         \n",
      "dtypes: datetime64[ns](1), float64(9), int64(5), object(2)\n",
      "memory usage: 592.9+ KB\n"
     ]
    }
   ],
   "source": [
    "\n",
    "# 1 points\n",
    "#Task 1-a: Print the details of the df_data data frame (information such as number of rows,columns, name of columns, etc)\n",
    "print (\"Task 1-a: Details of df_data data frame are: \\n\")\n",
    "df_data.info()\n"
   ]
  },
  {
   "cell_type": "code",
   "execution_count": null,
   "id": "a94f41a8",
   "metadata": {},
   "outputs": [
    {
     "name": "stdout",
     "output_type": "stream",
     "text": [
      "Task 1-b: Number of rows: 4463 number of columns 17\n"
     ]
    }
   ],
   "source": [
    "\n",
    "# 1 points\n",
    "#Task 1-b: Find the number of rows and columns in the df_data data frame.\n",
    "print (\"Task 1-b: Number of rows:\",len(df_data),\"number of columns\",len(df_data.columns))\n"
   ]
  },
  {
   "cell_type": "code",
   "execution_count": null,
   "id": "39ceaf7d",
   "metadata": {},
   "outputs": [
    {
     "name": "stdout",
     "output_type": "stream",
     "text": [
      "Task 1-c: Descriptive details of 'educational-num' column are\n",
      "\n",
      "       Temp Humidity Index     Outside Temperature    WindChill  \\\n",
      "count             4463.000000          4463.000000  4463.000000   \n",
      "mean                13.571701            13.584988    13.372955   \n",
      "std                  3.253097             3.280689     3.311255   \n",
      "min                  6.400000             6.400000     3.800000   \n",
      "25%                 10.700000            10.700000    10.600000   \n",
      "50%                 13.600000            13.600000    13.400000   \n",
      "75%                 15.800000            15.800000    15.600000   \n",
      "max                 23.300000            23.200000    23.200000   \n",
      "\n",
      "       Hi Temperature  Low Temperature  Outside Humidity     DewPoint  \\\n",
      "count     4463.000000      4463.000000       4463.000000  4463.000000   \n",
      "mean        13.666502        13.503652         75.815595     9.174501   \n",
      "std          3.289350         3.272413         12.536091     2.488161   \n",
      "min          6.500000         6.300000         43.000000     0.800000   \n",
      "25%         10.800000        10.600000         67.000000     7.300000   \n",
      "50%         13.600000        13.500000         77.000000     8.900000   \n",
      "75%         15.900000        15.700000         86.000000    10.900000   \n",
      "max         23.200000        23.100000        100.000000    16.600000   \n",
      "\n",
      "         WindSpeed           Hi         Rain    Barometer  \\\n",
      "count  4463.000000  4463.000000  4463.000000  4463.000000   \n",
      "mean      2.107999     6.225857     0.006498  1007.370199   \n",
      "std       1.987745     4.237364     0.051537     8.868156   \n",
      "min       0.000000     0.000000     0.000000   980.600000   \n",
      "25%       1.000000     3.000000     0.000000  1003.950000   \n",
      "50%       2.000000     6.000000     0.000000  1008.800000   \n",
      "75%       3.000000     9.000000     0.000000  1014.500000   \n",
      "max      12.000000    34.000000     1.400000  1018.700000   \n",
      "\n",
      "       Inside  Temperature  Inside  Humidity  ArchivePeriod  \n",
      "count          4463.000000       4463.000000         4463.0  \n",
      "mean             21.916334         46.017029           10.0  \n",
      "std               1.390899          3.548180            0.0  \n",
      "min              17.900000         35.000000           10.0  \n",
      "25%              20.800000         44.000000           10.0  \n",
      "50%              21.900000         46.000000           10.0  \n",
      "75%              22.900000         48.000000           10.0  \n",
      "max              25.300000         61.000000           10.0  \n"
     ]
    }
   ],
   "source": [
    "# 1 points\n",
    "#Task 1-c: Print the descriptive detail (count, unique, top, freq etc) for 'educational-num' column of the df_data \n",
    "print (\"Task 1-c: Descriptive details of 'educational-num' column are\\n\")\n",
    "print (df_data.describe())"
   ]
  },
  {
   "cell_type": "code",
   "execution_count": null,
   "id": "eec9c3b5",
   "metadata": {},
   "outputs": [
    {
     "name": "stdout",
     "output_type": "stream",
     "text": [
      "          0       Date\n",
      "0      9.40 2006-05-31\n",
      "1     10.05 2006-05-31\n",
      "2     10.70 2006-05-31\n",
      "3     11.10 2006-05-31\n",
      "4     11.45 2006-05-31\n",
      "...     ...        ...\n",
      "4458  14.60 2006-07-01\n",
      "4459  14.80 2006-07-01\n",
      "4460  15.30 2006-07-01\n",
      "4461  15.60 2006-07-01\n",
      "4462  16.00 2006-07-01\n",
      "\n",
      "[4463 rows x 2 columns]\n",
      "Task 1-d: The average temp for each day:\n",
      "                    0\n",
      "Date                 \n",
      "2006-05-31  11.954444\n",
      "2006-06-01  12.514931\n",
      "2006-06-02  12.963542\n",
      "2006-06-03  12.836806\n",
      "2006-06-04  12.006944\n",
      "2006-06-05  12.186111\n",
      "2006-06-06  16.305556\n",
      "2006-06-07  14.219097\n",
      "2006-06-08  15.317014\n",
      "2006-06-09  12.753472\n",
      "2006-06-10  13.592361\n",
      "2006-06-11  16.881944\n",
      "2006-06-12  15.031944\n",
      "2006-06-13  13.838889\n",
      "2006-06-14  12.812153\n",
      "2006-06-15  15.223264\n",
      "2006-06-16  15.127778\n",
      "2006-06-17  15.548611\n",
      "2006-06-18  14.272222\n",
      "2006-06-19  13.455903\n",
      "2006-06-20  11.599306\n",
      "2006-06-21  10.244097\n",
      "2006-06-22  12.645486\n",
      "2006-06-23  12.532639\n",
      "2006-06-24  12.903846\n",
      "2006-06-25  11.951389\n",
      "2006-06-26  11.690278\n",
      "2006-06-27  13.687500\n",
      "2006-06-28  14.739583\n",
      "2006-06-29  15.716667\n",
      "2006-06-30  14.709722\n",
      "2006-07-01  11.605556\n"
     ]
    }
   ],
   "source": [
    "# 1 points\n",
    "#Task 1-d: Print the average temp for each day\n",
    "df1 = (df_data[\"Hi Temperature\"]+df_data[\"Low Temperature\"])/2\n",
    "df2= (df_data[\"Date\"])\n",
    "frames = [df1, df2]\n",
    "result = pd.concat(frames, axis=1, join='inner')\n",
    "print(result)\n",
    "result1=result.groupby(['Date']).mean()\n",
    "\n",
    "print(\"Task 1-d: The average temp for each day:\")\n",
    "print(result1)"
   ]
  },
  {
   "cell_type": "code",
   "execution_count": null,
   "id": "12b0e0d0",
   "metadata": {},
   "outputs": [
    {
     "name": "stdout",
     "output_type": "stream",
     "text": [
      "Task 1-e: The average temp for each Week:\n",
      "              0  week\n",
      "week                 \n",
      "22    12.495946  22.0\n",
      "23    14.465079  23.0\n",
      "24    14.550694  24.0\n",
      "25    12.189672  25.0\n",
      "26    13.934109  26.0\n"
     ]
    }
   ],
   "source": [
    "# 1 points\n",
    "#Task 1-e: Print the average temp for each week\n",
    "df_data['Date'] = pd.to_datetime(df_data['Date'])\n",
    "df_data['week'] = df_data['Date'].dt.isocalendar().week\n",
    "df3 = (df_data[\"Hi Temperature\"]+df_data[\"Low Temperature\"])/2\n",
    "df4 = (df_data[\"week\"])\n",
    "frames = [df3, df4]\n",
    "result2 = pd.concat(frames, axis=1, join='inner')\n",
    "result3=result2.groupby(df_data['week']).mean()\n",
    "print(\"Task 1-e: The average temp for each Week:\")\n",
    "print(result3)"
   ]
  },
  {
   "cell_type": "code",
   "execution_count": null,
   "id": "b01855f5",
   "metadata": {},
   "outputs": [
    {
     "name": "stdout",
     "output_type": "stream",
     "text": [
      "Task 1-f: Maximum temperature difference each day for all the days of the months:\n",
      "Date\n",
      "5    0.7\n",
      "6    1.0\n",
      "7    0.2\n",
      "Name: Temp Differ, dtype: float64\n"
     ]
    }
   ],
   "source": [
    "# 1 points\n",
    "#Task 1-f: What is the maximum temperature difference each day for all the days of the months?\n",
    "df_data['Temp Differ'] = (df_data[\"Hi Temperature\"] - df_data[\"Low Temperature\"])\n",
    "# print(df_data['Temp Differ'])\n",
    "dfM = df_data['Temp Differ'].groupby(pd.DatetimeIndex(df_data['Date']).month).max()\n",
    "print(\"Task 1-f: Maximum temperature difference each day for all the days of the months:\")\n",
    "print(dfM)"
   ]
  },
  {
   "cell_type": "code",
   "execution_count": null,
   "id": "46d34a63",
   "metadata": {},
   "outputs": [
    {
     "name": "stdout",
     "output_type": "stream",
     "text": [
      "Task 1-h: Minium temperature difference each day for all the days of the months:\n",
      "Date\n",
      "5    0.1\n",
      "6    0.0\n",
      "7    0.2\n",
      "Name: Temp Differ, dtype: float64\n"
     ]
    }
   ],
   "source": [
    "# 1 points\n",
    "#Task 1-h: What is the minium temperature difference each day for all the days of the months?\n",
    "dfMmin = df_data['Temp Differ'].groupby(pd.DatetimeIndex(df_data['Date']).month).min()\n",
    "print(\"Task 1-h: Minium temperature difference each day for all the days of the months:\")\n",
    "print(dfMmin)"
   ]
  },
  {
   "cell_type": "code",
   "execution_count": null,
   "id": "84f6c0fb",
   "metadata": {},
   "outputs": [
    {
     "name": "stdout",
     "output_type": "stream",
     "text": [
      "Task 1-i: The unique values for each column are:\n",
      "['2006-05-31T00:00:00.000000000' '2006-06-01T00:00:00.000000000'\n",
      " '2006-06-02T00:00:00.000000000' '2006-06-03T00:00:00.000000000'\n",
      " '2006-06-04T00:00:00.000000000' '2006-06-05T00:00:00.000000000'\n",
      " '2006-06-06T00:00:00.000000000' '2006-06-07T00:00:00.000000000'\n",
      " '2006-06-08T00:00:00.000000000' '2006-06-09T00:00:00.000000000'\n",
      " '2006-06-10T00:00:00.000000000' '2006-06-11T00:00:00.000000000'\n",
      " '2006-06-12T00:00:00.000000000' '2006-06-13T00:00:00.000000000'\n",
      " '2006-06-14T00:00:00.000000000' '2006-06-15T00:00:00.000000000'\n",
      " '2006-06-16T00:00:00.000000000' '2006-06-17T00:00:00.000000000'\n",
      " '2006-06-18T00:00:00.000000000' '2006-06-19T00:00:00.000000000'\n",
      " '2006-06-20T00:00:00.000000000' '2006-06-21T00:00:00.000000000'\n",
      " '2006-06-22T00:00:00.000000000' '2006-06-23T00:00:00.000000000'\n",
      " '2006-06-24T00:00:00.000000000' '2006-06-25T00:00:00.000000000'\n",
      " '2006-06-26T00:00:00.000000000' '2006-06-27T00:00:00.000000000'\n",
      " '2006-06-28T00:00:00.000000000' '2006-06-29T00:00:00.000000000'\n",
      " '2006-06-30T00:00:00.000000000' '2006-07-01T00:00:00.000000000']\n",
      "['09:00' '09:10' '09:20' '09:30' '09:40' '09:50' '10:00' '10:10' '10:20'\n",
      " '10:30' '10:40' '10:50' '11:00' '11:10' '11:20' '11:30' '11:40' '11:50'\n",
      " '12:00' '12:10' '12:20' '12:30' '12:40' '12:50' '13:00' '13:10' '13:20'\n",
      " '13:30' '13:40' '13:50' '14:00' '14:10' '14:20' '14:30' '14:40' '14:50'\n",
      " '15:00' '15:10' '15:20' '15:30' '15:40' '15:50' '16:00' '16:10' '16:20'\n",
      " '16:30' '16:40' '16:50' '17:00' '17:10' '17:20' '17:30' '17:40' '17:50'\n",
      " '18:00' '18:10' '18:20' '18:30' '18:40' '18:50' '19:00' '19:10' '19:20'\n",
      " '19:30' '19:40' '19:50' '20:00' '20:10' '20:20' '20:30' '20:40' '20:50'\n",
      " '21:00' '21:10' '21:20' '21:30' '21:40' '21:50' '22:00' '22:10' '22:20'\n",
      " '22:30' '22:40' '22:50' '23:00' '23:10' '23:20' '23:30' '23:40' '23:50'\n",
      " '00:00' '00:10' '00:20' '00:30' '00:40' '00:50' '01:00' '01:10' '01:20'\n",
      " '01:30' '01:40' '01:50' '02:00' '02:10' '02:20' '02:30' '02:40' '02:50'\n",
      " '03:00' '03:10' '03:20' '03:30' '03:40' '03:50' '04:00' '04:10' '04:20'\n",
      " '04:30' '04:40' '04:50' '05:00' '05:10' '05:20' '05:30' '05:40' '05:50'\n",
      " '06:00' '06:10' '06:20' '06:30' '06:40' '06:50' '07:00' '07:10' '07:20'\n",
      " '07:30' '07:40' '07:50' '08:00' '08:10' '08:20' '08:30' '08:40' '08:50']\n",
      "[ 9.3 10.1 10.7 11.2 11.4 11.8 12.2 12.8 13.3 13.7 13.8 13.6 13.2 13.1\n",
      " 13.4 13.9 14.1 14.3 14.6 14.9 15.1 15.4 15.5 15.2 14.8 14.5 14.7 14.\n",
      " 12.9 13.  12.4 11.1 10.9 10.5 10.2 10.   9.8  9.6  9.4  9.2  9.   8.8\n",
      "  8.7  8.6  8.5  8.4  9.5  9.7  9.9 10.3 10.4 10.6 11.3 11.5 11.6 12.1\n",
      " 12.3 12.5 12.7 14.2 14.4 15.6 15.9 16.  16.3 16.6 16.1 16.7 17.1 17.2\n",
      " 17.  16.8 16.2 15.8 15.7 15.3 15.  12.6 11.  10.8  8.9  8.3  8.2  9.1\n",
      " 13.5 16.4 16.9 17.5 17.7 17.6 17.4 17.3 16.5  8.1  7.9  7.8  7.7  7.6\n",
      "  7.4  7.3  7.2  7.5 11.9 18.  18.3 18.1 17.8 17.9 18.4 18.6 18.8 19.1\n",
      " 19.3 19.5 19.6 19.4 19.2 19.  18.9 18.7 11.7  8.  12.  19.8 19.9 20.\n",
      " 20.6 21.1 21.7 22.2 22.8 23.3 21.9 21.8 20.9 20.8 20.7 20.1 20.3 19.7\n",
      " 18.2 20.4 20.2 18.5 21.   7.1  6.9  6.7  6.6  6.4  6.5]\n",
      "[ 9.3 10.1 10.7 11.2 11.4 11.8 12.2 12.8 13.3 13.7 13.8 13.6 13.2 13.1\n",
      " 13.4 13.9 14.1 14.3 14.6 14.9 15.1 15.4 15.5 15.2 14.8 14.5 14.7 14.\n",
      " 12.9 13.  12.4 11.1 10.9 10.5 10.2 10.   9.8  9.6  9.4  9.2  9.   8.8\n",
      "  8.7  8.6  8.5  8.4  9.5  9.7  9.9 10.3 10.4 10.6 11.3 11.5 11.6 12.1\n",
      " 12.3 12.5 12.7 14.2 14.4 15.6 15.9 16.  16.3 16.6 16.1 16.7 17.1 17.2\n",
      " 17.  16.8 16.2 15.8 15.7 15.3 15.  12.6 11.  10.8  8.9  8.3  8.2  9.1\n",
      " 13.5 16.4 16.9 17.5 17.7 17.6 17.4 17.3 16.5  8.1  7.9  7.8  7.7  7.6\n",
      "  7.4  7.3  7.2  7.5 11.9 18.  18.3 18.1 17.8 17.9 18.4 18.6 18.8 19.1\n",
      " 19.3 19.5 19.6 19.4 19.2 19.  18.9 18.7 11.7  8.  12.  19.8 19.9 20.\n",
      " 20.1 20.2 20.3 20.4 20.6 20.8 20.9 21.1 21.3 21.5 21.7 21.9 22.2 22.6\n",
      " 22.7 22.9 23.  23.1 23.2 22.8 22.4 22.3 22.1 21.8 21.6 20.7 18.2 19.7\n",
      " 20.5 18.5 21.  21.2 21.4 22.   7.1  6.9  6.7  6.6  6.4  6.5]\n",
      "[ 9.3 10.1 10.7 11.2 11.4 11.8 12.2 12.8 13.3 13.7 13.8 13.6 13.2 13.1\n",
      " 13.4 13.9 14.1 14.3 14.6 14.9 15.1 15.4 15.5 15.2 14.8 14.5 14.7 14.\n",
      " 12.9 13.  12.4 11.1 10.9 10.5 10.2 10.   9.8  9.6  9.4  9.2  9.   8.8\n",
      "  8.7  8.6  8.5  8.4  9.5  9.7  9.9 10.3 10.4 10.6 11.3 11.5 11.6 12.1\n",
      " 12.3 12.5 12.7 14.2 14.4 15.6 15.9 16.  16.3 16.6 16.1 15.8 17.1 17.2\n",
      " 17.  16.8 16.2 15.7 15.3 15.  12.6 11.  10.8  8.9  8.3  8.2  9.1 13.5\n",
      " 16.4 16.7 16.9 17.5 17.7 17.6 17.4 17.3 16.5  8.1  7.9  7.8  7.7  7.6\n",
      "  7.4  7.3  7.2  7.5 11.9 18.  18.3 18.1 17.8 17.9 18.4 18.6 18.8 19.1\n",
      " 19.3 19.5 19.6 19.4 19.2 19.  18.9 18.7 11.7  8.  12.  19.8 19.9 20.\n",
      " 20.1 20.2 20.3 20.4 20.6 20.8 20.9 21.1 21.3 21.5 21.7 21.9 22.2 22.6\n",
      " 22.7 22.9 23.  23.1 23.2 22.8 22.4 22.3 22.1 21.8 21.6 20.7 18.2 19.7\n",
      " 20.5 18.5 21.  21.2 21.4 22.   6.4  6.6  7.   6.9  5.2  6.1  6.2  7.1\n",
      "  5.9  6.8  4.8  4.7  3.8  5.1  6.7  6.5]\n",
      "[ 9.7 10.4 11.  11.3 11.6 11.9 12.4 13.1 13.5 13.7 13.8 13.4 13.2 13.3\n",
      " 13.6 14.  14.2 14.5 14.8 15.  15.3 15.5 15.6 14.9 14.7 14.6 15.1 14.1\n",
      " 13.9 12.8 12.9 12.6 12.2 10.9 10.8 10.6 10.3 10.1  9.9  9.5  9.4  9.3\n",
      "  9.1  8.9  8.8  8.7  8.6  8.5  9.2  9.6  9.8 10.  10.2 10.5 10.7 11.2\n",
      " 11.4 11.7 12.  13.  14.3 14.4 15.7 16.  16.1 16.5 16.7 16.2 16.3 16.9\n",
      " 17.2 17.1 16.8 16.4 15.9 15.8 15.4 15.2 12.7 11.1  8.4  8.3  8.2  9.\n",
      " 16.6 17.3 17.6 17.7 17.5 17.4 17.  11.5  8.1  8.   7.9  7.8  7.7  7.6\n",
      "  7.5  7.4  7.3  7.2 12.1 12.3 12.5 17.8 18.2 18.3 17.9 18.  18.6 18.7\n",
      " 18.9 19.3 19.4 19.6 19.7 19.5 19.2 19.  18.8 18.5 11.8 19.8 20.  20.1\n",
      " 20.2 20.3 20.4 20.5 20.7 20.9 21.  21.2 21.4 21.6 21.8 22.1 22.4 22.7\n",
      " 22.8 23.  23.1 23.2 22.9 22.6 22.5 22.3 22.2 22.  21.7 21.9 21.1 20.8\n",
      " 18.4 19.1 18.1 20.6 19.9 21.3  7.   6.8  6.7  6.5  6.6 21.5]\n",
      "[ 9.1  9.7 10.4 10.9 11.3 11.6 12.  12.4 13.1 13.5 13.7 13.4 13.  13.2\n",
      " 13.3 13.6 13.8 13.9 14.2 14.5 14.8 15.  15.3 15.5 14.9 14.7 14.6 14.1\n",
      " 12.8 12.7 12.9 12.6 12.2 11.2 10.8 10.6 10.3 10.1  9.9  9.5  9.4  9.2\n",
      "  8.9  8.8  8.7  8.6  8.5  8.4  9.6  9.8 10.  10.2 10.5 11.4 11.7 14.3\n",
      " 14.4 15.2 15.7 15.9 16.1 16.5 16.2 16.  16.3 16.9 17.1 16.8 16.7 16.4\n",
      " 15.8 15.6 15.4 15.1 11.9 11.1 10.7  8.3  8.2  9.   9.3 16.6 17.2 17.3\n",
      " 17.6 17.5 17.4 17.  11.5 11.   8.1  8.   7.9  7.8  7.7  7.6  7.4  7.3\n",
      "  7.2  7.1 12.1 12.3 12.5 17.8 18.2 18.  18.6 18.7 18.9 19.2 19.4 19.6\n",
      " 19.5 19.3 19.  18.8 18.5 18.3 11.8  7.5 17.7 17.9 14.  18.4 19.7 19.8\n",
      " 20.  20.1 20.3 20.5 20.7 20.9 21.  21.2 21.4 21.6 21.8 22.1 22.4 22.7\n",
      " 22.8 22.9 23.  23.1 22.6 22.5 22.3 22.2 22.  21.7 21.1 20.8 20.2 19.1\n",
      " 18.1 20.4 20.6 19.9 21.3 21.9  7.   6.8  6.6  6.5  6.3  6.4]\n",
      "[ 55  53  52  51  50  49  48  47  43  46  54  56  57  58  59  60  61  63\n",
      "  64  65  66  67  68  69  70  71  73  74  76  79  80  81  82  83  84  85\n",
      "  86  87  88  89  78  75  72  62  77  90  45  91  92  97  98  99  94 100\n",
      "  96  95]\n",
      "[ 0.8  0.9  1.3  1.7  2.1  2.4  2.6  2.9  3.1  3.2  3.3  2.7  2.8  3.4\n",
      "  3.5  3.7  4.2  3.9  4.   4.6  3.   3.6  3.8  5.2  4.8  4.9  4.4  4.7\n",
      "  5.4  5.   4.3  4.1  5.6  5.8  6.2  6.4  6.6  6.8  6.9  7.1  7.3  7.4\n",
      "  7.6  7.8  7.9  8.1  8.2  8.3  8.4  8.5  8.6  8.7  7.7  7.5  8.8  9.1\n",
      "  8.9  9.   8.   7.2  6.7  6.5  6.3  6.   5.9  5.7  5.5  5.3  6.1  7.\n",
      "  9.3  9.4  9.2  5.1  9.5  9.8 10.  10.1 10.2 10.4 10.5 10.7 11.1 10.9\n",
      " 10.6 10.8 11.2 11.  11.6 11.4 11.5 11.3 10.3  4.5  9.6  9.7  9.9 11.9\n",
      " 12.2 12.4 12.3 12.6 12.7 12.8 12.9 13.1 13.3 13.5 13.7 13.6 14.  14.2\n",
      " 14.1 14.3 14.4 13.4 13.2 12.1 11.8 11.7 12.  12.5 13.  13.9 14.5 13.8\n",
      " 14.6 14.8 15.1 15.3 15.6 15.5 15.4 15.8 15.  14.7 14.9 15.2 16.2 16.3\n",
      " 16.5 16.6 16.4 15.7]\n",
      "[ 1  2  3  4  0  5  6  7  9  8 10 12 11]\n",
      "[ 7  5  3  6  4  8 10 11  9  2  0  1 12 15 14 17 13 18 20 16 24 19 21 28\n",
      " 27 25 34 26 23 22]\n",
      "['NNW' 'NE' 'E' 'S' 'SE' 'WNW' 'SSW' 'SW' 'W' 'NNE' 'N' 'WSW' 'ESE' 'NW'\n",
      " 'ENE' '---' 'SSE']\n",
      "[0.  0.2 0.4 1.  0.6 0.8 1.4]\n",
      "[1015.4 1015.3 1015.2 1015.1 1015.  1014.9 1014.8 1014.7 1014.6 1014.4\n",
      " 1014.5 1014.3 1014.2 1014.1 1013.9 1014.  1013.8 1013.6 1013.5 1013.7\n",
      " 1013.4 1013.2 1013.3 1015.5 1015.6 1015.7 1015.9 1016.  1016.2 1016.4\n",
      " 1016.5 1016.7 1016.8 1016.6 1016.9 1016.3 1017.  1017.1 1017.2 1017.3\n",
      " 1017.4 1017.5 1017.7 1017.8 1017.9 1018.1 1018.3 1018.5 1018.4 1018.2\n",
      " 1018.  1018.7 1018.6 1017.6 1016.1 1015.8 1013.1 1012.9 1012.8 1012.6\n",
      " 1012.4 1012.3 1012.1 1012.  1011.9 1011.8 1011.7 1011.6 1011.5 1011.4\n",
      " 1011.3 1011.  1010.9 1010.8 1011.1 1011.2 1010.7 1010.6 1010.5 1010.4\n",
      " 1010.3 1010.2 1010.1 1010.  1009.9 1009.8 1009.7 1009.6 1009.4 1009.3\n",
      " 1009.2 1009.1 1009.  1008.8 1008.9 1008.7 1008.4 1008.5 1008.2 1008.1\n",
      " 1007.9 1007.8 1007.6 1007.5 1007.4 1007.2 1007.  1006.9 1006.8 1006.5\n",
      " 1006.6 1006.4 1006.2 1006.1 1006.  1005.9 1005.8 1005.6 1005.7 1006.3\n",
      " 1006.7 1007.3 1007.1 1007.7 1008.  1008.3 1008.6 1005.5 1005.4 1005.3\n",
      " 1005.2 1005.1 1004.9 1004.7 1004.6 1004.5 1004.4 1004.3 1004.1 1003.9\n",
      " 1003.7 1003.4 1003.3 1003.2 1003.5 1003.1 1002.8 1003.  1002.7 1002.6\n",
      " 1002.5 1002.4 1002.2 1002.3 1002.9 1003.6 1003.8 1004.  1004.2 1004.8\n",
      " 1005.  1009.5 1012.2 1012.5 1013.  1012.7 1002.1 1002.  1001.9 1001.8\n",
      " 1001.7 1001.6 1001.5 1001.4 1001.3 1001.2 1000.9 1001.  1000.7 1000.8\n",
      " 1000.6 1000.5 1000.4 1000.3 1000.2 1000.   999.9  999.7  999.5  999.4\n",
      "  999.3  999.1  999.   998.9  998.7  998.8  998.6  998.5  998.4  998.3\n",
      "  998.2  998.1  998.   997.9  997.8  997.7  997.6  997.5  997.4  997.3\n",
      "  997.2  997.   996.8  996.9  996.6  996.4  996.3  996.2  996.   995.9\n",
      "  995.8  995.7  995.6  995.5  995.4  995.2  995.1  995.   994.8  994.7\n",
      "  994.5  994.4  994.2  993.9  993.8  993.7  993.6  993.5  993.4  993.2\n",
      "  993.1  992.9  993.   992.8  992.7  992.6  992.5  992.4  992.3  992.2\n",
      "  992.1  992.   991.9  991.7  991.5  991.3  991.   990.9  990.8  990.6\n",
      "  990.5  990.4  990.3  990.1  989.9  989.7  989.6  989.5  989.4  989.1\n",
      "  989.   988.9  988.8  988.7  988.6  988.5  988.4  988.3  989.3  990.\n",
      "  990.7  991.1  991.2  991.4  991.6  991.8  993.3  994.   994.3  994.6\n",
      "  994.9  996.5  996.7  997.1  996.1  995.3  994.1  988.   987.6  987.4\n",
      "  987.1  986.8  986.5  986.   985.8  985.4  985.3  984.9  984.5  984.2\n",
      "  984.1  983.8  983.6  983.3  983.   982.8  982.7  983.2  983.4  983.7\n",
      "  983.5  983.9  984.   984.3  984.4  984.6  982.9  983.1  982.6  982.5\n",
      "  982.1  982.   981.9  981.5  981.2  981.3  981.   981.1  980.9  980.8\n",
      "  980.7  980.6  981.4  982.3  982.4  984.7  984.8  985.   985.1  985.2\n",
      "  985.5  985.7  986.2  986.3  986.4  986.6  986.7  986.9  987.2  987.3\n",
      "  987.5  987.9  988.1  988.2  989.8  999.2  999.6  999.8 1001.1]\n",
      "[21.7 21.9 22.1 22.2 22.3 22.4 22.5 22.6 22.7 23.  23.2 23.4 23.5 23.6\n",
      " 23.7 23.8 23.9 24.  23.3 22.9 22.8 23.1 22.  21.8 21.6 21.5 21.4 21.3\n",
      " 21.2 21.1 21.  20.9 20.8 20.7 20.6 20.5 20.4 20.3 24.1 24.3 24.6 24.7\n",
      " 24.8 24.9 25.1 24.5 24.4 24.2 25.  25.2 25.3 20.1 20.  19.9 19.7 19.6\n",
      " 19.8 20.2 19.4 19.3 19.1 18.9 18.7 19.2 19.  18.8 18.5 18.6 18.4 18.3\n",
      " 18.2 18.1 18.  17.9 19.5]\n",
      "[38 39 37 36 35 40 41 42 43 44 46 45 47 48 49 50 51 53 54 55 52 56 58 57\n",
      " 59 60 61]\n",
      "[10]\n",
      "<IntegerArray>\n",
      "[22, 23, 24, 25, 26]\n",
      "Length: 5, dtype: UInt32\n",
      "[0.6 0.7 0.4 0.3 0.3 0.7 0.2 0.1 0.1 0.2 0.5 0.4 0.  0.6 0.1 0.4 0.2 0.1\n",
      " 0.3 1.  0.9 0.6 0.9 0.2 0.8 0.8 0.3 0.7 0.5 0.4 0.6]\n"
     ]
    }
   ],
   "source": [
    "\n",
    "#Task 1-i: Display all the unique values for each column.\n",
    "print(\"Task 1-i: The unique values for each column are:\")\n",
    "for col in df_data:\n",
    "    print(df_data[col].unique())"
   ]
  },
  {
   "cell_type": "markdown",
   "id": "78b9c9ab",
   "metadata": {},
   "source": [
    "# Task 2: Aggregation & Filtering & Rank\n",
    "In this task, we will perform some very high level aggregation and filtering operations. \n",
    "Then, we will apply ranking on the results for some tasks. \n",
    "Pandas has a convenient and powerful syntax for aggregation, filtering, and ranking. \n",
    "DO NOT write a for loop. Pandas has built-in functions for all tasks. "
   ]
  },
  {
   "cell_type": "code",
   "execution_count": 13,
   "id": "179ab741",
   "metadata": {},
   "outputs": [
    {
     "ename": "NameError",
     "evalue": "name 'df_data' is not defined",
     "output_type": "error",
     "traceback": [
      "\u001b[0;31m---------------------------------------------------------------------------\u001b[0m",
      "\u001b[0;31mNameError\u001b[0m                                 Traceback (most recent call last)",
      "Input \u001b[0;32mIn [13]\u001b[0m, in \u001b[0;36m<module>\u001b[0;34m\u001b[0m\n\u001b[1;32m      1\u001b[0m \u001b[38;5;66;03m# Task 2-A: Generate a Outside_Temperature.txt file containing the answers to the following questions: \u001b[39;00m\n\u001b[1;32m      2\u001b[0m \u001b[38;5;66;03m# Using the “Outside Temperature” values: \u001b[39;00m\n\u001b[1;32m      3\u001b[0m \u001b[38;5;66;03m# a. What is the average time of hottest daily temperature (over month);\u001b[39;00m\n\u001b[0;32m----> 4\u001b[0m \u001b[38;5;28mprint\u001b[39m(\u001b[43mdf_data\u001b[49m\u001b[38;5;241m.\u001b[39mgroupby([pd\u001b[38;5;241m.\u001b[39mDatetimeIndex(df_data[\u001b[38;5;124m'\u001b[39m\u001b[38;5;124mDate\u001b[39m\u001b[38;5;124m'\u001b[39m])\u001b[38;5;241m.\u001b[39mmonth, \u001b[38;5;124m'\u001b[39m\u001b[38;5;124mTime\u001b[39m\u001b[38;5;124m'\u001b[39m])\u001b[38;5;241m.\u001b[39mmean()\u001b[38;5;241m.\u001b[39mreset_index()\u001b[38;5;241m.\u001b[39mgroupby(\u001b[38;5;124m'\u001b[39m\u001b[38;5;124mDate\u001b[39m\u001b[38;5;124m'\u001b[39m)\u001b[38;5;241m.\u001b[39mmax()[[\u001b[38;5;124m'\u001b[39m\u001b[38;5;124mTime\u001b[39m\u001b[38;5;124m'\u001b[39m,\u001b[38;5;124m'\u001b[39m\u001b[38;5;124mOutside Temperature\u001b[39m\u001b[38;5;124m'\u001b[39m]])\n",
      "\u001b[0;31mNameError\u001b[0m: name 'df_data' is not defined"
     ]
    }
   ],
   "source": [
    "# Task 2-A: Generate a Outside_Temperature.txt file containing the answers to the following questions: \n",
    "# Using the “Outside Temperature” values: \n",
    "# a. What is the average time of hottest daily temperature (over month);\n",
    "print(df_data.groupby([pd.DatetimeIndex(df_data['Date']).month, 'Time']).mean().reset_index().groupby('Date').max()[['Time','Outside Temperature']])"
   ]
  },
  {
   "cell_type": "code",
   "execution_count": null,
   "id": "0c94a460",
   "metadata": {},
   "outputs": [],
   "source": [
    "# b. What time of the day is the most commonly occurring hottest time;\n",
    "june=['01/06/2006','02/06/2006','03/06/2006','04/06/2006','05/06/2006','06/06/2006','07/06/2006','08/06/2006','09/06/2006']\n",
    "for ind in df_data.index:\n",
    "    i=df_data['Hi Temperature'][ind]\n",
    "    j=df_data['Low Temperature'][ind]\n",
    "    if((i>=21.3 and i<=23.3) or (j>=10.1 and j<=10.5)):\n",
    "        if(df_data['Date'][ind] in june):\n",
    "            print(df_data['Date'][ind], df_data['Time'][ind],i,j)"
   ]
  },
  {
   "cell_type": "code",
   "execution_count": null,
   "id": "ec1eee6d",
   "metadata": {},
   "outputs": [
    {
     "ename": "NameError",
     "evalue": "name 'df_data' is not defined",
     "output_type": "error",
     "traceback": [
      "\u001b[0;31m---------------------------------------------------------------------------\u001b[0m",
      "\u001b[0;31mNameError\u001b[0m                                 Traceback (most recent call last)",
      "Input \u001b[0;32mIn [3]\u001b[0m, in \u001b[0;36m<module>\u001b[0;34m\u001b[0m\n\u001b[1;32m      1\u001b[0m \u001b[38;5;66;03m# c. Which are the Top Ten hottest times on distinct days, preferably sorted by date order.\u001b[39;00m\n\u001b[0;32m----> 2\u001b[0m Top_Ten_hottest_times_on_distinct_days \u001b[38;5;241m=\u001b[39m \u001b[43mdf_data\u001b[49m\u001b[38;5;241m.\u001b[39msort_values(\u001b[38;5;124m\"\u001b[39m\u001b[38;5;124mOutside Temperature\u001b[39m\u001b[38;5;124m\"\u001b[39m)[\u001b[38;5;124m'\u001b[39m\u001b[38;5;124mTime\u001b[39m\u001b[38;5;124m'\u001b[39m]\u001b[38;5;241m.\u001b[39mhead(\u001b[38;5;241m10\u001b[39m)\n\u001b[1;32m      4\u001b[0m \u001b[38;5;28mprint\u001b[39m(\u001b[38;5;124m\"\u001b[39m\u001b[38;5;130;01m\\n\u001b[39;00m\u001b[38;5;124mTask 2-c: The Top Ten hottest times on distinct days, preferably sorted by date order:\u001b[39m\u001b[38;5;132;01m%s\u001b[39;00m\u001b[38;5;124m\"\u001b[39m \u001b[38;5;241m%\u001b[39m Top_Ten_hottest_times_on_distinct_days)\n",
      "\u001b[0;31mNameError\u001b[0m: name 'df_data' is not defined"
     ]
    }
   ],
   "source": [
    "\n",
    "# c. Which are the Top Ten hottest times on distinct days, preferably sorted by date order.\n",
    "Top_Ten_hottest_times_on_distinct_days = df_data.sort_values(\"Outside Temperature\")['Time'].head(10)\n",
    "\n",
    "print(\"\\nTask 2-c: The Top Ten hottest times on distinct days, preferably sorted by date order:%s\" % Top_Ten_hottest_times_on_distinct_days)\n"
   ]
  },
  {
   "cell_type": "code",
   "execution_count": null,
   "id": "9f75d8d8",
   "metadata": {},
   "outputs": [],
   "source": [
    "# 20 points\n",
    "#Task 2-B: Using the ‘Hi Temperature’ values produce a “Hi_Temperature.txt” file containing all of the Dates and Times\n",
    "# where the “Hi Temperature” was within +/- 1 degree of 22.3 or \n",
    "# the “Low Temperature” was within +/- 0.2 degree higher or lower of 10.3 over the first 9 days of June"
   ]
  },
  {
   "cell_type": "markdown",
   "id": "76111f95",
   "metadata": {},
   "source": [
    "# Task 3: Visualization\n",
    "In this task, you will perform a number of visualization tasks to get some intuition about the data. Visualization is a key component of exploration. You can choose to use either Matplotlib or Seaborn for plotting. The default figures generated from Matplotlib might look a bit ugly. So you might want to try Seaborn to get better figures. Seaborn has a variety of styles. Feel free to experiment with them and choose the one you like. We have earmarked 10 points for the aesthetics of your visualizations."
   ]
  },
  {
   "cell_type": "code",
   "execution_count": null,
   "id": "c6b5fd59",
   "metadata": {},
   "outputs": [
    {
     "name": "stdout",
     "output_type": "stream",
     "text": [
      "       month  Outside Temperature\n",
      "month                            \n",
      "5        5.0            11.950000\n",
      "6        6.0            13.643806\n",
      "7        7.0            11.605556\n"
     ]
    },
    {
     "data": {
      "text/plain": [
       "<AxesSubplot:xlabel='month'>"
      ]
     },
     "execution_count": 89,
     "metadata": {},
     "output_type": "execute_result"
    },
    {
     "data": {
      "image/png": "[encoded data removed]",
      "text/plain": [
       "<Figure size 432x288 with 1 Axes>"
      ]
     },
     "metadata": {},
     "output_type": "display_data"
    }
   ],
   "source": [
    "sns.set_style('whitegrid')\n",
    "sns.set(font_scale = 1.3)\n",
    "\n",
    "# 5 points\n",
    "# Task 3-a: Visulalize the temperature for each month\n",
    "df_data['month'] = pd.DatetimeIndex(df_data['Date']).month\n",
    "dfM = df_data['month']\n",
    "dfm = df_data['Outside Temperature']\n",
    "frames = [dfM,dfm]\n",
    "resultM = pd.concat(frames,axis=1,join = 'inner')\n",
    "resultm = resultM.groupby(df_data['month']).mean()\n",
    "print(resultm)\n",
    "resultm.plot(x='month',y='Outside Temperature')"
   ]
  },
  {
   "cell_type": "code",
   "execution_count": null,
   "id": "409aed3a",
   "metadata": {},
   "outputs": [],
   "source": [
    "\n",
    "# 15 points\n",
    "# Task 3-b: Display the time period on a bar plot which has highest temperature for the first 5 days of every month\n",
    "# provide detailed explaination \n",
    "#########################begin code for Task 3-b \n",
    "\n",
    "\n",
    "#########################end code for Task 3-b"
   ]
  },
  {
   "cell_type": "markdown",
   "id": "457b00e5",
   "metadata": {},
   "source": [
    "# Task 4: \n",
    "Find out an 'interesting' information from the dataset. Create two visualization for it and explain in a 4 to 5 lines your valid reasoning. Do not copy paste from another team member.\n",
    "This task is worth 20 points. Your result will be judged based on the uniqueness and quality of your work (having a meaningful result and an aesthetic visualization). "
   ]
  },
  {
   "cell_type": "code",
   "execution_count": null,
   "id": "40409fcf",
   "metadata": {},
   "outputs": [
    {
     "data": {
      "text/plain": [
       "[<matplotlib.lines.Line2D at 0x16413eec0>]"
      ]
     },
     "execution_count": 91,
     "metadata": {},
     "output_type": "execute_result"
    },
    {
     "data": {
      "image/png": "[encoded data removed]",
      "text/plain": [
       "<Figure size 1600x1000 with 1 Axes>"
      ]
     },
     "metadata": {},
     "output_type": "display_data"
    }
   ],
   "source": [
    "# plot the daily temeperature change\n",
    "plt. figure(figsize=(16,10), dpi=100)\n",
    "plt.plot (df_data['Date'], df_data['Outside Temperature'],color=\"red\")"
   ]
  },
  {
   "cell_type": "code",
   "execution_count": null,
   "id": "edc752ae",
   "metadata": {},
   "outputs": [
    {
     "data": {
      "text/plain": [
       "[<matplotlib.lines.Line2D at 0x1643a3040>]"
      ]
     },
     "execution_count": 92,
     "metadata": {},
     "output_type": "execute_result"
    },
    {
     "data": {
      "image/png": "[encoded data removed]",
      "text/plain": [
       "<Figure size 1600x1000 with 1 Axes>"
      ]
     },
     "metadata": {},
     "output_type": "display_data"
    }
   ],
   "source": [
    "\n",
    "plt. figure(figsize=(16,10), dpi=100)\n",
    "plt.plot (df_data['Date'], df_data['Inside  Humidity'], color = \"green\")"
   ]
  },
  {
   "cell_type": "markdown",
   "id": "0146a8e0",
   "metadata": {},
   "source": [
    "## Report for Python\n",
    "Report Explanation\n",
    "Create a report in a pdf file explaining the answer for task 2, 3 and 4<br>\n",
    "Note: the more detailed explanation the better"
   ]
  },
  {
   "cell_type": "markdown",
   "id": "4cc4e704",
   "metadata": {},
   "source": [
    "## Rubricks\n",
    "\n",
    "Task 1: 8 points<br>\n",
    "Task 2: 40 points<br>\n",
    "Task 3: 20 points<br>\n",
    "Task 4: 20 points<br>\n",
    "Report : 12 points<br>\n",
    "------------------------------------\n",
    "Total : 100 points<br>"
   ]
  }
 ],
 "metadata": {
  "kernelspec": {
   "display_name": "Python 3 (ipykernel)",
   "language": "python",
   "name": "python3"
  },
  "language_info": {
   "codemirror_mode": {
    "name": "ipython",
    "version": 3
   },
   "file_extension": ".py",
   "mimetype": "text/x-python",
   "name": "python",
   "nbconvert_exporter": "python",
   "pygments_lexer": "ipython3",
   "version": "3.10.2"
  }
 },
 "nbformat": 4,
 "nbformat_minor": 5
}
