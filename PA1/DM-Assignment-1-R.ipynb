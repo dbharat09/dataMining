{
 "cells": [
  {
   "cell_type": "markdown",
   "id": "ecc5c302",
   "metadata": {},
   "source": [
    "# Data Mining Assignment 1"
   ]
  },
  {
   "cell_type": "markdown",
   "id": "4e6ed629",
   "metadata": {},
   "source": [
    "## Student Details\n",
    "\n",
    "Student Name and ID of the member submitting the assignment: \n",
    "\n",
    "Student Name and ID of the remaining members: \n",
    "\n",
    "Notes:\n",
    "When submitting, fill your name and ID in this cell. Note that this is a markdown cell!<br>\n",
    "Do not make any changes in the dataset file and do not rename the 'database.csv'.\n",
    "<br> Rename your submission file to <b> 'yourLastName_Last4digitsofyourID_PA1.ipynb' </b>. \n",
    "<br> Do not to forget to cite any external sources used by you. \n",
    "**5 points per question will be deducted incase you fail to do so**\n",
    "<br>**DO NOT DELETE THIS CELL**<br>"
   ]
  },
  {
   "cell_type": "markdown",
   "id": "c7616a85",
   "metadata": {},
   "source": [
    "## Assignment Details\n",
    "\n",
    "In this assignment, you will conduct a guided exploration over the given dataset.\n",
    "\n",
    "You will prepare a **report** with the following outline for each one of the dataset. Look at the following Example.\n",
    "\n",
    "1.\tIntroduction\n",
    "\n",
    "2.\tRetrieving the Data\n",
    "\n",
    "3.\tGlimpse of Data\n",
    "\n",
    "4.\tCheck for missing data\n",
    "\n",
    "5.\tData Exploration\n",
    "\n",
    "\n",
    "You will learn and use some of the most common exploration/aggregation/descriptive operations. This should also help you learn most of the key functionalities in Python/Pandas, Weka and R. DO Task 1, Task 2, Task 3, Task 4 using Python/Pandas, Weka, R\n",
    " \n",
    "**Out of the 3 datasets listed below:**\n",
    "\n",
    "**1. Weather dataset should be solved using Python in Jupyter notebook only.**\n",
    "\n",
    "**2. Surgical dataset using WEKA**\n",
    "\n",
    "**3. Healthcare_stroke_dataset using R**\n",
    "\n",
    "\n",
    "You will also learn how to use visualization libraries to identify patterns in data that will help in your further data analysis. You will also explore most popular chart types and how to use different libraries and styles to make your visualizations more attractive.\n",
    "\n",
    "**Each code visualization and plotted needs to be explained in the 4 to 5 lines**"
   ]
  },
  {
   "cell_type": "markdown",
   "id": "0dfaa707",
   "metadata": {},
   "source": [
    "# Dataset Details\n",
    "\n",
    "In this assignment, you will work on health_stroke.csv\n",
    "The columns of the data-set are:\n",
    "\n",
    "* id\n",
    "* date\n",
    "* gender\n",
    "* age\n",
    "* hypertension\n",
    "* heart_disease\n",
    "* ever_married\n",
    "* work_type\n",
    "* Residence_type\n",
    "* avg_glucose_level\n",
    "* bmi\n",
    "* smoking_status\n",
    "* stroke"
   ]
  },
  {
   "cell_type": "code",
   "execution_count": null,
   "id": "3af3aacb",
   "metadata": {},
   "outputs": [],
   "source": [
    "# Import R packages"
   ]
  },
  {
   "cell_type": "code",
   "execution_count": null,
   "id": "dcdb07f1",
   "metadata": {},
   "outputs": [],
   "source": [
    "# Read the file"
   ]
  },
  {
   "cell_type": "code",
   "execution_count": null,
   "id": "fc2d7fce",
   "metadata": {},
   "outputs": [],
   "source": [
    "#return the first 5 rows of the dataset"
   ]
  },
  {
   "cell_type": "code",
   "execution_count": 1,
   "id": "da331c20",
   "metadata": {},
   "outputs": [],
   "source": [
    "#Data Pre-processing for R\n",
    "# Explain each step in detail with reason"
   ]
  },
  {
   "cell_type": "code",
   "execution_count": null,
   "id": "0dcb5c1b",
   "metadata": {},
   "outputs": [],
   "source": [
    "# Task 1: Statistical Exploratory Data Analysis"
   ]
  },
  {
   "cell_type": "code",
   "execution_count": null,
   "id": "58a4b701",
   "metadata": {},
   "outputs": [],
   "source": [
    "#1-a Print the details of dataframe"
   ]
  },
  {
   "cell_type": "code",
   "execution_count": null,
   "id": "ecb1bf2a",
   "metadata": {},
   "outputs": [],
   "source": [
    "#1-b Find the number of rows and columns in dataset"
   ]
  },
  {
   "cell_type": "code",
   "execution_count": null,
   "id": "66c63718",
   "metadata": {},
   "outputs": [],
   "source": [
    "#1-c Print descriptive detail of a column in dataset"
   ]
  },
  {
   "cell_type": "code",
   "execution_count": null,
   "id": "ae3d7eff",
   "metadata": {},
   "outputs": [],
   "source": [
    "#1-d Find all the count of unique values for a 'avg_glucose_level' column in dataset"
   ]
  },
  {
   "cell_type": "code",
   "execution_count": null,
   "id": "41ab5324",
   "metadata": {},
   "outputs": [],
   "source": [
    "#1-d Find all percentage of 'Residence_type' for all the values"
   ]
  },
  {
   "cell_type": "code",
   "execution_count": null,
   "id": "3e17b667",
   "metadata": {},
   "outputs": [],
   "source": [
    "# Task 2: Aggregation & Filtering & Rank"
   ]
  },
  {
   "cell_type": "code",
   "execution_count": null,
   "id": "367f1563",
   "metadata": {},
   "outputs": [],
   "source": [
    "#Task 2-a: Find out the gender with largest number of records "
   ]
  },
  {
   "cell_type": "code",
   "execution_count": null,
   "id": "8d3d30a5",
   "metadata": {},
   "outputs": [],
   "source": [
    "#Task 2-b: Find out the total number of Residence_type \"Urban\" who are Male"
   ]
  },
  {
   "cell_type": "code",
   "execution_count": null,
   "id": "33420292",
   "metadata": {},
   "outputs": [],
   "source": [
    "# Group by function for dataframe in R using pipe operator \n",
    "#2-c 1 question #Find the top 10 ages with highest av_glucose_level"
   ]
  },
  {
   "cell_type": "code",
   "execution_count": null,
   "id": "7d9e14ee",
   "metadata": {},
   "outputs": [],
   "source": [
    "#2-d 2nd question top 10 ages with more number of strokes"
   ]
  },
  {
   "cell_type": "code",
   "execution_count": null,
   "id": "bc79fa5f",
   "metadata": {},
   "outputs": [],
   "source": [
    "##TASK 3: VISUALIZATION"
   ]
  },
  {
   "cell_type": "code",
   "execution_count": null,
   "id": "66dfad03",
   "metadata": {},
   "outputs": [],
   "source": [
    "#task 3-a\n",
    "#Create barplot showing gender with count with residence type"
   ]
  },
  {
   "cell_type": "code",
   "execution_count": null,
   "id": "62ea18c4",
   "metadata": {},
   "outputs": [],
   "source": [
    "#task 3-b\n",
    "#Display pie chart for the smoking status data"
   ]
  },
  {
   "cell_type": "code",
   "execution_count": null,
   "id": "481628aa",
   "metadata": {},
   "outputs": [],
   "source": [
    "#Task4 finding an interesting pattern\n",
    "# atleast two visualization with explanation"
   ]
  },
  {
   "cell_type": "markdown",
   "id": "a8b14924",
   "metadata": {},
   "source": [
    "## Report for R\n",
    "Report Explanation\n",
    "Create a report in a pdf file explaining the answer for task 2, 3 and 4<br>\n",
    "Note: the more detailed explanation the better"
   ]
  },
  {
   "cell_type": "markdown",
   "id": "8534a395",
   "metadata": {},
   "source": [
    "## Rubricks\n",
    "Task 1: 8 points<br>\n",
    "Task 2: 40 points<br>\n",
    "Task 3: 20 points<br>\n",
    "Task 4: 20 points<br>\n",
    "Report : 12 points<br>\n",
    "------------------------------------\n",
    "Total : 100 points<br>"
   ]
  }
 ],
 "metadata": {
  "interpreter": {
   "hash": "aee8b7b246df8f9039afb4144a1f6fd8d2ca17a180786b69acc140d282b71a49"
  },
  "kernelspec": {
   "display_name": "R",
   "language": "python",
   "name": "python3"
  },
  "language_info": {
   "codemirror_mode": "r",
   "file_extension": ".r",
   "mimetype": "text/x-r-source",
   "name": "python",
   "pygments_lexer": "r",
   "version": "3.10.2"
  }
 },
 "nbformat": 4,
 "nbformat_minor": 5
}
