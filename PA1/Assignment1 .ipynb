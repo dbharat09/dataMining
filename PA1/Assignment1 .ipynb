{
 "cells": [
  {
   "cell_type": "code",
   "execution_count": 15,
   "metadata": {},
   "outputs": [
    {
     "ename": "TypeError",
     "evalue": "not enough arguments for format string",
     "output_type": "error",
     "traceback": [
      "\u001b[0;31m---------------------------------------------------------------------------\u001b[0m",
      "\u001b[0;31mTypeError\u001b[0m                                 Traceback (most recent call last)",
      "Input \u001b[0;32mIn [15]\u001b[0m, in \u001b[0;36m<module>\u001b[0;34m\u001b[0m\n\u001b[1;32m     22\u001b[0m rows \u001b[38;5;241m=\u001b[39m \u001b[38;5;28mstr\u001b[39m(\u001b[38;5;28mlen\u001b[39m(df_data))\n\u001b[1;32m     23\u001b[0m columns \u001b[38;5;241m=\u001b[39m \u001b[38;5;28mstr\u001b[39m(\u001b[38;5;28mlen\u001b[39m(df_data\u001b[38;5;241m.\u001b[39mcolumns))\n\u001b[0;32m---> 24\u001b[0m \u001b[38;5;28mprint\u001b[39m (\u001b[38;5;124;43m\"\u001b[39;49m\u001b[38;5;124;43mTask 1-b: Number of rows:\u001b[39;49m\u001b[38;5;132;43;01m%s\u001b[39;49;00m\u001b[38;5;124;43m and number of columns:\u001b[39;49m\u001b[38;5;132;43;01m%s\u001b[39;49;00m\u001b[38;5;124;43m\"\u001b[39;49m\u001b[43m \u001b[49m\u001b[38;5;241;43m%\u001b[39;49m\u001b[43m \u001b[49m\u001b[43mrows\u001b[49m \u001b[38;5;241m%\u001b[39m columns)\n",
      "\u001b[0;31mTypeError\u001b[0m: not enough arguments for format string"
     ]
    }
   ],
   "source": [
    "#Array processing\n",
    "import numpy as np\n",
    "#Data analysis, wrangling and common exploratory operations\n",
    "import pandas as pd\n",
    "from pandas import Series, DataFrame\n",
    "from itertools import chain\n",
    "\n",
    "#For visualization. Matplotlib for basic viz and seaborn for more stylish figures\n",
    "import matplotlib.pyplot as plt\n",
    "import seaborn as sns\n",
    "\n",
    "#read the csv file into a Pandas data frame\n",
    "df_data = pd.read_csv('Weatherdataset.csv', encoding='latin1')\n",
    "\n",
    "# #Task 1-a: Print the details of the df_data data frame (information such as number of rows,columns, name of columns, etc)\n",
    "# print (\"Task 1-a: Details of df_data data frame are: \\n\", ) \n",
    "\n",
    "# #return the summary of the data frame \n",
    "# df_data.info()\n",
    "\n",
    "#Task 1-b: Find the number of rows and columns in the df_data data frame.\n",
    "rows = str(len(df_data))\n",
    "columns = str(len(df_data.columns))\n",
    "print (\"Task 1-b: Number of rows:%s and number of columns:%s\" % (rows ,columns)) \n",
    "\n"
   ]
  }
 ],
 "metadata": {
  "interpreter": {
   "hash": "aee8b7b246df8f9039afb4144a1f6fd8d2ca17a180786b69acc140d282b71a49"
  },
  "kernelspec": {
   "display_name": "Python 3.10.2 64-bit",
   "language": "python",
   "name": "python3"
  },
  "language_info": {
   "codemirror_mode": {
    "name": "ipython",
    "version": 3
   },
   "file_extension": ".py",
   "mimetype": "text/x-python",
   "name": "python",
   "nbconvert_exporter": "python",
   "pygments_lexer": "ipython3",
   "version": "3.10.2"
  }
 },
 "nbformat": 4,
 "nbformat_minor": 5
}
